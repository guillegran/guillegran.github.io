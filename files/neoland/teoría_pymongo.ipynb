{
 "cells": [
  {
   "cell_type": "markdown",
   "metadata": {},
   "source": [
    "# MongoDB y Python"
   ]
  },
  {
   "cell_type": "markdown",
   "metadata": {},
   "source": [
    "Para manejar MongoDB desde Python usamos la librería `PyMongo`, que podemos instalar yendo al Anaconda Prompt y escribiendo\n",
    "```\n",
    "conda install pymongo\n",
    "```"
   ]
  },
  {
   "cell_type": "code",
   "execution_count": 1,
   "metadata": {},
   "outputs": [],
   "source": [
    "import pymongo\n",
    "client = pymongo.MongoClient()"
   ]
  },
  {
   "cell_type": "code",
   "execution_count": 2,
   "metadata": {},
   "outputs": [
    {
     "data": {
      "text/plain": [
       "MongoClient(host=['localhost:27017'], document_class=dict, tz_aware=False, connect=True)"
      ]
     },
     "execution_count": 2,
     "metadata": {},
     "output_type": "execute_result"
    }
   ],
   "source": [
    "client"
   ]
  },
  {
   "cell_type": "code",
   "execution_count": 4,
   "metadata": {},
   "outputs": [
    {
     "data": {
      "text/plain": [
       "['Futbol',\n",
       " 'admin',\n",
       " 'business',\n",
       " 'clase',\n",
       " 'cocina',\n",
       " 'config',\n",
       " 'contactos',\n",
       " 'inventory',\n",
       " 'local',\n",
       " 'record_company',\n",
       " 'snake_bnb',\n",
       " 'test']"
      ]
     },
     "execution_count": 4,
     "metadata": {},
     "output_type": "execute_result"
    }
   ],
   "source": [
    "client.list_database_names()"
   ]
  },
  {
   "cell_type": "markdown",
   "metadata": {},
   "source": [
    "Si no están creadas las bases de datos o las colecciones nos las crea automáticamente:"
   ]
  },
  {
   "cell_type": "code",
   "execution_count": 5,
   "metadata": {},
   "outputs": [],
   "source": [
    "inventario = client.inventario"
   ]
  },
  {
   "cell_type": "code",
   "execution_count": 6,
   "metadata": {},
   "outputs": [
    {
     "data": {
      "text/plain": [
       "[]"
      ]
     },
     "execution_count": 6,
     "metadata": {},
     "output_type": "execute_result"
    }
   ],
   "source": [
    "inventario.list_collection_names()"
   ]
  },
  {
   "cell_type": "code",
   "execution_count": 7,
   "metadata": {},
   "outputs": [],
   "source": [
    "inventario2015 = inventario.inventario2015"
   ]
  },
  {
   "cell_type": "code",
   "execution_count": 8,
   "metadata": {},
   "outputs": [
    {
     "data": {
      "text/plain": [
       "Database(MongoClient(host=['localhost:27017'], document_class=dict, tz_aware=False, connect=True), 'inventario')"
      ]
     },
     "execution_count": 8,
     "metadata": {},
     "output_type": "execute_result"
    }
   ],
   "source": [
    "inventario"
   ]
  },
  {
   "cell_type": "code",
   "execution_count": 9,
   "metadata": {},
   "outputs": [
    {
     "data": {
      "text/plain": [
       "Collection(Database(MongoClient(host=['localhost:27017'], document_class=dict, tz_aware=False, connect=True), 'inventario'), 'inventario2015')"
      ]
     },
     "execution_count": 9,
     "metadata": {},
     "output_type": "execute_result"
    }
   ],
   "source": [
    "inventario2015"
   ]
  },
  {
   "cell_type": "code",
   "execution_count": 10,
   "metadata": {},
   "outputs": [
    {
     "data": {
      "text/plain": [
       "['Futbol',\n",
       " 'admin',\n",
       " 'business',\n",
       " 'clase',\n",
       " 'cocina',\n",
       " 'config',\n",
       " 'contactos',\n",
       " 'inventory',\n",
       " 'local',\n",
       " 'record_company',\n",
       " 'snake_bnb',\n",
       " 'test']"
      ]
     },
     "execution_count": 10,
     "metadata": {},
     "output_type": "execute_result"
    }
   ],
   "source": [
    "client.list_database_names()"
   ]
  },
  {
   "cell_type": "code",
   "execution_count": 11,
   "metadata": {},
   "outputs": [
    {
     "data": {
      "text/plain": [
       "[]"
      ]
     },
     "execution_count": 11,
     "metadata": {},
     "output_type": "execute_result"
    }
   ],
   "source": [
    "inventario.list_collection_names()"
   ]
  },
  {
   "cell_type": "code",
   "execution_count": 12,
   "metadata": {},
   "outputs": [
    {
     "data": {
      "text/plain": [
       "<pymongo.results.InsertOneResult at 0x7f2dd1f24748>"
      ]
     },
     "execution_count": 12,
     "metadata": {},
     "output_type": "execute_result"
    }
   ],
   "source": [
    "inventario2015.insert_one({\"producto\":\"vaca\", \"precio\":2})"
   ]
  },
  {
   "cell_type": "code",
   "execution_count": 13,
   "metadata": {},
   "outputs": [
    {
     "data": {
      "text/plain": [
       "['inventario2015']"
      ]
     },
     "execution_count": 13,
     "metadata": {},
     "output_type": "execute_result"
    }
   ],
   "source": [
    "inventario.list_collection_names()"
   ]
  },
  {
   "cell_type": "code",
   "execution_count": 14,
   "metadata": {},
   "outputs": [
    {
     "data": {
      "text/plain": [
       "['Futbol',\n",
       " 'admin',\n",
       " 'business',\n",
       " 'clase',\n",
       " 'cocina',\n",
       " 'config',\n",
       " 'contactos',\n",
       " 'inventario',\n",
       " 'inventory',\n",
       " 'local',\n",
       " 'record_company',\n",
       " 'snake_bnb',\n",
       " 'test']"
      ]
     },
     "execution_count": 14,
     "metadata": {},
     "output_type": "execute_result"
    }
   ],
   "source": [
    "client.list_database_names()"
   ]
  },
  {
   "cell_type": "code",
   "execution_count": 15,
   "metadata": {},
   "outputs": [
    {
     "data": {
      "text/plain": [
       "<pymongo.cursor.Cursor at 0x7f2dd0c88048>"
      ]
     },
     "execution_count": 15,
     "metadata": {},
     "output_type": "execute_result"
    }
   ],
   "source": [
    "inventario2015.find()"
   ]
  },
  {
   "cell_type": "code",
   "execution_count": 16,
   "metadata": {},
   "outputs": [
    {
     "name": "stdout",
     "output_type": "stream",
     "text": [
      "{'_id': ObjectId('5d6cc6ac6dac063a3a9216dd'), 'producto': 'vaca', 'precio': 2}\n"
     ]
    }
   ],
   "source": [
    "for doc in inventario2015.find():\n",
    "    print(doc)"
   ]
  },
  {
   "cell_type": "code",
   "execution_count": 17,
   "metadata": {},
   "outputs": [
    {
     "data": {
      "text/plain": [
       "<pymongo.results.InsertManyResult at 0x7f2de0107748>"
      ]
     },
     "execution_count": 17,
     "metadata": {},
     "output_type": "execute_result"
    }
   ],
   "source": [
    "inventario2015.insert_many([{\"producto\":\"cabra\", \"precio\": 6, \n",
    "                             \"aaa\": \"bbbbbbbbbbbbbbbbbbbbbbbbbbbbbbbbbbbbbbbbbbbbbbbbbbbbbbb\"},\n",
    "                           {\"prod\":\"caca\", \"num\": 23}])"
   ]
  },
  {
   "cell_type": "code",
   "execution_count": 18,
   "metadata": {},
   "outputs": [
    {
     "name": "stdout",
     "output_type": "stream",
     "text": [
      "{'_id': ObjectId('5d6cc6ac6dac063a3a9216dd'), 'producto': 'vaca', 'precio': 2}\n",
      "{'_id': ObjectId('5d6cc79a6dac063a3a9216de'), 'producto': 'cabra', 'precio': 6, 'aaa': 'bbbbbbbbbbbbbbbbbbbbbbbbbbbbbbbbbbbbbbbbbbbbbbbbbbbbbbb'}\n",
      "{'_id': ObjectId('5d6cc79a6dac063a3a9216df'), 'prod': 'caca', 'num': 23}\n"
     ]
    }
   ],
   "source": [
    "for doc in inventario2015.find():\n",
    "    print(doc)"
   ]
  },
  {
   "cell_type": "markdown",
   "metadata": {},
   "source": [
    "Para que nos lo saque \"bonito\" (como el `pretty` del cliente):"
   ]
  },
  {
   "cell_type": "code",
   "execution_count": 19,
   "metadata": {},
   "outputs": [],
   "source": [
    "import pprint"
   ]
  },
  {
   "cell_type": "code",
   "execution_count": 20,
   "metadata": {},
   "outputs": [
    {
     "name": "stdout",
     "output_type": "stream",
     "text": [
      "{'_id': ObjectId('5d6cc6ac6dac063a3a9216dd'), 'precio': 2, 'producto': 'vaca'}\n",
      "{'_id': ObjectId('5d6cc79a6dac063a3a9216de'),\n",
      " 'aaa': 'bbbbbbbbbbbbbbbbbbbbbbbbbbbbbbbbbbbbbbbbbbbbbbbbbbbbbbb',\n",
      " 'precio': 6,\n",
      " 'producto': 'cabra'}\n",
      "{'_id': ObjectId('5d6cc79a6dac063a3a9216df'), 'num': 23, 'prod': 'caca'}\n"
     ]
    }
   ],
   "source": [
    "for doc in inventario2015.find():\n",
    "    pprint.pprint(doc)"
   ]
  },
  {
   "cell_type": "code",
   "execution_count": 22,
   "metadata": {},
   "outputs": [
    {
     "name": "stdout",
     "output_type": "stream",
     "text": [
      "{'_id': ObjectId('5d6cc6ac6dac063a3a9216dd'), 'precio': 2, 'producto': 'vaca'}\n",
      "{'_id': ObjectId('5d6cc79a6dac063a3a9216de'),\n",
      " 'aaa': 'bbbbbbbbbbbbbbbbbbbbbbbbbbbbbbbbbbbbbbbbbbbbbbbbbbbbbbb',\n",
      " 'precio': 6,\n",
      " 'producto': 'cabra'}\n"
     ]
    }
   ],
   "source": [
    "inventario2015.delete_one({\"prod\":\"caca\"})\n",
    "for doc in inventario2015.find():\n",
    "    pprint.pprint(doc)"
   ]
  },
  {
   "cell_type": "code",
   "execution_count": 23,
   "metadata": {},
   "outputs": [
    {
     "data": {
      "text/plain": [
       "<pymongo.results.InsertOneResult at 0x7f2dd0c8a3c8>"
      ]
     },
     "execution_count": 23,
     "metadata": {},
     "output_type": "execute_result"
    }
   ],
   "source": [
    "inventario2015.insert_one({\"producto\":\"vaca\", \"precio\":3, \"peso\": 400})"
   ]
  },
  {
   "cell_type": "code",
   "execution_count": 24,
   "metadata": {},
   "outputs": [
    {
     "name": "stdout",
     "output_type": "stream",
     "text": [
      "{'_id': ObjectId('5d6cc6ac6dac063a3a9216dd'), 'precio': 2, 'producto': 'vaca'}\n",
      "{'_id': ObjectId('5d6cc79a6dac063a3a9216de'),\n",
      " 'aaa': 'bbbbbbbbbbbbbbbbbbbbbbbbbbbbbbbbbbbbbbbbbbbbbbbbbbbbbbb',\n",
      " 'precio': 6,\n",
      " 'producto': 'cabra'}\n",
      "{'_id': ObjectId('5d6cc87c6dac063a3a9216e0'),\n",
      " 'peso': 400,\n",
      " 'precio': 3,\n",
      " 'producto': 'vaca'}\n"
     ]
    }
   ],
   "source": [
    "for doc in inventario2015.find():\n",
    "    pprint.pprint(doc)"
   ]
  },
  {
   "cell_type": "code",
   "execution_count": 25,
   "metadata": {},
   "outputs": [
    {
     "name": "stdout",
     "output_type": "stream",
     "text": [
      "{'_id': ObjectId('5d6cc79a6dac063a3a9216de'),\n",
      " 'aaa': 'bbbbbbbbbbbbbbbbbbbbbbbbbbbbbbbbbbbbbbbbbbbbbbbbbbbbbbb',\n",
      " 'precio': 6,\n",
      " 'producto': 'cabra'}\n"
     ]
    }
   ],
   "source": [
    "inventario2015.delete_many({\"producto\":\"vaca\"})\n",
    "for doc in inventario2015.find():\n",
    "    pprint.pprint(doc)"
   ]
  },
  {
   "cell_type": "code",
   "execution_count": 28,
   "metadata": {},
   "outputs": [
    {
     "data": {
      "text/plain": [
       "1"
      ]
     },
     "execution_count": 28,
     "metadata": {},
     "output_type": "execute_result"
    }
   ],
   "source": [
    "inventario2015.count_documents({})"
   ]
  },
  {
   "cell_type": "markdown",
   "metadata": {},
   "source": [
    "## CRUD"
   ]
  },
  {
   "cell_type": "markdown",
   "metadata": {},
   "source": [
    "### Create"
   ]
  },
  {
   "cell_type": "markdown",
   "metadata": {},
   "source": [
    "Vamos a crear una colección llamada `futbolistas` en nuestra base de datos, en la que guardaremos datos sobre futbolistas."
   ]
  },
  {
   "cell_type": "markdown",
   "metadata": {},
   "source": [
    "Para ello creamos una clase:"
   ]
  },
  {
   "cell_type": "code",
   "execution_count": 30,
   "metadata": {},
   "outputs": [],
   "source": [
    "class Futbolista:\n",
    "    def __init__(self,nombre,apellidos, edad, posicion, internacional):\n",
    "        self.nombre = nombre\n",
    "        self.apellidos = apellidos\n",
    "        self.edad = edad\n",
    "        self.posicion = posicion\n",
    "        self.internacional = internacional"
   ]
  },
  {
   "cell_type": "markdown",
   "metadata": {},
   "source": [
    "Me creo una lista de objetos de la clase `Futbolista`"
   ]
  },
  {
   "cell_type": "code",
   "execution_count": 33,
   "metadata": {},
   "outputs": [],
   "source": [
    "futbolistas = [\n",
    "    Futbolista('Cristiano', 'Ronaldo', 35, ['Delantero'], True),\n",
    "    Futbolista('Antoine', 'Griezmann', 28, ['Delantero'], True),\n",
    "    Futbolista('Pepito', 'Pérez', 23, ['Lateral', 'Central'], False)\n",
    "]"
   ]
  },
  {
   "cell_type": "code",
   "execution_count": 34,
   "metadata": {},
   "outputs": [
    {
     "data": {
      "text/plain": [
       "[<__main__.Futbolista at 0x7f2dd0c094a8>,\n",
       " <__main__.Futbolista at 0x7f2dd0c094e0>,\n",
       " <__main__.Futbolista at 0x7f2dd0c09518>]"
      ]
     },
     "execution_count": 34,
     "metadata": {},
     "output_type": "execute_result"
    }
   ],
   "source": [
    "futbolistas"
   ]
  },
  {
   "cell_type": "markdown",
   "metadata": {},
   "source": [
    "Me defino la base de datos `futbol`"
   ]
  },
  {
   "cell_type": "code",
   "execution_count": 35,
   "metadata": {},
   "outputs": [],
   "source": [
    "db_futbol = client.futbol"
   ]
  },
  {
   "cell_type": "code",
   "execution_count": 36,
   "metadata": {},
   "outputs": [
    {
     "data": {
      "text/plain": [
       "Database(MongoClient(host=['localhost:27017'], document_class=dict, tz_aware=False, connect=True), 'futbol')"
      ]
     },
     "execution_count": 36,
     "metadata": {},
     "output_type": "execute_result"
    }
   ],
   "source": [
    "db_futbol"
   ]
  },
  {
   "cell_type": "code",
   "execution_count": 38,
   "metadata": {},
   "outputs": [],
   "source": [
    "col_futbolistas = db_futbol.futbolistas"
   ]
  },
  {
   "cell_type": "code",
   "execution_count": 39,
   "metadata": {},
   "outputs": [
    {
     "data": {
      "text/plain": [
       "Collection(Database(MongoClient(host=['localhost:27017'], document_class=dict, tz_aware=False, connect=True), 'futbol'), 'futbolistas')"
      ]
     },
     "execution_count": 39,
     "metadata": {},
     "output_type": "execute_result"
    }
   ],
   "source": [
    "col_futbolistas"
   ]
  },
  {
   "cell_type": "markdown",
   "metadata": {},
   "source": [
    "Voy a insertar los datos de los futbolistas:"
   ]
  },
  {
   "cell_type": "markdown",
   "metadata": {},
   "source": [
    "Para poder darle la información a Mongo, voy a definir en la clase `Futbolista` un método que nos de la información de un objeto como un JSON (como un diccionario):"
   ]
  },
  {
   "cell_type": "code",
   "execution_count": 41,
   "metadata": {},
   "outputs": [],
   "source": [
    "class Futbolista:\n",
    "    def __init__(self,nombre,apellidos, edad, posicion, internacional):\n",
    "        self.nombre = nombre\n",
    "        self.apellidos = apellidos\n",
    "        self.edad = edad\n",
    "        self.posicion = posicion\n",
    "        self.internacional = internacional\n",
    "    \n",
    "    def toJSON(self):\n",
    "        documento = {\n",
    "            \"nombre\": self.nombre,\n",
    "            \"apellidos\": self.apellidos,\n",
    "            \"edad\": self.edad,\n",
    "            \"posicion\": self.posicion,\n",
    "            \"internacional\": self.internacional\n",
    "        }\n",
    "        return documento"
   ]
  },
  {
   "cell_type": "code",
   "execution_count": 44,
   "metadata": {},
   "outputs": [
    {
     "data": {
      "text/plain": [
       "<__main__.Futbolista at 0x7f2dd0c1da20>"
      ]
     },
     "execution_count": 44,
     "metadata": {},
     "output_type": "execute_result"
    }
   ],
   "source": [
    "messi = Futbolista('Leo','Messi', 32, ['Delantero'], True)\n",
    "messi"
   ]
  },
  {
   "cell_type": "code",
   "execution_count": 45,
   "metadata": {},
   "outputs": [
    {
     "data": {
      "text/plain": [
       "{'nombre': 'Leo',\n",
       " 'apellidos': 'Messi',\n",
       " 'edad': 32,\n",
       " 'posicion': ['Delantero'],\n",
       " 'internacional': True}"
      ]
     },
     "execution_count": 45,
     "metadata": {},
     "output_type": "execute_result"
    }
   ],
   "source": [
    "messi.toJSON()"
   ]
  },
  {
   "cell_type": "code",
   "execution_count": 46,
   "metadata": {},
   "outputs": [
    {
     "data": {
      "text/plain": [
       "Collection(Database(MongoClient(host=['localhost:27017'], document_class=dict, tz_aware=False, connect=True), 'futbol'), 'futbolistas')"
      ]
     },
     "execution_count": 46,
     "metadata": {},
     "output_type": "execute_result"
    }
   ],
   "source": [
    "col_futbolistas"
   ]
  },
  {
   "cell_type": "code",
   "execution_count": 49,
   "metadata": {},
   "outputs": [
    {
     "data": {
      "text/plain": [
       "<pymongo.results.InsertOneResult at 0x7f2dd1f3b288>"
      ]
     },
     "execution_count": 49,
     "metadata": {},
     "output_type": "execute_result"
    }
   ],
   "source": [
    "col_futbolistas.insert_one(messi.toJSON())"
   ]
  },
  {
   "cell_type": "code",
   "execution_count": 42,
   "metadata": {},
   "outputs": [],
   "source": [
    "futbolistas = [\n",
    "    Futbolista('Cristiano', 'Ronaldo', 35, ['Delantero'], True),\n",
    "    Futbolista('Antoine', 'Griezmann', 28, ['Delantero'], True),\n",
    "    Futbolista('Pepito', 'Pérez', 23, ['Lateral', 'Central'], False)\n",
    "]"
   ]
  },
  {
   "cell_type": "markdown",
   "metadata": {},
   "source": [
    "Puedo insertar varios documentos a la vez con `insert_many`, pero como en este caso previamente los tengo que convertir, lo haré con un bucle:"
   ]
  },
  {
   "cell_type": "code",
   "execution_count": 50,
   "metadata": {},
   "outputs": [],
   "source": [
    "for futbolista in futbolistas:\n",
    "    col_futbolistas.insert_one(futbolista.toJSON())"
   ]
  },
  {
   "cell_type": "markdown",
   "metadata": {},
   "source": [
    "### Read"
   ]
  },
  {
   "cell_type": "markdown",
   "metadata": {},
   "source": [
    "Hagamos una consulta de la base de datos:"
   ]
  },
  {
   "cell_type": "code",
   "execution_count": 51,
   "metadata": {},
   "outputs": [
    {
     "name": "stdout",
     "output_type": "stream",
     "text": [
      "{'_id': ObjectId('5d6ccbd56dac063a3a9216e2'),\n",
      " 'apellidos': 'Messi',\n",
      " 'edad': 32,\n",
      " 'internacional': True,\n",
      " 'nombre': 'Leo',\n",
      " 'posicion': ['Delantero']}\n",
      "{'_id': ObjectId('5d6ccc566dac063a3a9216e3'),\n",
      " 'apellidos': 'Ronaldo',\n",
      " 'edad': 35,\n",
      " 'internacional': True,\n",
      " 'nombre': 'Cristiano',\n",
      " 'posicion': ['Delantero']}\n",
      "{'_id': ObjectId('5d6ccc566dac063a3a9216e4'),\n",
      " 'apellidos': 'Griezmann',\n",
      " 'edad': 28,\n",
      " 'internacional': True,\n",
      " 'nombre': 'Antoine',\n",
      " 'posicion': ['Delantero']}\n",
      "{'_id': ObjectId('5d6ccc566dac063a3a9216e5'),\n",
      " 'apellidos': 'Pérez',\n",
      " 'edad': 23,\n",
      " 'internacional': False,\n",
      " 'nombre': 'Pepito',\n",
      " 'posicion': ['Lateral', 'Central']}\n"
     ]
    }
   ],
   "source": [
    "cursor = col_futbolistas.find()\n",
    "for doc in cursor:\n",
    "    pprint.pprint(doc)"
   ]
  },
  {
   "cell_type": "markdown",
   "metadata": {},
   "source": [
    "En este caso, como los campos de los distintos documentos de la colección coinciden, tiene sentido sacarlo como una tabla:"
   ]
  },
  {
   "cell_type": "code",
   "execution_count": 52,
   "metadata": {},
   "outputs": [
    {
     "name": "stdout",
     "output_type": "stream",
     "text": [
      "Nombre     Apellidos      Edad  Posición                Internacional\n",
      "---------  -----------  ------  ----------------------  ---------------\n",
      "Leo        Messi            32  ['Delantero']           True\n",
      "Cristiano  Ronaldo          35  ['Delantero']           True\n",
      "Antoine    Griezmann        28  ['Delantero']           True\n",
      "Pepito     Pérez            23  ['Lateral', 'Central']  False\n"
     ]
    }
   ],
   "source": [
    "from tabulate import tabulate\n",
    "cursor = col_futbolistas.find()\n",
    "consulta=[]\n",
    "for doc in cursor:\n",
    "    consulta.append([doc['nombre'],doc['apellidos'],doc['edad'],doc['posicion'],doc['internacional']])\n",
    "    \n",
    "print(tabulate(consulta, headers=['Nombre','Apellidos','Edad', 'Posición', 'Internacional']))"
   ]
  },
  {
   "cell_type": "markdown",
   "metadata": {},
   "source": [
    "### Update"
   ]
  },
  {
   "cell_type": "markdown",
   "metadata": {},
   "source": [
    "A los que tengan más de 30 años les voy a añadir 100:"
   ]
  },
  {
   "cell_type": "code",
   "execution_count": 53,
   "metadata": {},
   "outputs": [
    {
     "data": {
      "text/plain": [
       "<pymongo.results.UpdateResult at 0x7f2dd0c6dd48>"
      ]
     },
     "execution_count": 53,
     "metadata": {},
     "output_type": "execute_result"
    }
   ],
   "source": [
    "# update_one solo se lo hace a uno\n",
    "col_futbolistas.update_one({\"edad\":{\"$gt\":30}},{\"$inc\":{\"edad\":100}}, upsert=False)"
   ]
  },
  {
   "cell_type": "code",
   "execution_count": 54,
   "metadata": {},
   "outputs": [
    {
     "name": "stdout",
     "output_type": "stream",
     "text": [
      "Nombre     Apellidos      Edad  Posición                Internacional\n",
      "---------  -----------  ------  ----------------------  ---------------\n",
      "Leo        Messi           132  ['Delantero']           True\n",
      "Cristiano  Ronaldo          35  ['Delantero']           True\n",
      "Antoine    Griezmann        28  ['Delantero']           True\n",
      "Pepito     Pérez            23  ['Lateral', 'Central']  False\n"
     ]
    }
   ],
   "source": [
    "from tabulate import tabulate\n",
    "cursor = col_futbolistas.find()\n",
    "consulta=[]\n",
    "for doc in cursor:\n",
    "    consulta.append([doc['nombre'],doc['apellidos'],doc['edad'],doc['posicion'],doc['internacional']])\n",
    "    \n",
    "print(tabulate(consulta, headers=['Nombre','Apellidos','Edad', 'Posición', 'Internacional']))"
   ]
  },
  {
   "cell_type": "code",
   "execution_count": 55,
   "metadata": {},
   "outputs": [
    {
     "data": {
      "text/plain": [
       "<pymongo.results.UpdateResult at 0x7f2dd0c0bd88>"
      ]
     },
     "execution_count": 55,
     "metadata": {},
     "output_type": "execute_result"
    }
   ],
   "source": [
    "# update_many se lo hace a todos los que cumplen la condición\n",
    "col_futbolistas.update_many({\"edad\":{\"$gt\":30}},{\"$inc\":{\"edad\":100}}, upsert=False)"
   ]
  },
  {
   "cell_type": "code",
   "execution_count": 56,
   "metadata": {},
   "outputs": [
    {
     "name": "stdout",
     "output_type": "stream",
     "text": [
      "Nombre     Apellidos      Edad  Posición                Internacional\n",
      "---------  -----------  ------  ----------------------  ---------------\n",
      "Leo        Messi           232  ['Delantero']           True\n",
      "Cristiano  Ronaldo         135  ['Delantero']           True\n",
      "Antoine    Griezmann        28  ['Delantero']           True\n",
      "Pepito     Pérez            23  ['Lateral', 'Central']  False\n"
     ]
    }
   ],
   "source": [
    "from tabulate import tabulate\n",
    "cursor = col_futbolistas.find()\n",
    "consulta=[]\n",
    "for doc in cursor:\n",
    "    consulta.append([doc['nombre'],doc['apellidos'],doc['edad'],doc['posicion'],doc['internacional']])\n",
    "    \n",
    "print(tabulate(consulta, headers=['Nombre','Apellidos','Edad', 'Posición', 'Internacional']))"
   ]
  },
  {
   "cell_type": "markdown",
   "metadata": {},
   "source": [
    "### Delete"
   ]
  },
  {
   "cell_type": "markdown",
   "metadata": {},
   "source": [
    "Borramos los futbolistas no internacionales"
   ]
  },
  {
   "cell_type": "code",
   "execution_count": 59,
   "metadata": {},
   "outputs": [
    {
     "data": {
      "text/plain": [
       "<pymongo.results.DeleteResult at 0x7f2dd0b8ae48>"
      ]
     },
     "execution_count": 59,
     "metadata": {},
     "output_type": "execute_result"
    }
   ],
   "source": [
    "col_futbolistas.delete_one({\"internacional\":False}) \n",
    "# delete_one solo quita uno"
   ]
  },
  {
   "cell_type": "code",
   "execution_count": 60,
   "metadata": {},
   "outputs": [
    {
     "name": "stdout",
     "output_type": "stream",
     "text": [
      "Nombre     Apellidos      Edad  Posición       Internacional\n",
      "---------  -----------  ------  -------------  ---------------\n",
      "Leo        Messi           232  ['Delantero']  True\n",
      "Cristiano  Ronaldo         135  ['Delantero']  True\n",
      "Antoine    Griezmann        28  ['Delantero']  True\n"
     ]
    }
   ],
   "source": [
    "from tabulate import tabulate\n",
    "cursor = col_futbolistas.find()\n",
    "consulta=[]\n",
    "for doc in cursor:\n",
    "    consulta.append([doc['nombre'],doc['apellidos'],doc['edad'],doc['posicion'],doc['internacional']])\n",
    "    \n",
    "print(tabulate(consulta, headers=['Nombre','Apellidos','Edad', 'Posición', 'Internacional']))"
   ]
  },
  {
   "cell_type": "markdown",
   "metadata": {},
   "source": [
    "Si queremos borrar todos los que cumplen cierta condición usamos `delete_many`"
   ]
  },
  {
   "cell_type": "markdown",
   "metadata": {},
   "source": [
    "## Otro ejemplo (consultas avanzadas)\n",
    "Vamos a hacer una base de datos de recetas:"
   ]
  },
  {
   "cell_type": "code",
   "execution_count": 63,
   "metadata": {},
   "outputs": [
    {
     "data": {
      "text/plain": [
       "<pymongo.results.InsertOneResult at 0x7f2dd0ba0b48>"
      ]
     },
     "execution_count": 63,
     "metadata": {},
     "output_type": "execute_result"
    }
   ],
   "source": [
    "recetas = client.cocina.recetas\n",
    "recetas.insert_one({\"titulo\": \"Tortilla de patatas\",\n",
    " \"tiempo\": 45,\n",
    " \"seccion\": \"Principales\",\n",
    " \"dificultad\": 6,\n",
    " \"ingredientes\": [\"patatas\", \"cebolla\", \"huevo\", \"sal\", \"aceite olive\"], \n",
    " \"subrecetas\": {},\n",
    " \"receta\": {\"Paso 1\": \"Cocer en aceita las patatas y cebollas peladas y cortadas\",\n",
    "            \"Paso 2\": \"Mezclar con el huevo\",\n",
    "            \"Paso 3\": \"Cuajarlo todo a fuego bajo\"}\n",
    "})\n",
    "\n",
    "recetas.insert_one({\"titulo\": \"Tortilla de patatas2\",\n",
    " \"tiempo\": 45,\n",
    " \"seccion\": \"Principales\",\n",
    " \"dificultad\": 6,\n",
    " \"ingredientes\": [\"patatas\", \"cebolla\", \"huevo\", \"sal\", \"aceite olive\"], \n",
    " \"receta\": {\"Paso 1\": \"Cocer en aceita las patatas y cebollas peladas y cortadas\",\n",
    "            \"Paso 2\": \"Mezclar con el huevo\",}\n",
    "})\n",
    "\n",
    "recetas.insert_one({\"titulo\": \"Pasta boloñesa\",\n",
    " \"tiempo\": 20,\n",
    " \"seccion\": \"Principales\",\n",
    " \"dificultad\": 3,\n",
    " \"ingredientes\": [\"pasta\", \"tomate triturado\", \"cebolla\", \"carne picada\"], \n",
    " \"subrecetas\": {\"Pasta\": {\"ingredientes\": [\"pasta\"],\n",
    "                          \"receta\": {\"Paso 1\": \"Hervir la pasta 10 minutos\", \n",
    "                                     \"Paso 2\": \"Escurrir y reservar\"}}},\n",
    " \"receta\": {\"Paso 1\": \"Cortar y freir la cebolla e incorporar al carne picada\",\n",
    "            \"Paso 2\": \"Incorporar el tomate triturado y cocinarlo todo junto\",\n",
    "            \"Paso 3\": \"Una vez cocinado, mezclar con la pasta (subreceta)\"},\n",
    " })"
   ]
  },
  {
   "cell_type": "code",
   "execution_count": 64,
   "metadata": {},
   "outputs": [
    {
     "name": "stdout",
     "output_type": "stream",
     "text": [
      "{'_id': ObjectId('5d6cd04e6dac063a3a9216e9'),\n",
      " 'dificultad': 6,\n",
      " 'ingredientes': ['patatas', 'cebolla', 'huevo', 'sal', 'aceite olive'],\n",
      " 'receta': {'Paso 1': 'Cocer en aceita las patatas y cebollas peladas y '\n",
      "                      'cortadas',\n",
      "            'Paso 2': 'Mezclar con el huevo',\n",
      "            'Paso 3': 'Cuajarlo todo a fuego bajo'},\n",
      " 'seccion': 'Principales',\n",
      " 'subrecetas': {},\n",
      " 'tiempo': 45,\n",
      " 'titulo': 'Tortilla de patatas'}\n",
      "{'_id': ObjectId('5d6cd04e6dac063a3a9216ea'),\n",
      " 'dificultad': 6,\n",
      " 'ingredientes': ['patatas', 'cebolla', 'huevo', 'sal', 'aceite olive'],\n",
      " 'receta': {'Paso 1': 'Cocer en aceita las patatas y cebollas peladas y '\n",
      "                      'cortadas',\n",
      "            'Paso 2': 'Mezclar con el huevo'},\n",
      " 'seccion': 'Principales',\n",
      " 'tiempo': 45,\n",
      " 'titulo': 'Tortilla de patatas2'}\n",
      "{'_id': ObjectId('5d6cd04e6dac063a3a9216eb'),\n",
      " 'dificultad': 3,\n",
      " 'ingredientes': ['pasta', 'tomate triturado', 'cebolla', 'carne picada'],\n",
      " 'receta': {'Paso 1': 'Cortar y freir la cebolla e incorporar al carne picada',\n",
      "            'Paso 2': 'Incorporar el tomate triturado y cocinarlo todo junto',\n",
      "            'Paso 3': 'Una vez cocinado, mezclar con la pasta (subreceta)'},\n",
      " 'seccion': 'Principales',\n",
      " 'subrecetas': {'Pasta': {'ingredientes': ['pasta'],\n",
      "                          'receta': {'Paso 1': 'Hervir la pasta 10 minutos',\n",
      "                                     'Paso 2': 'Escurrir y reservar'}}},\n",
      " 'tiempo': 20,\n",
      " 'titulo': 'Pasta boloñesa'}\n"
     ]
    }
   ],
   "source": [
    "for doc in recetas.find():\n",
    "    pprint.pprint(doc)"
   ]
  },
  {
   "cell_type": "markdown",
   "metadata": {},
   "source": [
    "Las consultas van como en la terminal:\n",
    "https://docs.mongodb.com/manual/reference/operator/query/"
   ]
  },
  {
   "cell_type": "code",
   "execution_count": 65,
   "metadata": {},
   "outputs": [
    {
     "name": "stdout",
     "output_type": "stream",
     "text": [
      "{'_id': ObjectId('5d6cd04e6dac063a3a9216eb'),\n",
      " 'dificultad': 3,\n",
      " 'ingredientes': ['pasta', 'tomate triturado', 'cebolla', 'carne picada'],\n",
      " 'receta': {'Paso 1': 'Cortar y freir la cebolla e incorporar al carne picada',\n",
      "            'Paso 2': 'Incorporar el tomate triturado y cocinarlo todo junto',\n",
      "            'Paso 3': 'Una vez cocinado, mezclar con la pasta (subreceta)'},\n",
      " 'seccion': 'Principales',\n",
      " 'subrecetas': {'Pasta': {'ingredientes': ['pasta'],\n",
      "                          'receta': {'Paso 1': 'Hervir la pasta 10 minutos',\n",
      "                                     'Paso 2': 'Escurrir y reservar'}}},\n",
      " 'tiempo': 20,\n",
      " 'titulo': 'Pasta boloñesa'}\n"
     ]
    }
   ],
   "source": [
    "cursor = recetas.find({\"tiempo\": {\"$lt\":45}})\n",
    "for doc in cursor:\n",
    "    pprint.pprint(doc)"
   ]
  },
  {
   "cell_type": "code",
   "execution_count": 66,
   "metadata": {},
   "outputs": [
    {
     "name": "stdout",
     "output_type": "stream",
     "text": [
      "{'_id': ObjectId('5d6cd04e6dac063a3a9216eb'), 'titulo': 'Pasta boloñesa'}\n"
     ]
    }
   ],
   "source": [
    "# Si quisiera que solo me sacase el _id y un campo concreto\n",
    "cursor = recetas.find({\"tiempo\": {\"$lt\":45}},{\"titulo\":True})\n",
    "for doc in cursor:\n",
    "    pprint.pprint(doc)"
   ]
  },
  {
   "cell_type": "code",
   "execution_count": 67,
   "metadata": {},
   "outputs": [
    {
     "name": "stdout",
     "output_type": "stream",
     "text": [
      "Pasta boloñesa\n"
     ]
    }
   ],
   "source": [
    "# Si quisiera que solo me sacase el _id y un campo concreto\n",
    "cursor = recetas.find({\"tiempo\": {\"$lt\":45}},{\"titulo\":True})\n",
    "for doc in cursor:\n",
    "    print(doc['titulo'])"
   ]
  },
  {
   "cell_type": "code",
   "execution_count": 68,
   "metadata": {},
   "outputs": [
    {
     "name": "stdout",
     "output_type": "stream",
     "text": [
      "{'_id': ObjectId('5d6cd04e6dac063a3a9216e9'), 'titulo': 'Tortilla de patatas'}\n",
      "{'_id': ObjectId('5d6cd04e6dac063a3a9216ea'), 'titulo': 'Tortilla de patatas2'}\n"
     ]
    }
   ],
   "source": [
    "cursor = recetas.find({\"dificultad\": {\"$gt\":5}},{\"titulo\":True})\n",
    "for doc in cursor:\n",
    "    pprint.pprint(doc)"
   ]
  },
  {
   "cell_type": "code",
   "execution_count": 69,
   "metadata": {},
   "outputs": [
    {
     "name": "stdout",
     "output_type": "stream",
     "text": [
      "{'_id': ObjectId('5d6cd04e6dac063a3a9216e9'), 'titulo': 'Tortilla de patatas'}\n",
      "{'_id': ObjectId('5d6cd04e6dac063a3a9216ea'), 'titulo': 'Tortilla de patatas2'}\n",
      "{'_id': ObjectId('5d6cd04e6dac063a3a9216eb'), 'titulo': 'Pasta boloñesa'}\n"
     ]
    }
   ],
   "source": [
    "cursor = recetas.find({\"seccion\": {\"$in\":[\"Postres\",\"Principales\"]}},{\"titulo\":True})\n",
    "for doc in cursor:\n",
    "    pprint.pprint(doc)"
   ]
  },
  {
   "cell_type": "code",
   "execution_count": 70,
   "metadata": {},
   "outputs": [
    {
     "name": "stdout",
     "output_type": "stream",
     "text": [
      "{'_id': ObjectId('5d6cd04e6dac063a3a9216e9'), 'titulo': 'Tortilla de patatas'}\n",
      "{'_id': ObjectId('5d6cd04e6dac063a3a9216ea'), 'titulo': 'Tortilla de patatas2'}\n"
     ]
    }
   ],
   "source": [
    "# Buscar un ingrediente\n",
    "cursor = recetas.find({\"ingredientes\": \"patatas\"},{\"titulo\":True})\n",
    "for doc in cursor:\n",
    "    pprint.pprint(doc)"
   ]
  },
  {
   "cell_type": "code",
   "execution_count": 71,
   "metadata": {},
   "outputs": [
    {
     "name": "stdout",
     "output_type": "stream",
     "text": [
      "{'_id': ObjectId('5d6cd04e6dac063a3a9216ea'), 'titulo': 'Tortilla de patatas2'}\n"
     ]
    }
   ],
   "source": [
    "# Puedo buscar las que no tengan subrecetas (campo no definido)\n",
    "cursor = recetas.find({\"subrecetas\": None},{\"titulo\":True})\n",
    "for doc in cursor:\n",
    "    pprint.pprint(doc)"
   ]
  },
  {
   "cell_type": "code",
   "execution_count": 72,
   "metadata": {},
   "outputs": [
    {
     "name": "stdout",
     "output_type": "stream",
     "text": [
      "{'_id': ObjectId('5d6cd04e6dac063a3a9216e9'), 'titulo': 'Tortilla de patatas'}\n",
      "{'_id': ObjectId('5d6cd04e6dac063a3a9216ea'), 'titulo': 'Tortilla de patatas2'}\n"
     ]
    }
   ],
   "source": [
    "# Puedo buscar las que no tengan subrecetas (campo no definido o vacío)\n",
    "cursor = recetas.find({'$or':[{\"subrecetas\": None},{\"subrecetas\":{}}]},{\"titulo\":True})\n",
    "for doc in cursor:\n",
    "    pprint.pprint(doc)"
   ]
  },
  {
   "cell_type": "code",
   "execution_count": 73,
   "metadata": {},
   "outputs": [
    {
     "name": "stdout",
     "output_type": "stream",
     "text": [
      "{'_id': ObjectId('5d6cd04e6dac063a3a9216e9'), 'titulo': 'Tortilla de patatas'}\n",
      "{'_id': ObjectId('5d6cd04e6dac063a3a9216ea'), 'titulo': 'Tortilla de patatas2'}\n"
     ]
    }
   ],
   "source": [
    "# Empiezan por T\n",
    "cursor = recetas.find({'titulo':{\"$regex\":\"T.*\"}},{\"titulo\":True})\n",
    "for doc in cursor:\n",
    "    pprint.pprint(doc)"
   ]
  },
  {
   "cell_type": "code",
   "execution_count": 75,
   "metadata": {},
   "outputs": [
    {
     "name": "stdout",
     "output_type": "stream",
     "text": [
      "{'_id': ObjectId('5d6cd04e6dac063a3a9216eb'), 'titulo': 'Pasta boloñesa'}\n"
     ]
    }
   ],
   "source": [
    "# Contienen la P\n",
    "cursor = recetas.find({'titulo':{\"$regex\":\".*P.*\"}},{\"titulo\":True})\n",
    "for doc in cursor:\n",
    "    pprint.pprint(doc)"
   ]
  },
  {
   "cell_type": "code",
   "execution_count": 76,
   "metadata": {},
   "outputs": [
    {
     "name": "stdout",
     "output_type": "stream",
     "text": [
      "{'_id': ObjectId('5d6cd04e6dac063a3a9216e9'), 'titulo': 'Tortilla de patatas'}\n",
      "{'_id': ObjectId('5d6cd04e6dac063a3a9216ea'), 'titulo': 'Tortilla de patatas2'}\n"
     ]
    }
   ],
   "source": [
    "# Contienen la p\n",
    "cursor = recetas.find({'titulo':{\"$regex\":\".*p.*\"}},{\"titulo\":True})\n",
    "for doc in cursor:\n",
    "    pprint.pprint(doc)"
   ]
  },
  {
   "cell_type": "code",
   "execution_count": 77,
   "metadata": {},
   "outputs": [
    {
     "name": "stdout",
     "output_type": "stream",
     "text": [
      "{'_id': ObjectId('5d6cd04e6dac063a3a9216e9'), 'titulo': 'Tortilla de patatas'}\n",
      "{'_id': ObjectId('5d6cd04e6dac063a3a9216eb'), 'titulo': 'Pasta boloñesa'}\n"
     ]
    }
   ],
   "source": [
    "# Contienen un paso 3\n",
    "cursor = recetas.find({'receta.Paso 3':{\"$exists\":True}},{\"titulo\":True})\n",
    "for doc in cursor:\n",
    "    pprint.pprint(doc)"
   ]
  },
  {
   "cell_type": "markdown",
   "metadata": {},
   "source": [
    "## Generar una BD aleatoria"
   ]
  },
  {
   "cell_type": "code",
   "execution_count": 78,
   "metadata": {},
   "outputs": [
    {
     "name": "stdout",
     "output_type": "stream",
     "text": [
      "Created 1 of 500 as 5d6cd49a6dac063a3a9216ec\n",
      "Created 2 of 500 as 5d6cd49a6dac063a3a9216ed\n",
      "Created 3 of 500 as 5d6cd49a6dac063a3a9216ee\n",
      "Created 4 of 500 as 5d6cd49a6dac063a3a9216ef\n",
      "Created 5 of 500 as 5d6cd49a6dac063a3a9216f0\n",
      "Created 6 of 500 as 5d6cd49a6dac063a3a9216f1\n",
      "Created 7 of 500 as 5d6cd49a6dac063a3a9216f2\n",
      "Created 8 of 500 as 5d6cd49a6dac063a3a9216f3\n",
      "Created 9 of 500 as 5d6cd49a6dac063a3a9216f4\n",
      "Created 10 of 500 as 5d6cd49a6dac063a3a9216f5\n",
      "Created 11 of 500 as 5d6cd49a6dac063a3a9216f6\n",
      "Created 12 of 500 as 5d6cd49a6dac063a3a9216f7\n",
      "Created 13 of 500 as 5d6cd49a6dac063a3a9216f8\n",
      "Created 14 of 500 as 5d6cd49a6dac063a3a9216f9\n",
      "Created 15 of 500 as 5d6cd49a6dac063a3a9216fa\n",
      "Created 16 of 500 as 5d6cd49a6dac063a3a9216fb\n",
      "Created 17 of 500 as 5d6cd49a6dac063a3a9216fc\n",
      "Created 18 of 500 as 5d6cd49a6dac063a3a9216fd\n",
      "Created 19 of 500 as 5d6cd49a6dac063a3a9216fe\n",
      "Created 20 of 500 as 5d6cd49a6dac063a3a9216ff\n",
      "Created 21 of 500 as 5d6cd49a6dac063a3a921700\n",
      "Created 22 of 500 as 5d6cd49a6dac063a3a921701\n",
      "Created 23 of 500 as 5d6cd49a6dac063a3a921702\n",
      "Created 24 of 500 as 5d6cd49a6dac063a3a921703\n",
      "Created 25 of 500 as 5d6cd49a6dac063a3a921704\n",
      "Created 26 of 500 as 5d6cd49a6dac063a3a921705\n",
      "Created 27 of 500 as 5d6cd49a6dac063a3a921706\n",
      "Created 28 of 500 as 5d6cd49a6dac063a3a921707\n",
      "Created 29 of 500 as 5d6cd49a6dac063a3a921708\n",
      "Created 30 of 500 as 5d6cd49a6dac063a3a921709\n",
      "Created 31 of 500 as 5d6cd49a6dac063a3a92170a\n",
      "Created 32 of 500 as 5d6cd49a6dac063a3a92170b\n",
      "Created 33 of 500 as 5d6cd49a6dac063a3a92170c\n",
      "Created 34 of 500 as 5d6cd49a6dac063a3a92170d\n",
      "Created 35 of 500 as 5d6cd49a6dac063a3a92170e\n",
      "Created 36 of 500 as 5d6cd49a6dac063a3a92170f\n",
      "Created 37 of 500 as 5d6cd49a6dac063a3a921710\n",
      "Created 38 of 500 as 5d6cd49a6dac063a3a921711\n",
      "Created 39 of 500 as 5d6cd49a6dac063a3a921712\n",
      "Created 40 of 500 as 5d6cd49a6dac063a3a921713\n",
      "Created 41 of 500 as 5d6cd49a6dac063a3a921714\n",
      "Created 42 of 500 as 5d6cd49a6dac063a3a921715\n",
      "Created 43 of 500 as 5d6cd49a6dac063a3a921716\n",
      "Created 44 of 500 as 5d6cd49a6dac063a3a921717\n",
      "Created 45 of 500 as 5d6cd49a6dac063a3a921718\n",
      "Created 46 of 500 as 5d6cd49a6dac063a3a921719\n",
      "Created 47 of 500 as 5d6cd49a6dac063a3a92171a\n",
      "Created 48 of 500 as 5d6cd49a6dac063a3a92171b\n",
      "Created 49 of 500 as 5d6cd49a6dac063a3a92171c\n",
      "Created 50 of 500 as 5d6cd49a6dac063a3a92171d\n",
      "Created 51 of 500 as 5d6cd49a6dac063a3a92171e\n",
      "Created 52 of 500 as 5d6cd49a6dac063a3a92171f\n",
      "Created 53 of 500 as 5d6cd49a6dac063a3a921720\n",
      "Created 54 of 500 as 5d6cd49a6dac063a3a921721\n",
      "Created 55 of 500 as 5d6cd49a6dac063a3a921722\n",
      "Created 56 of 500 as 5d6cd49a6dac063a3a921723\n",
      "Created 57 of 500 as 5d6cd49a6dac063a3a921724\n",
      "Created 58 of 500 as 5d6cd49a6dac063a3a921725\n",
      "Created 59 of 500 as 5d6cd49a6dac063a3a921726\n",
      "Created 60 of 500 as 5d6cd49a6dac063a3a921727\n",
      "Created 61 of 500 as 5d6cd49a6dac063a3a921728\n",
      "Created 62 of 500 as 5d6cd49a6dac063a3a921729\n",
      "Created 63 of 500 as 5d6cd49a6dac063a3a92172a\n",
      "Created 64 of 500 as 5d6cd49a6dac063a3a92172b\n",
      "Created 65 of 500 as 5d6cd49a6dac063a3a92172c\n",
      "Created 66 of 500 as 5d6cd49a6dac063a3a92172d\n",
      "Created 67 of 500 as 5d6cd49a6dac063a3a92172e\n",
      "Created 68 of 500 as 5d6cd49a6dac063a3a92172f\n",
      "Created 69 of 500 as 5d6cd49a6dac063a3a921730\n",
      "Created 70 of 500 as 5d6cd49a6dac063a3a921731\n",
      "Created 71 of 500 as 5d6cd49a6dac063a3a921732\n",
      "Created 72 of 500 as 5d6cd49a6dac063a3a921733\n",
      "Created 73 of 500 as 5d6cd49a6dac063a3a921734\n",
      "Created 74 of 500 as 5d6cd49a6dac063a3a921735\n",
      "Created 75 of 500 as 5d6cd49a6dac063a3a921736\n",
      "Created 76 of 500 as 5d6cd49a6dac063a3a921737\n",
      "Created 77 of 500 as 5d6cd49a6dac063a3a921738\n",
      "Created 78 of 500 as 5d6cd49a6dac063a3a921739\n",
      "Created 79 of 500 as 5d6cd49a6dac063a3a92173a\n",
      "Created 80 of 500 as 5d6cd49a6dac063a3a92173b\n",
      "Created 81 of 500 as 5d6cd49a6dac063a3a92173c\n",
      "Created 82 of 500 as 5d6cd49a6dac063a3a92173d\n",
      "Created 83 of 500 as 5d6cd49a6dac063a3a92173e\n",
      "Created 84 of 500 as 5d6cd49a6dac063a3a92173f\n",
      "Created 85 of 500 as 5d6cd49a6dac063a3a921740\n",
      "Created 86 of 500 as 5d6cd49a6dac063a3a921741\n",
      "Created 87 of 500 as 5d6cd49a6dac063a3a921742\n",
      "Created 88 of 500 as 5d6cd49a6dac063a3a921743\n",
      "Created 89 of 500 as 5d6cd49a6dac063a3a921744\n",
      "Created 90 of 500 as 5d6cd49a6dac063a3a921745\n",
      "Created 91 of 500 as 5d6cd49a6dac063a3a921746\n",
      "Created 92 of 500 as 5d6cd49a6dac063a3a921747\n",
      "Created 93 of 500 as 5d6cd49a6dac063a3a921748\n",
      "Created 94 of 500 as 5d6cd49a6dac063a3a921749\n",
      "Created 95 of 500 as 5d6cd49a6dac063a3a92174a\n",
      "Created 96 of 500 as 5d6cd49a6dac063a3a92174b\n",
      "Created 97 of 500 as 5d6cd49a6dac063a3a92174c\n",
      "Created 98 of 500 as 5d6cd49a6dac063a3a92174d\n",
      "Created 99 of 500 as 5d6cd49a6dac063a3a92174e\n",
      "Created 100 of 500 as 5d6cd49a6dac063a3a92174f\n",
      "Created 101 of 500 as 5d6cd49a6dac063a3a921750\n",
      "Created 102 of 500 as 5d6cd49a6dac063a3a921751\n",
      "Created 103 of 500 as 5d6cd49a6dac063a3a921752\n",
      "Created 104 of 500 as 5d6cd49a6dac063a3a921753\n",
      "Created 105 of 500 as 5d6cd49a6dac063a3a921754\n",
      "Created 106 of 500 as 5d6cd49a6dac063a3a921755\n",
      "Created 107 of 500 as 5d6cd49a6dac063a3a921756\n",
      "Created 108 of 500 as 5d6cd49a6dac063a3a921757\n",
      "Created 109 of 500 as 5d6cd49a6dac063a3a921758\n",
      "Created 110 of 500 as 5d6cd49a6dac063a3a921759\n",
      "Created 111 of 500 as 5d6cd49a6dac063a3a92175a\n",
      "Created 112 of 500 as 5d6cd49a6dac063a3a92175b\n",
      "Created 113 of 500 as 5d6cd49a6dac063a3a92175c\n",
      "Created 114 of 500 as 5d6cd49a6dac063a3a92175d\n",
      "Created 115 of 500 as 5d6cd49a6dac063a3a92175e\n",
      "Created 116 of 500 as 5d6cd49a6dac063a3a92175f\n",
      "Created 117 of 500 as 5d6cd49a6dac063a3a921760\n",
      "Created 118 of 500 as 5d6cd49a6dac063a3a921761\n",
      "Created 119 of 500 as 5d6cd49a6dac063a3a921762\n",
      "Created 120 of 500 as 5d6cd49a6dac063a3a921763\n",
      "Created 121 of 500 as 5d6cd49a6dac063a3a921764\n",
      "Created 122 of 500 as 5d6cd49a6dac063a3a921765\n",
      "Created 123 of 500 as 5d6cd49a6dac063a3a921766\n",
      "Created 124 of 500 as 5d6cd49a6dac063a3a921767\n",
      "Created 125 of 500 as 5d6cd49a6dac063a3a921768\n",
      "Created 126 of 500 as 5d6cd49a6dac063a3a921769\n",
      "Created 127 of 500 as 5d6cd49a6dac063a3a92176a\n",
      "Created 128 of 500 as 5d6cd49a6dac063a3a92176b\n",
      "Created 129 of 500 as 5d6cd49a6dac063a3a92176c\n",
      "Created 130 of 500 as 5d6cd49a6dac063a3a92176d\n",
      "Created 131 of 500 as 5d6cd49a6dac063a3a92176e\n",
      "Created 132 of 500 as 5d6cd49a6dac063a3a92176f\n",
      "Created 133 of 500 as 5d6cd49a6dac063a3a921770\n",
      "Created 134 of 500 as 5d6cd49a6dac063a3a921771\n",
      "Created 135 of 500 as 5d6cd49a6dac063a3a921772\n",
      "Created 136 of 500 as 5d6cd49a6dac063a3a921773\n",
      "Created 137 of 500 as 5d6cd49a6dac063a3a921774\n",
      "Created 138 of 500 as 5d6cd49a6dac063a3a921775\n",
      "Created 139 of 500 as 5d6cd49a6dac063a3a921776\n",
      "Created 140 of 500 as 5d6cd49a6dac063a3a921777\n",
      "Created 141 of 500 as 5d6cd49a6dac063a3a921778\n",
      "Created 142 of 500 as 5d6cd49a6dac063a3a921779\n",
      "Created 143 of 500 as 5d6cd49a6dac063a3a92177a\n",
      "Created 144 of 500 as 5d6cd49a6dac063a3a92177b\n",
      "Created 145 of 500 as 5d6cd49a6dac063a3a92177c\n",
      "Created 146 of 500 as 5d6cd49a6dac063a3a92177d\n",
      "Created 147 of 500 as 5d6cd49a6dac063a3a92177e\n",
      "Created 148 of 500 as 5d6cd49a6dac063a3a92177f\n",
      "Created 149 of 500 as 5d6cd49a6dac063a3a921780\n",
      "Created 150 of 500 as 5d6cd49a6dac063a3a921781\n",
      "Created 151 of 500 as 5d6cd49a6dac063a3a921782\n",
      "Created 152 of 500 as 5d6cd49a6dac063a3a921783\n",
      "Created 153 of 500 as 5d6cd49a6dac063a3a921784\n",
      "Created 154 of 500 as 5d6cd49a6dac063a3a921785\n",
      "Created 155 of 500 as 5d6cd49a6dac063a3a921786\n",
      "Created 156 of 500 as 5d6cd49a6dac063a3a921787\n",
      "Created 157 of 500 as 5d6cd49a6dac063a3a921788\n",
      "Created 158 of 500 as 5d6cd49a6dac063a3a921789\n",
      "Created 159 of 500 as 5d6cd49a6dac063a3a92178a\n",
      "Created 160 of 500 as 5d6cd49a6dac063a3a92178b\n",
      "Created 161 of 500 as 5d6cd49a6dac063a3a92178c\n",
      "Created 162 of 500 as 5d6cd49a6dac063a3a92178d\n",
      "Created 163 of 500 as 5d6cd49a6dac063a3a92178e\n",
      "Created 164 of 500 as 5d6cd49a6dac063a3a92178f\n",
      "Created 165 of 500 as 5d6cd49a6dac063a3a921790\n",
      "Created 166 of 500 as 5d6cd49a6dac063a3a921791\n",
      "Created 167 of 500 as 5d6cd49a6dac063a3a921792\n",
      "Created 168 of 500 as 5d6cd49a6dac063a3a921793\n",
      "Created 169 of 500 as 5d6cd49a6dac063a3a921794\n",
      "Created 170 of 500 as 5d6cd49a6dac063a3a921795\n",
      "Created 171 of 500 as 5d6cd49a6dac063a3a921796\n",
      "Created 172 of 500 as 5d6cd49a6dac063a3a921797\n",
      "Created 173 of 500 as 5d6cd49a6dac063a3a921798\n",
      "Created 174 of 500 as 5d6cd49a6dac063a3a921799\n",
      "Created 175 of 500 as 5d6cd49a6dac063a3a92179a\n",
      "Created 176 of 500 as 5d6cd49a6dac063a3a92179b\n",
      "Created 177 of 500 as 5d6cd49a6dac063a3a92179c\n",
      "Created 178 of 500 as 5d6cd49a6dac063a3a92179d\n",
      "Created 179 of 500 as 5d6cd49a6dac063a3a92179e\n",
      "Created 180 of 500 as 5d6cd49a6dac063a3a92179f\n",
      "Created 181 of 500 as 5d6cd49a6dac063a3a9217a0\n",
      "Created 182 of 500 as 5d6cd49a6dac063a3a9217a1\n",
      "Created 183 of 500 as 5d6cd49a6dac063a3a9217a2\n",
      "Created 184 of 500 as 5d6cd49a6dac063a3a9217a3\n",
      "Created 185 of 500 as 5d6cd49a6dac063a3a9217a4\n",
      "Created 186 of 500 as 5d6cd49a6dac063a3a9217a5\n",
      "Created 187 of 500 as 5d6cd49a6dac063a3a9217a6\n",
      "Created 188 of 500 as 5d6cd49a6dac063a3a9217a7\n",
      "Created 189 of 500 as 5d6cd49a6dac063a3a9217a8\n",
      "Created 190 of 500 as 5d6cd49a6dac063a3a9217a9\n",
      "Created 191 of 500 as 5d6cd49a6dac063a3a9217aa\n",
      "Created 192 of 500 as 5d6cd49a6dac063a3a9217ab\n",
      "Created 193 of 500 as 5d6cd49a6dac063a3a9217ac\n",
      "Created 194 of 500 as 5d6cd49a6dac063a3a9217ad\n",
      "Created 195 of 500 as 5d6cd49a6dac063a3a9217ae\n",
      "Created 196 of 500 as 5d6cd49a6dac063a3a9217af\n",
      "Created 197 of 500 as 5d6cd49a6dac063a3a9217b0\n",
      "Created 198 of 500 as 5d6cd49a6dac063a3a9217b1\n",
      "Created 199 of 500 as 5d6cd49a6dac063a3a9217b2\n",
      "Created 200 of 500 as 5d6cd49a6dac063a3a9217b3\n",
      "Created 201 of 500 as 5d6cd49a6dac063a3a9217b4\n",
      "Created 202 of 500 as 5d6cd49a6dac063a3a9217b5\n",
      "Created 203 of 500 as 5d6cd49a6dac063a3a9217b6\n",
      "Created 204 of 500 as 5d6cd49a6dac063a3a9217b7\n",
      "Created 205 of 500 as 5d6cd49a6dac063a3a9217b8\n",
      "Created 206 of 500 as 5d6cd49a6dac063a3a9217b9\n",
      "Created 207 of 500 as 5d6cd49a6dac063a3a9217ba\n",
      "Created 208 of 500 as 5d6cd49a6dac063a3a9217bb\n",
      "Created 209 of 500 as 5d6cd49a6dac063a3a9217bc\n",
      "Created 210 of 500 as 5d6cd49a6dac063a3a9217bd\n",
      "Created 211 of 500 as 5d6cd49a6dac063a3a9217be\n",
      "Created 212 of 500 as 5d6cd49a6dac063a3a9217bf\n",
      "Created 213 of 500 as 5d6cd49a6dac063a3a9217c0\n",
      "Created 214 of 500 as 5d6cd49a6dac063a3a9217c1\n",
      "Created 215 of 500 as 5d6cd49a6dac063a3a9217c2\n",
      "Created 216 of 500 as 5d6cd49a6dac063a3a9217c3\n",
      "Created 217 of 500 as 5d6cd49a6dac063a3a9217c4\n",
      "Created 218 of 500 as 5d6cd49a6dac063a3a9217c5\n",
      "Created 219 of 500 as 5d6cd49a6dac063a3a9217c6\n",
      "Created 220 of 500 as 5d6cd49a6dac063a3a9217c7\n",
      "Created 221 of 500 as 5d6cd49a6dac063a3a9217c8\n",
      "Created 222 of 500 as 5d6cd49a6dac063a3a9217c9\n",
      "Created 223 of 500 as 5d6cd49a6dac063a3a9217ca\n",
      "Created 224 of 500 as 5d6cd49a6dac063a3a9217cb\n",
      "Created 225 of 500 as 5d6cd49a6dac063a3a9217cc\n",
      "Created 226 of 500 as 5d6cd49a6dac063a3a9217cd\n",
      "Created 227 of 500 as 5d6cd49a6dac063a3a9217ce\n",
      "Created 228 of 500 as 5d6cd49a6dac063a3a9217cf\n",
      "Created 229 of 500 as 5d6cd49a6dac063a3a9217d0\n",
      "Created 230 of 500 as 5d6cd49a6dac063a3a9217d1\n",
      "Created 231 of 500 as 5d6cd49a6dac063a3a9217d2\n",
      "Created 232 of 500 as 5d6cd49a6dac063a3a9217d3\n",
      "Created 233 of 500 as 5d6cd49a6dac063a3a9217d4\n",
      "Created 234 of 500 as 5d6cd49a6dac063a3a9217d5\n",
      "Created 235 of 500 as 5d6cd49a6dac063a3a9217d6\n",
      "Created 236 of 500 as 5d6cd49a6dac063a3a9217d7\n",
      "Created 237 of 500 as 5d6cd49a6dac063a3a9217d8\n",
      "Created 238 of 500 as 5d6cd49a6dac063a3a9217d9\n",
      "Created 239 of 500 as 5d6cd49a6dac063a3a9217da\n",
      "Created 240 of 500 as 5d6cd49a6dac063a3a9217db\n",
      "Created 241 of 500 as 5d6cd49a6dac063a3a9217dc\n",
      "Created 242 of 500 as 5d6cd49a6dac063a3a9217dd\n",
      "Created 243 of 500 as 5d6cd49a6dac063a3a9217de\n",
      "Created 244 of 500 as 5d6cd49a6dac063a3a9217df\n",
      "Created 245 of 500 as 5d6cd49a6dac063a3a9217e0\n",
      "Created 246 of 500 as 5d6cd49a6dac063a3a9217e1\n",
      "Created 247 of 500 as 5d6cd49a6dac063a3a9217e2\n",
      "Created 248 of 500 as 5d6cd49a6dac063a3a9217e3\n",
      "Created 249 of 500 as 5d6cd49a6dac063a3a9217e4\n",
      "Created 250 of 500 as 5d6cd49a6dac063a3a9217e5\n",
      "Created 251 of 500 as 5d6cd49a6dac063a3a9217e6\n",
      "Created 252 of 500 as 5d6cd49a6dac063a3a9217e7\n",
      "Created 253 of 500 as 5d6cd49a6dac063a3a9217e8\n",
      "Created 254 of 500 as 5d6cd49a6dac063a3a9217e9\n",
      "Created 255 of 500 as 5d6cd49a6dac063a3a9217ea\n",
      "Created 256 of 500 as 5d6cd49a6dac063a3a9217eb\n",
      "Created 257 of 500 as 5d6cd49a6dac063a3a9217ec\n",
      "Created 258 of 500 as 5d6cd49a6dac063a3a9217ed\n",
      "Created 259 of 500 as 5d6cd49a6dac063a3a9217ee\n",
      "Created 260 of 500 as 5d6cd49a6dac063a3a9217ef\n",
      "Created 261 of 500 as 5d6cd49a6dac063a3a9217f0\n",
      "Created 262 of 500 as 5d6cd49a6dac063a3a9217f1\n",
      "Created 263 of 500 as 5d6cd49a6dac063a3a9217f2\n",
      "Created 264 of 500 as 5d6cd49a6dac063a3a9217f3\n",
      "Created 265 of 500 as 5d6cd49a6dac063a3a9217f4\n",
      "Created 266 of 500 as 5d6cd49a6dac063a3a9217f5\n",
      "Created 267 of 500 as 5d6cd49a6dac063a3a9217f6\n",
      "Created 268 of 500 as 5d6cd49a6dac063a3a9217f7\n",
      "Created 269 of 500 as 5d6cd49a6dac063a3a9217f8\n",
      "Created 270 of 500 as 5d6cd49a6dac063a3a9217f9\n",
      "Created 271 of 500 as 5d6cd49a6dac063a3a9217fa\n",
      "Created 272 of 500 as 5d6cd49a6dac063a3a9217fb\n",
      "Created 273 of 500 as 5d6cd49a6dac063a3a9217fc\n",
      "Created 274 of 500 as 5d6cd49a6dac063a3a9217fd\n",
      "Created 275 of 500 as 5d6cd49a6dac063a3a9217fe\n",
      "Created 276 of 500 as 5d6cd49a6dac063a3a9217ff\n",
      "Created 277 of 500 as 5d6cd49a6dac063a3a921800\n",
      "Created 278 of 500 as 5d6cd49a6dac063a3a921801\n",
      "Created 279 of 500 as 5d6cd49a6dac063a3a921802\n",
      "Created 280 of 500 as 5d6cd49a6dac063a3a921803\n",
      "Created 281 of 500 as 5d6cd49a6dac063a3a921804\n",
      "Created 282 of 500 as 5d6cd49a6dac063a3a921805\n",
      "Created 283 of 500 as 5d6cd49a6dac063a3a921806\n",
      "Created 284 of 500 as 5d6cd49a6dac063a3a921807\n",
      "Created 285 of 500 as 5d6cd49a6dac063a3a921808\n",
      "Created 286 of 500 as 5d6cd49a6dac063a3a921809\n",
      "Created 287 of 500 as 5d6cd49a6dac063a3a92180a\n",
      "Created 288 of 500 as 5d6cd49a6dac063a3a92180b\n",
      "Created 289 of 500 as 5d6cd49a6dac063a3a92180c\n",
      "Created 290 of 500 as 5d6cd49a6dac063a3a92180d\n",
      "Created 291 of 500 as 5d6cd49a6dac063a3a92180e\n",
      "Created 292 of 500 as 5d6cd49a6dac063a3a92180f\n",
      "Created 293 of 500 as 5d6cd49a6dac063a3a921810\n",
      "Created 294 of 500 as 5d6cd49a6dac063a3a921811\n",
      "Created 295 of 500 as 5d6cd49a6dac063a3a921812\n",
      "Created 296 of 500 as 5d6cd49a6dac063a3a921813\n",
      "Created 297 of 500 as 5d6cd49a6dac063a3a921814\n",
      "Created 298 of 500 as 5d6cd49a6dac063a3a921815\n",
      "Created 299 of 500 as 5d6cd49a6dac063a3a921816\n",
      "Created 300 of 500 as 5d6cd49a6dac063a3a921817\n",
      "Created 301 of 500 as 5d6cd49a6dac063a3a921818\n",
      "Created 302 of 500 as 5d6cd49a6dac063a3a921819\n",
      "Created 303 of 500 as 5d6cd49a6dac063a3a92181a\n",
      "Created 304 of 500 as 5d6cd49a6dac063a3a92181b\n",
      "Created 305 of 500 as 5d6cd49a6dac063a3a92181c\n",
      "Created 306 of 500 as 5d6cd49a6dac063a3a92181d\n",
      "Created 307 of 500 as 5d6cd49a6dac063a3a92181e\n",
      "Created 308 of 500 as 5d6cd49a6dac063a3a92181f\n",
      "Created 309 of 500 as 5d6cd49a6dac063a3a921820\n",
      "Created 310 of 500 as 5d6cd49a6dac063a3a921821\n",
      "Created 311 of 500 as 5d6cd49a6dac063a3a921822\n",
      "Created 312 of 500 as 5d6cd49a6dac063a3a921823\n",
      "Created 313 of 500 as 5d6cd49a6dac063a3a921824\n",
      "Created 314 of 500 as 5d6cd49a6dac063a3a921825\n",
      "Created 315 of 500 as 5d6cd49a6dac063a3a921826\n",
      "Created 316 of 500 as 5d6cd49a6dac063a3a921827\n",
      "Created 317 of 500 as 5d6cd49a6dac063a3a921828\n",
      "Created 318 of 500 as 5d6cd49a6dac063a3a921829\n",
      "Created 319 of 500 as 5d6cd49a6dac063a3a92182a\n",
      "Created 320 of 500 as 5d6cd49a6dac063a3a92182b\n",
      "Created 321 of 500 as 5d6cd49a6dac063a3a92182c\n",
      "Created 322 of 500 as 5d6cd49a6dac063a3a92182d\n",
      "Created 323 of 500 as 5d6cd49a6dac063a3a92182e\n",
      "Created 324 of 500 as 5d6cd49a6dac063a3a92182f\n",
      "Created 325 of 500 as 5d6cd49a6dac063a3a921830\n",
      "Created 326 of 500 as 5d6cd49a6dac063a3a921831\n",
      "Created 327 of 500 as 5d6cd49a6dac063a3a921832\n",
      "Created 328 of 500 as 5d6cd49a6dac063a3a921833\n",
      "Created 329 of 500 as 5d6cd49a6dac063a3a921834\n",
      "Created 330 of 500 as 5d6cd49a6dac063a3a921835\n",
      "Created 331 of 500 as 5d6cd49a6dac063a3a921836\n",
      "Created 332 of 500 as 5d6cd49a6dac063a3a921837\n",
      "Created 333 of 500 as 5d6cd49a6dac063a3a921838\n",
      "Created 334 of 500 as 5d6cd49a6dac063a3a921839\n",
      "Created 335 of 500 as 5d6cd49a6dac063a3a92183a\n",
      "Created 336 of 500 as 5d6cd49a6dac063a3a92183b\n",
      "Created 337 of 500 as 5d6cd49a6dac063a3a92183c\n",
      "Created 338 of 500 as 5d6cd49a6dac063a3a92183d\n",
      "Created 339 of 500 as 5d6cd49a6dac063a3a92183e\n",
      "Created 340 of 500 as 5d6cd49a6dac063a3a92183f\n",
      "Created 341 of 500 as 5d6cd49a6dac063a3a921840\n",
      "Created 342 of 500 as 5d6cd49a6dac063a3a921841\n",
      "Created 343 of 500 as 5d6cd49a6dac063a3a921842\n",
      "Created 344 of 500 as 5d6cd49a6dac063a3a921843\n",
      "Created 345 of 500 as 5d6cd49a6dac063a3a921844\n",
      "Created 346 of 500 as 5d6cd49a6dac063a3a921845\n",
      "Created 347 of 500 as 5d6cd49a6dac063a3a921846\n",
      "Created 348 of 500 as 5d6cd49a6dac063a3a921847\n",
      "Created 349 of 500 as 5d6cd49a6dac063a3a921848\n",
      "Created 350 of 500 as 5d6cd49a6dac063a3a921849\n",
      "Created 351 of 500 as 5d6cd49a6dac063a3a92184a\n",
      "Created 352 of 500 as 5d6cd49a6dac063a3a92184b\n",
      "Created 353 of 500 as 5d6cd49a6dac063a3a92184c\n",
      "Created 354 of 500 as 5d6cd49a6dac063a3a92184d\n",
      "Created 355 of 500 as 5d6cd49a6dac063a3a92184e\n"
     ]
    },
    {
     "name": "stdout",
     "output_type": "stream",
     "text": [
      "Created 356 of 500 as 5d6cd49a6dac063a3a92184f\n",
      "Created 357 of 500 as 5d6cd49a6dac063a3a921850\n",
      "Created 358 of 500 as 5d6cd49a6dac063a3a921851\n",
      "Created 359 of 500 as 5d6cd49a6dac063a3a921852\n",
      "Created 360 of 500 as 5d6cd49a6dac063a3a921853\n",
      "Created 361 of 500 as 5d6cd49a6dac063a3a921854\n",
      "Created 362 of 500 as 5d6cd49a6dac063a3a921855\n",
      "Created 363 of 500 as 5d6cd49a6dac063a3a921856\n",
      "Created 364 of 500 as 5d6cd49a6dac063a3a921857\n",
      "Created 365 of 500 as 5d6cd49a6dac063a3a921858\n",
      "Created 366 of 500 as 5d6cd49a6dac063a3a921859\n",
      "Created 367 of 500 as 5d6cd49a6dac063a3a92185a\n",
      "Created 368 of 500 as 5d6cd49a6dac063a3a92185b\n",
      "Created 369 of 500 as 5d6cd49a6dac063a3a92185c\n",
      "Created 370 of 500 as 5d6cd49a6dac063a3a92185d\n",
      "Created 371 of 500 as 5d6cd49a6dac063a3a92185e\n",
      "Created 372 of 500 as 5d6cd49a6dac063a3a92185f\n",
      "Created 373 of 500 as 5d6cd49a6dac063a3a921860\n",
      "Created 374 of 500 as 5d6cd49a6dac063a3a921861\n",
      "Created 375 of 500 as 5d6cd49a6dac063a3a921862\n",
      "Created 376 of 500 as 5d6cd49a6dac063a3a921863\n",
      "Created 377 of 500 as 5d6cd49a6dac063a3a921864\n",
      "Created 378 of 500 as 5d6cd49a6dac063a3a921865\n",
      "Created 379 of 500 as 5d6cd49a6dac063a3a921866\n",
      "Created 380 of 500 as 5d6cd49a6dac063a3a921867\n",
      "Created 381 of 500 as 5d6cd49a6dac063a3a921868\n",
      "Created 382 of 500 as 5d6cd49a6dac063a3a921869\n",
      "Created 383 of 500 as 5d6cd49a6dac063a3a92186a\n",
      "Created 384 of 500 as 5d6cd49a6dac063a3a92186b\n",
      "Created 385 of 500 as 5d6cd49a6dac063a3a92186c\n",
      "Created 386 of 500 as 5d6cd49a6dac063a3a92186d\n",
      "Created 387 of 500 as 5d6cd49a6dac063a3a92186e\n",
      "Created 388 of 500 as 5d6cd49a6dac063a3a92186f\n",
      "Created 389 of 500 as 5d6cd49a6dac063a3a921870\n",
      "Created 390 of 500 as 5d6cd49a6dac063a3a921871\n",
      "Created 391 of 500 as 5d6cd49a6dac063a3a921872\n",
      "Created 392 of 500 as 5d6cd49a6dac063a3a921873\n",
      "Created 393 of 500 as 5d6cd49a6dac063a3a921874\n",
      "Created 394 of 500 as 5d6cd49a6dac063a3a921875\n",
      "Created 395 of 500 as 5d6cd49a6dac063a3a921876\n",
      "Created 396 of 500 as 5d6cd49a6dac063a3a921877\n",
      "Created 397 of 500 as 5d6cd49a6dac063a3a921878\n",
      "Created 398 of 500 as 5d6cd49a6dac063a3a921879\n",
      "Created 399 of 500 as 5d6cd49a6dac063a3a92187a\n",
      "Created 400 of 500 as 5d6cd49a6dac063a3a92187b\n",
      "Created 401 of 500 as 5d6cd49a6dac063a3a92187c\n",
      "Created 402 of 500 as 5d6cd49a6dac063a3a92187d\n",
      "Created 403 of 500 as 5d6cd49a6dac063a3a92187e\n",
      "Created 404 of 500 as 5d6cd49a6dac063a3a92187f\n",
      "Created 405 of 500 as 5d6cd49a6dac063a3a921880\n",
      "Created 406 of 500 as 5d6cd49a6dac063a3a921881\n",
      "Created 407 of 500 as 5d6cd49a6dac063a3a921882\n",
      "Created 408 of 500 as 5d6cd49a6dac063a3a921883\n",
      "Created 409 of 500 as 5d6cd49a6dac063a3a921884\n",
      "Created 410 of 500 as 5d6cd49a6dac063a3a921885\n",
      "Created 411 of 500 as 5d6cd49a6dac063a3a921886\n",
      "Created 412 of 500 as 5d6cd49a6dac063a3a921887\n",
      "Created 413 of 500 as 5d6cd49a6dac063a3a921888\n",
      "Created 414 of 500 as 5d6cd49a6dac063a3a921889\n",
      "Created 415 of 500 as 5d6cd49a6dac063a3a92188a\n",
      "Created 416 of 500 as 5d6cd49a6dac063a3a92188b\n",
      "Created 417 of 500 as 5d6cd49a6dac063a3a92188c\n",
      "Created 418 of 500 as 5d6cd49a6dac063a3a92188d\n",
      "Created 419 of 500 as 5d6cd49a6dac063a3a92188e\n",
      "Created 420 of 500 as 5d6cd49a6dac063a3a92188f\n",
      "Created 421 of 500 as 5d6cd49a6dac063a3a921890\n",
      "Created 422 of 500 as 5d6cd49a6dac063a3a921891\n",
      "Created 423 of 500 as 5d6cd49a6dac063a3a921892\n",
      "Created 424 of 500 as 5d6cd49a6dac063a3a921893\n",
      "Created 425 of 500 as 5d6cd49a6dac063a3a921894\n",
      "Created 426 of 500 as 5d6cd49a6dac063a3a921895\n",
      "Created 427 of 500 as 5d6cd49a6dac063a3a921896\n",
      "Created 428 of 500 as 5d6cd49a6dac063a3a921897\n",
      "Created 429 of 500 as 5d6cd49a6dac063a3a921898\n",
      "Created 430 of 500 as 5d6cd49a6dac063a3a921899\n",
      "Created 431 of 500 as 5d6cd49a6dac063a3a92189a\n",
      "Created 432 of 500 as 5d6cd49a6dac063a3a92189b\n",
      "Created 433 of 500 as 5d6cd49a6dac063a3a92189c\n",
      "Created 434 of 500 as 5d6cd49a6dac063a3a92189d\n",
      "Created 435 of 500 as 5d6cd49a6dac063a3a92189e\n",
      "Created 436 of 500 as 5d6cd49a6dac063a3a92189f\n",
      "Created 437 of 500 as 5d6cd49a6dac063a3a9218a0\n",
      "Created 438 of 500 as 5d6cd49a6dac063a3a9218a1\n",
      "Created 439 of 500 as 5d6cd49a6dac063a3a9218a2\n",
      "Created 440 of 500 as 5d6cd49a6dac063a3a9218a3\n",
      "Created 441 of 500 as 5d6cd49a6dac063a3a9218a4\n",
      "Created 442 of 500 as 5d6cd49a6dac063a3a9218a5\n",
      "Created 443 of 500 as 5d6cd49a6dac063a3a9218a6\n",
      "Created 444 of 500 as 5d6cd49a6dac063a3a9218a7\n",
      "Created 445 of 500 as 5d6cd49a6dac063a3a9218a8\n",
      "Created 446 of 500 as 5d6cd49a6dac063a3a9218a9\n",
      "Created 447 of 500 as 5d6cd49a6dac063a3a9218aa\n",
      "Created 448 of 500 as 5d6cd49a6dac063a3a9218ab\n",
      "Created 449 of 500 as 5d6cd49a6dac063a3a9218ac\n",
      "Created 450 of 500 as 5d6cd49a6dac063a3a9218ad\n",
      "Created 451 of 500 as 5d6cd49a6dac063a3a9218ae\n",
      "Created 452 of 500 as 5d6cd49a6dac063a3a9218af\n",
      "Created 453 of 500 as 5d6cd49a6dac063a3a9218b0\n",
      "Created 454 of 500 as 5d6cd49a6dac063a3a9218b1\n",
      "Created 455 of 500 as 5d6cd49a6dac063a3a9218b2\n",
      "Created 456 of 500 as 5d6cd49a6dac063a3a9218b3\n",
      "Created 457 of 500 as 5d6cd49a6dac063a3a9218b4\n",
      "Created 458 of 500 as 5d6cd49a6dac063a3a9218b5\n",
      "Created 459 of 500 as 5d6cd49a6dac063a3a9218b6\n",
      "Created 460 of 500 as 5d6cd49a6dac063a3a9218b7\n",
      "Created 461 of 500 as 5d6cd49a6dac063a3a9218b8\n",
      "Created 462 of 500 as 5d6cd49a6dac063a3a9218b9\n",
      "Created 463 of 500 as 5d6cd49a6dac063a3a9218ba\n",
      "Created 464 of 500 as 5d6cd49a6dac063a3a9218bb\n",
      "Created 465 of 500 as 5d6cd49a6dac063a3a9218bc\n",
      "Created 466 of 500 as 5d6cd49a6dac063a3a9218bd\n",
      "Created 467 of 500 as 5d6cd49a6dac063a3a9218be\n",
      "Created 468 of 500 as 5d6cd49a6dac063a3a9218bf\n",
      "Created 469 of 500 as 5d6cd49a6dac063a3a9218c0\n",
      "Created 470 of 500 as 5d6cd49a6dac063a3a9218c1\n",
      "Created 471 of 500 as 5d6cd49a6dac063a3a9218c2\n",
      "Created 472 of 500 as 5d6cd49a6dac063a3a9218c3\n",
      "Created 473 of 500 as 5d6cd49a6dac063a3a9218c4\n",
      "Created 474 of 500 as 5d6cd49a6dac063a3a9218c5\n",
      "Created 475 of 500 as 5d6cd49a6dac063a3a9218c6\n",
      "Created 476 of 500 as 5d6cd49a6dac063a3a9218c7\n",
      "Created 477 of 500 as 5d6cd49a6dac063a3a9218c8\n",
      "Created 478 of 500 as 5d6cd49a6dac063a3a9218c9\n",
      "Created 479 of 500 as 5d6cd49a6dac063a3a9218ca\n",
      "Created 480 of 500 as 5d6cd49a6dac063a3a9218cb\n",
      "Created 481 of 500 as 5d6cd49a6dac063a3a9218cc\n",
      "Created 482 of 500 as 5d6cd49a6dac063a3a9218cd\n",
      "Created 483 of 500 as 5d6cd49a6dac063a3a9218ce\n",
      "Created 484 of 500 as 5d6cd49a6dac063a3a9218cf\n",
      "Created 485 of 500 as 5d6cd49a6dac063a3a9218d0\n",
      "Created 486 of 500 as 5d6cd49a6dac063a3a9218d1\n",
      "Created 487 of 500 as 5d6cd49a6dac063a3a9218d2\n",
      "Created 488 of 500 as 5d6cd49a6dac063a3a9218d3\n",
      "Created 489 of 500 as 5d6cd49a6dac063a3a9218d4\n",
      "Created 490 of 500 as 5d6cd49a6dac063a3a9218d5\n",
      "Created 491 of 500 as 5d6cd49a6dac063a3a9218d6\n",
      "Created 492 of 500 as 5d6cd49a6dac063a3a9218d7\n",
      "Created 493 of 500 as 5d6cd49a6dac063a3a9218d8\n",
      "Created 494 of 500 as 5d6cd49a6dac063a3a9218d9\n",
      "Created 495 of 500 as 5d6cd49a6dac063a3a9218da\n",
      "Created 496 of 500 as 5d6cd49a6dac063a3a9218db\n",
      "Created 497 of 500 as 5d6cd49a6dac063a3a9218dc\n",
      "Created 498 of 500 as 5d6cd49a6dac063a3a9218dd\n",
      "Created 499 of 500 as 5d6cd49a6dac063a3a9218de\n",
      "Created 500 of 500 as 5d6cd49a6dac063a3a9218df\n",
      "finished creating 500 business reviews\n"
     ]
    }
   ],
   "source": [
    "from random import randint\n",
    "db=client.business\n",
    "#Step 1: Create sample data\n",
    "names = ['Kitchen','Animal','State', 'Tastey', 'Big','City','Fish', 'Pizza','Goat', 'Salty','Sandwich','Lazy', 'Fun']\n",
    "company_type = ['LLC','Inc','Company','Corporation']\n",
    "company_cuisine = ['Pizza', 'Bar Food', 'Fast Food', 'Italian', 'Mexican', 'American', 'Sushi Bar', 'Vegetarian']\n",
    "for x in range(1, 501):\n",
    "    business = {\n",
    "        'name' : names[randint(0, (len(names)-1))] + ' ' + names[randint(0, (len(names)-1))]  + ' ' + company_type[randint(0, (len(company_type)-1))],\n",
    "        'rating' : randint(1, 5),\n",
    "        'cuisine' : company_cuisine[randint(0, (len(company_cuisine)-1))] \n",
    "    }\n",
    "    #Step 1: Insert business object directly into MongoDB via insert_one\n",
    "    result=db.reviews.insert_one(business)\n",
    "    #Step 1: Print to the console the ObjectID of the new document\n",
    "    print('Created {0} of 500 as {1}'.format(x,result.inserted_id))\n",
    "#Step 1: Tell us that you are done\n",
    "print('finished creating 500 business reviews')"
   ]
  },
  {
   "cell_type": "code",
   "execution_count": 79,
   "metadata": {},
   "outputs": [
    {
     "name": "stdout",
     "output_type": "stream",
     "text": [
      "Name                           Rating  Cuisine\n",
      "---------------------------  --------  ----------\n",
      "Kitchen Lazy LLC                    5  Fast Food\n",
      "Sandwich State Inc                  4  Sushi Bar\n",
      "Pizza Sandwich LLC                  5  Vegetarian\n",
      "Big Tastey LLC                      3  Bar Food\n",
      "Goat Fish Inc                       4  Fast Food\n",
      "Lazy City Corporation               5  Fast Food\n",
      "Pizza State LLC                     1  American\n",
      "Pizza Pizza Company                 3  Vegetarian\n",
      "Kitchen Goat Corporation            1  Pizza\n",
      "Salty Tastey LLC                    2  American\n",
      "City Sandwich Inc                   2  Italian\n",
      "Pizza Animal Inc                    3  Mexican\n",
      "State State Inc                     4  Vegetarian\n",
      "Goat Pizza Company                  5  Fast Food\n",
      "Goat State Inc                      3  Bar Food\n",
      "Sandwich City Corporation           1  Mexican\n",
      "Pizza Pizza Company                 4  Bar Food\n",
      "Tastey Lazy Company                 2  American\n",
      "Goat Goat Corporation               3  Bar Food\n",
      "Fish Tastey Company                 5  American\n",
      "Animal Salty LLC                    4  Mexican\n",
      "City Fish Company                   5  Italian\n",
      "Big City Inc                        1  Bar Food\n",
      "State Tastey Corporation            5  American\n",
      "Pizza Kitchen Corporation           1  Pizza\n",
      "Big Big Corporation                 2  Italian\n",
      "Animal Goat Company                 1  Fast Food\n",
      "Animal City Corporation             4  Sushi Bar\n",
      "Lazy Fun LLC                        4  Bar Food\n",
      "State City LLC                      3  Vegetarian\n",
      "City State Inc                      2  Mexican\n",
      "Animal Kitchen Inc                  4  Sushi Bar\n",
      "Goat Big Company                    1  American\n",
      "Fun Sandwich Inc                    3  Pizza\n",
      "Fish Goat Inc                       3  Italian\n",
      "Tastey Salty Inc                    1  Fast Food\n",
      "Kitchen Pizza Inc                   2  Fast Food\n",
      "Pizza Goat LLC                      5  Italian\n",
      "Animal Fish LLC                     2  Sushi Bar\n",
      "Animal City LLC                     1  American\n",
      "Fun Lazy LLC                        2  Vegetarian\n",
      "Big Fun LLC                         3  American\n",
      "Salty Fun LLC                       5  Sushi Bar\n",
      "Goat Fun Company                    5  Bar Food\n",
      "Lazy Lazy Inc                       3  Fast Food\n",
      "Big Pizza LLC                       5  Sushi Bar\n",
      "City Fish LLC                       5  Fast Food\n",
      "State Goat Company                  1  Pizza\n",
      "Fun Pizza Corporation               2  Italian\n",
      "Tastey Lazy Inc                     3  Fast Food\n",
      "Big Salty Inc                       3  Mexican\n",
      "State City Corporation              4  Mexican\n",
      "Tastey State Inc                    3  American\n",
      "Animal Big Corporation              5  Pizza\n",
      "Kitchen Goat LLC                    5  Sushi Bar\n",
      "Kitchen Tastey Inc                  5  Vegetarian\n",
      "Animal Goat LLC                     5  Pizza\n",
      "Sandwich Big Inc                    4  American\n",
      "Animal Kitchen LLC                  3  Pizza\n",
      "Fish Salty LLC                      3  Italian\n",
      "Fun Pizza Inc                       1  Vegetarian\n",
      "Salty Lazy Company                  5  Italian\n",
      "Goat Fun LLC                        1  American\n",
      "Tastey Pizza Corporation            5  Italian\n",
      "Big Big Inc                         5  Sushi Bar\n",
      "Kitchen Tastey LLC                  5  Fast Food\n",
      "Pizza City LLC                      1  American\n",
      "Animal Big Company                  1  Mexican\n",
      "Big Fun LLC                         5  Bar Food\n",
      "Big Tastey Company                  3  Mexican\n",
      "City Lazy Corporation               1  Sushi Bar\n",
      "Animal Fish Inc                     5  Fast Food\n",
      "City Big Corporation                2  Pizza\n",
      "Goat Sandwich Corporation           1  Italian\n",
      "Fish Tastey Corporation             2  Pizza\n",
      "City Fun LLC                        1  Fast Food\n",
      "State Animal Company                4  American\n",
      "State Tastey LLC                    5  Pizza\n",
      "State Kitchen LLC                   1  Italian\n",
      "Goat Tastey Inc                     4  Vegetarian\n",
      "Lazy Pizza Company                  2  Fast Food\n",
      "Lazy Tastey Corporation             5  American\n",
      "Lazy Fun Corporation                1  Vegetarian\n",
      "Kitchen Pizza Company               2  American\n",
      "Goat Fish LLC                       4  Pizza\n",
      "Fun Animal Company                  1  Pizza\n",
      "Salty Sandwich Company              5  Fast Food\n",
      "Sandwich Goat Inc                   2  Italian\n",
      "Salty State Company                 3  Pizza\n",
      "Fun Animal Corporation              4  Fast Food\n",
      "State Tastey Company                5  Bar Food\n",
      "Sandwich Kitchen Company            1  Bar Food\n",
      "Sandwich Goat Corporation           5  Italian\n",
      "Big Tastey Corporation              1  Pizza\n",
      "Fun City Corporation                2  Mexican\n",
      "Goat City Company                   3  Italian\n",
      "Pizza Fish Company                  3  Sushi Bar\n",
      "Kitchen Fish Company                5  Sushi Bar\n",
      "Fish Animal Company                 2  Mexican\n",
      "Animal City Corporation             5  Bar Food\n",
      "Fun Fish Corporation                2  Pizza\n",
      "Tastey Big Inc                      4  Fast Food\n",
      "Pizza Pizza Inc                     1  American\n",
      "Pizza Kitchen Inc                   5  Bar Food\n",
      "Sandwich City Inc                   4  Fast Food\n",
      "Fish Tastey Company                 1  Vegetarian\n",
      "Sandwich State Inc                  3  Pizza\n",
      "Salty Fish LLC                      4  Mexican\n",
      "Fish Goat Company                   5  Mexican\n",
      "Fun Goat Company                    1  Sushi Bar\n",
      "Kitchen Big Inc                     4  American\n",
      "State Big Corporation               4  Mexican\n",
      "State State Corporation             5  American\n",
      "Lazy State Inc                      4  Italian\n",
      "City State Company                  3  Mexican\n",
      "Tastey Sandwich Corporation         5  Mexican\n",
      "City Big Corporation                4  Italian\n",
      "Fish Tastey Corporation             4  Vegetarian\n",
      "Animal State Company                3  Mexican\n",
      "Tastey Kitchen Inc                  4  Pizza\n",
      "Fun Sandwich Company                5  Pizza\n",
      "Kitchen Pizza LLC                   2  Fast Food\n",
      "State Salty Inc                     3  Vegetarian\n",
      "Sandwich Goat LLC                   2  Mexican\n",
      "Sandwich Goat Inc                   2  Fast Food\n",
      "Pizza Pizza Inc                     2  American\n",
      "Fish Fun Company                    2  Italian\n",
      "Kitchen City Company                1  Fast Food\n",
      "State City Inc                      4  Pizza\n",
      "Tastey Animal Corporation           5  Pizza\n",
      "Fish Big LLC                        4  Italian\n",
      "Lazy Fun Corporation                2  Fast Food\n",
      "Fun State Inc                       5  Pizza\n",
      "Fish Fun Inc                        5  Fast Food\n",
      "Goat Sandwich LLC                   5  Mexican\n",
      "Pizza Goat LLC                      4  Mexican\n",
      "Tastey Sandwich Inc                 3  Pizza\n",
      "Pizza City Company                  4  Mexican\n",
      "State Fish Inc                      3  Vegetarian\n",
      "Pizza Fish Corporation              4  Vegetarian\n",
      "Lazy Animal LLC                     2  American\n",
      "Lazy Tastey Company                 2  Pizza\n",
      "Pizza Salty Company                 5  Vegetarian\n",
      "Kitchen Sandwich Company            3  American\n",
      "Fish Animal Company                 3  Vegetarian\n",
      "Big Pizza Company                   4  American\n",
      "Kitchen Sandwich LLC                3  Italian\n",
      "Goat Fun Corporation                2  Fast Food\n",
      "Fish Animal Inc                     2  Vegetarian\n",
      "Pizza Fun Inc                       3  Fast Food\n",
      "Animal Fun LLC                      4  Sushi Bar\n",
      "Big Lazy LLC                        2  Fast Food\n",
      "Big Sandwich Company                4  Pizza\n",
      "Kitchen Lazy Company                3  Italian\n",
      "Sandwich Big Company                4  Bar Food\n",
      "Fun Fun LLC                         4  Sushi Bar\n",
      "Goat Fun LLC                        1  Fast Food\n",
      "Sandwich Fish Company               5  American\n",
      "Goat Salty Inc                      1  American\n",
      "Goat Tastey Company                 5  Sushi Bar\n",
      "Salty Lazy Inc                      2  Pizza\n",
      "Sandwich Fun LLC                    4  Bar Food\n",
      "Lazy Sandwich LLC                   1  Fast Food\n",
      "Kitchen Kitchen Corporation         3  Vegetarian\n",
      "Goat Fish Corporation               1  Pizza\n",
      "City Lazy Inc                       5  Fast Food\n",
      "Pizza Salty Inc                     3  Italian\n",
      "State Pizza Company                 2  Italian\n",
      "Animal Kitchen Company              1  Vegetarian\n",
      "Big Big Corporation                 5  Vegetarian\n",
      "Big City Corporation                5  Fast Food\n",
      "Fish Goat Company                   5  Fast Food\n",
      "Pizza State Corporation             5  American\n",
      "Animal Fun Inc                      4  Italian\n",
      "Kitchen Big Company                 2  Bar Food\n",
      "Fish Goat Corporation               4  Bar Food\n",
      "Big Goat LLC                        1  Italian\n",
      "Kitchen Kitchen Inc                 2  Pizza\n",
      "Fun Kitchen Inc                     4  Mexican\n",
      "Fun Pizza LLC                       2  Sushi Bar\n",
      "Goat State Inc                      4  Mexican\n",
      "Fun City Corporation                3  Fast Food\n",
      "City Tastey Corporation             3  Italian\n",
      "Kitchen Sandwich Company            4  Fast Food\n",
      "Tastey Salty LLC                    4  Italian\n",
      "Kitchen Lazy Inc                    2  Vegetarian\n",
      "Kitchen Kitchen LLC                 4  Fast Food\n",
      "Big Goat Inc                        4  Fast Food\n",
      "City Sandwich Company               3  Pizza\n",
      "Kitchen State LLC                   3  Pizza\n",
      "Tastey City LLC                     3  Vegetarian\n",
      "Goat Animal LLC                     4  Pizza\n",
      "City Tastey LLC                     1  Vegetarian\n",
      "State Big Inc                       5  Vegetarian\n",
      "City Kitchen Inc                    4  Pizza\n",
      "Pizza Sandwich Company              4  Mexican\n",
      "Lazy Salty Inc                      2  Italian\n",
      "Animal City Inc                     4  Mexican\n",
      "Goat Sandwich Corporation           1  Bar Food\n",
      "Lazy City Company                   5  Vegetarian\n",
      "Fish Fish Company                   4  Pizza\n",
      "Lazy Fish Corporation               1  Vegetarian\n",
      "Salty Pizza Inc                     4  American\n",
      "Fun Kitchen Inc                     2  Vegetarian\n",
      "City Salty Company                  4  Italian\n",
      "State City LLC                      4  Bar Food\n",
      "Fish Goat Corporation               4  American\n",
      "Animal Animal LLC                   2  Sushi Bar\n",
      "Kitchen Salty Corporation           2  Bar Food\n",
      "Animal Fish LLC                     4  Bar Food\n",
      "Fun Fun Corporation                 3  Sushi Bar\n",
      "Pizza Salty Inc                     2  Sushi Bar\n",
      "City Salty Corporation              3  Fast Food\n",
      "City Sandwich LLC                   1  American\n",
      "Tastey State LLC                    3  Sushi Bar\n",
      "City Big LLC                        3  American\n",
      "Fish Animal Company                 2  Italian\n",
      "Animal Goat Corporation             2  Mexican\n",
      "Fish Lazy Company                   4  Sushi Bar\n",
      "Big City Company                    3  American\n",
      "Sandwich Fish LLC                   5  Pizza\n",
      "Goat Tastey Inc                     2  American\n",
      "Big Goat Corporation                1  Pizza\n",
      "City Animal Inc                     5  Italian\n",
      "Pizza Pizza Company                 3  Italian\n",
      "Big Animal Inc                      3  Pizza\n",
      "Fun Fun Company                     2  Pizza\n",
      "State Goat Corporation              2  Pizza\n",
      "City Pizza Company                  5  Fast Food\n",
      "Fun Tastey Company                  2  Bar Food\n",
      "Fish Big Company                    3  Italian\n",
      "Sandwich Kitchen Company            3  American\n",
      "Pizza Lazy Inc                      3  Bar Food\n",
      "Animal City Inc                     5  Bar Food\n",
      "Animal Fish LLC                     3  Italian\n",
      "Goat Kitchen Inc                    5  Fast Food\n",
      "Pizza Goat Inc                      4  Pizza\n",
      "Animal State Company                2  Fast Food\n",
      "State City LLC                      3  Pizza\n",
      "Tastey Fish Inc                     5  Mexican\n",
      "Salty State Inc                     4  Fast Food\n",
      "Fun Kitchen LLC                     2  American\n",
      "Lazy Lazy Inc                       5  Vegetarian\n",
      "City Goat LLC                       2  Mexican\n",
      "City Kitchen Inc                    1  Fast Food\n",
      "Goat Fish LLC                       2  Mexican\n",
      "Lazy Fish Inc                       2  American\n",
      "Fish Big Corporation                3  Mexican\n",
      "Kitchen Goat LLC                    5  Mexican\n",
      "Big Sandwich Company                1  Italian\n",
      "Tastey Salty Corporation            2  Sushi Bar\n",
      "Fun Pizza Inc                       5  Bar Food\n",
      "Big City Inc                        4  Fast Food\n",
      "Lazy Pizza Corporation              5  Pizza\n",
      "Tastey Sandwich Corporation         3  Sushi Bar\n",
      "Fun Sandwich LLC                    5  Pizza\n",
      "Fish Lazy LLC                       4  Bar Food\n",
      "City Fish LLC                       4  Sushi Bar\n",
      "Tastey Kitchen LLC                  3  American\n",
      "Tastey Animal Inc                   2  Bar Food\n",
      "Kitchen Goat LLC                    3  Bar Food\n",
      "Fish Fish LLC                       1  Pizza\n",
      "Tastey Big Corporation              3  Bar Food\n",
      "City Fish Inc                       5  American\n",
      "Lazy Sandwich Corporation           2  Pizza\n",
      "Fish Animal LLC                     5  Fast Food\n",
      "Big City Inc                        5  Mexican\n",
      "Pizza Fun LLC                       3  American\n",
      "Salty Sandwich Corporation          1  Italian\n",
      "Animal Tastey Company               3  Pizza\n",
      "City Animal Inc                     1  Fast Food\n",
      "Animal Salty Corporation            4  Pizza\n",
      "Goat Goat Corporation               1  Pizza\n",
      "State Tastey Inc                    2  Italian\n",
      "Goat Kitchen Company                1  Sushi Bar\n",
      "Kitchen Big Inc                     3  Italian\n",
      "Fun Fun Inc                         5  Bar Food\n",
      "Salty Goat LLC                      5  Pizza\n",
      "Animal Animal Corporation           4  Mexican\n",
      "Goat Salty LLC                      1  Italian\n",
      "City Kitchen LLC                    4  Mexican\n",
      "Kitchen Lazy Company                5  Sushi Bar\n",
      "Fun Fun LLC                         3  American\n",
      "Animal Animal Inc                   2  Mexican\n",
      "Pizza Salty Company                 2  Bar Food\n",
      "Goat Sandwich Company               3  Pizza\n",
      "Animal Big Corporation              2  Sushi Bar\n",
      "Salty Salty Company                 4  Italian\n",
      "Big City Corporation                4  Fast Food\n",
      "Big Kitchen Company                 1  Pizza\n",
      "Animal Tastey Corporation           2  Bar Food\n",
      "Salty Pizza Company                 2  Mexican\n",
      "Kitchen State Company               2  Italian\n",
      "Lazy Lazy Inc                       5  American\n",
      "Kitchen Animal Company              4  Vegetarian\n",
      "Goat Kitchen Company                5  Sushi Bar\n",
      "Lazy Tastey LLC                     1  Bar Food\n",
      "Salty Fish Corporation              5  Pizza\n",
      "Salty Tastey LLC                    2  Vegetarian\n",
      "Tastey Salty Company                5  Fast Food\n",
      "Pizza State LLC                     2  Vegetarian\n",
      "State Tastey Corporation            2  Mexican\n",
      "Fun Fun LLC                         3  Sushi Bar\n",
      "Big Fun Inc                         1  Pizza\n",
      "City Sandwich LLC                   3  Italian\n",
      "State City Inc                      2  Pizza\n",
      "Kitchen Goat Corporation            2  Mexican\n",
      "Goat Goat Corporation               4  Fast Food\n",
      "Tastey Tastey LLC                   2  Italian\n",
      "Fish State Company                  2  Sushi Bar\n",
      "Salty State Corporation             2  Sushi Bar\n",
      "Lazy Tastey Corporation             2  Fast Food\n",
      "Animal Pizza Company                5  Bar Food\n",
      "State City LLC                      3  Vegetarian\n",
      "Fun Big LLC                         1  Sushi Bar\n",
      "Lazy Animal Company                 3  Fast Food\n",
      "Tastey Lazy Company                 3  American\n",
      "Salty Goat Corporation              5  Fast Food\n",
      "Goat Lazy Company                   4  Sushi Bar\n",
      "Big Lazy Company                    3  Pizza\n",
      "Big City Inc                        2  Vegetarian\n",
      "Sandwich State LLC                  4  Sushi Bar\n",
      "City Fish LLC                       1  Italian\n",
      "Lazy Animal Company                 1  American\n",
      "Pizza Pizza LLC                     2  Pizza\n",
      "Animal Goat Company                 4  Mexican\n",
      "Salty Kitchen Inc                   5  Pizza\n",
      "Lazy Salty LLC                      4  Pizza\n",
      "Fun City Company                    5  American\n",
      "Lazy Animal Corporation             5  Fast Food\n",
      "Salty Lazy Company                  3  American\n",
      "Lazy Lazy LLC                       2  Italian\n",
      "State Pizza Corporation             4  Sushi Bar\n",
      "Fun City Company                    3  Fast Food\n",
      "Animal City Inc                     5  Fast Food\n",
      "Kitchen State Company               5  Mexican\n",
      "Goat City Company                   2  Mexican\n",
      "Kitchen Fun LLC                     3  Mexican\n",
      "Lazy Fun Company                    1  Mexican\n",
      "Pizza State Inc                     1  Sushi Bar\n",
      "City Pizza Company                  4  Fast Food\n",
      "Goat Lazy Company                   2  Sushi Bar\n",
      "State Animal LLC                    1  Pizza\n",
      "State Lazy Company                  3  Pizza\n",
      "Lazy Fish LLC                       4  Sushi Bar\n",
      "Lazy State Company                  5  Mexican\n",
      "Tastey Fish Corporation             4  Pizza\n",
      "City Fun Inc                        1  Vegetarian\n",
      "State Salty Corporation             4  Fast Food\n",
      "Big Animal Company                  4  Sushi Bar\n",
      "Goat Salty Company                  3  Mexican\n",
      "State Salty Corporation             4  Pizza\n",
      "Fun Salty Company                   2  Fast Food\n",
      "Salty Kitchen Inc                   3  Fast Food\n",
      "Goat Pizza Company                  2  Sushi Bar\n",
      "Salty Goat Corporation              1  Pizza\n",
      "Lazy Tastey Inc                     1  Italian\n",
      "Kitchen Salty Inc                   2  Vegetarian\n",
      "State Kitchen Inc                   3  Pizza\n",
      "Goat Kitchen Company                3  Sushi Bar\n",
      "Tastey Kitchen LLC                  4  Vegetarian\n",
      "Salty Pizza Corporation             4  Fast Food\n",
      "Fun Goat Company                    1  Pizza\n",
      "Sandwich Animal Inc                 2  Bar Food\n",
      "State Sandwich Inc                  2  Mexican\n",
      "Sandwich Fun Corporation            4  Fast Food\n",
      "Animal State Company                1  Bar Food\n",
      "Kitchen Tastey Corporation          4  Bar Food\n",
      "Pizza Fun Corporation               3  Sushi Bar\n",
      "Kitchen Big Corporation             3  Bar Food\n",
      "Lazy City Inc                       5  Bar Food\n",
      "State Fun Corporation               4  Pizza\n",
      "Sandwich City Inc                   2  Vegetarian\n",
      "Fish Fish LLC                       5  American\n",
      "Tastey Fun Company                  1  Fast Food\n",
      "Fish Fun LLC                        5  Italian\n",
      "Goat Lazy Company                   4  Mexican\n",
      "Fish Goat Corporation               1  Pizza\n",
      "Fun Goat Inc                        3  Italian\n",
      "Animal City LLC                     2  Pizza\n",
      "Pizza City Inc                      5  Sushi Bar\n",
      "Sandwich Sandwich Inc               3  Sushi Bar\n",
      "Fish Lazy Company                   4  Fast Food\n",
      "Fun Sandwich Corporation            5  Vegetarian\n",
      "Fish State Corporation              2  Pizza\n",
      "Sandwich Pizza LLC                  4  Mexican\n",
      "Kitchen Animal Company              2  Fast Food\n",
      "Animal State Inc                    3  Mexican\n",
      "Fun Tastey LLC                      3  Sushi Bar\n",
      "Fish Lazy Inc                       5  American\n",
      "City Goat LLC                       4  Pizza\n",
      "Big Goat Corporation                3  Sushi Bar\n",
      "State Lazy Inc                      4  Fast Food\n",
      "Kitchen Animal Inc                  5  Bar Food\n",
      "Salty Pizza Company                 1  American\n",
      "State Kitchen LLC                   5  American\n",
      "Salty Pizza Company                 1  Sushi Bar\n",
      "Animal Tastey LLC                   3  Mexican\n",
      "State Pizza LLC                     3  Vegetarian\n",
      "Sandwich Salty Company              4  American\n",
      "City Salty Corporation              4  Mexican\n",
      "Big Lazy LLC                        3  American\n",
      "Goat State Corporation              2  Sushi Bar\n",
      "Tastey Sandwich LLC                 5  Vegetarian\n",
      "City Animal Company                 2  Sushi Bar\n",
      "City Big Corporation                1  Italian\n",
      "Fun Animal Corporation              3  Italian\n",
      "Lazy Fun Corporation                5  Pizza\n",
      "Lazy Kitchen Inc                    4  Bar Food\n",
      "State State Corporation             1  Vegetarian\n",
      "Lazy Big Corporation                4  Fast Food\n",
      "Kitchen Pizza Corporation           3  Pizza\n",
      "Animal Animal Corporation           1  American\n",
      "Goat Fish Inc                       5  Italian\n",
      "Big Tastey Corporation              3  Pizza\n",
      "City Tastey Company                 5  Vegetarian\n",
      "Tastey Goat Inc                     3  Italian\n",
      "Kitchen Fun Company                 3  American\n",
      "Pizza Fish Company                  2  Mexican\n",
      "Fish Big LLC                        1  Italian\n",
      "Tastey Goat Inc                     2  Fast Food\n",
      "State Fun Company                   2  Italian\n",
      "Fun Tastey Company                  1  Vegetarian\n",
      "Kitchen Goat Company                1  Fast Food\n",
      "Kitchen Pizza Inc                   2  Sushi Bar\n",
      "Kitchen Fun Inc                     4  Fast Food\n",
      "Lazy Pizza Corporation              5  Pizza\n",
      "Fish Big LLC                        3  Vegetarian\n",
      "Tastey Goat Company                 2  Vegetarian\n",
      "Sandwich Salty Company              4  Italian\n",
      "Fish Tastey LLC                     4  Italian\n",
      "State Tastey Inc                    3  Sushi Bar\n",
      "Salty Tastey Company                2  Pizza\n",
      "Salty Fish Company                  2  Pizza\n",
      "Fish Pizza Company                  4  Fast Food\n",
      "Pizza Big Corporation               2  Fast Food\n",
      "Goat Sandwich LLC                   1  Mexican\n",
      "Fun State Inc                       5  Fast Food\n",
      "State Sandwich Company              4  Bar Food\n",
      "Animal Tastey Inc                   5  Italian\n",
      "Animal Salty Company                3  Italian\n",
      "Animal Salty Inc                    3  Sushi Bar\n",
      "Tastey Sandwich Company             1  Pizza\n",
      "City Big Inc                        2  Bar Food\n",
      "Big Big Inc                         3  Mexican\n",
      "Lazy State Company                  4  Sushi Bar\n",
      "City State Corporation              2  Mexican\n",
      "Goat Pizza Inc                      5  Bar Food\n",
      "Fun Fun Company                     3  Fast Food\n",
      "Big Big Company                     2  American\n",
      "City Salty Company                  5  Fast Food\n",
      "Animal Big LLC                      4  Fast Food\n",
      "Animal Kitchen LLC                  2  Bar Food\n",
      "Big Sandwich LLC                    1  Vegetarian\n",
      "Fun Sandwich LLC                    1  Sushi Bar\n",
      "Fish Goat Inc                       2  Pizza\n",
      "Pizza Kitchen Corporation           2  Bar Food\n",
      "Fun Sandwich LLC                    1  Vegetarian\n",
      "Pizza Big Corporation               3  Pizza\n",
      "Salty Pizza LLC                     1  Sushi Bar\n",
      "Sandwich State LLC                  2  Pizza\n",
      "Sandwich Big LLC                    5  American\n",
      "State Kitchen LLC                   3  Bar Food\n",
      "Animal Big LLC                      4  Bar Food\n",
      "Big Pizza LLC                       2  Pizza\n",
      "Big Fun Corporation                 1  Vegetarian\n",
      "Tastey Animal Corporation           4  Bar Food\n",
      "Lazy Fish Inc                       3  Fast Food\n",
      "Fish Fun Inc                        1  Vegetarian\n",
      "Salty Sandwich LLC                  3  Vegetarian\n",
      "State Sandwich Company              3  Vegetarian\n",
      "Fish Fun Corporation                1  Italian\n",
      "Goat Salty LLC                      3  Pizza\n",
      "City Tastey LLC                     1  Pizza\n",
      "Kitchen Goat Inc                    2  Italian\n",
      "Tastey Sandwich Company             3  Italian\n",
      "Lazy Sandwich Company               1  Sushi Bar\n",
      "Kitchen Salty Company               2  Bar Food\n",
      "Animal Kitchen Inc                  4  Vegetarian\n",
      "Fish Lazy Company                   4  Italian\n",
      "Kitchen Fish Company                5  Fast Food\n",
      "Animal Big Company                  3  Italian\n",
      "Goat Lazy Corporation               3  Italian\n",
      "Pizza Lazy Corporation              4  Mexican\n",
      "Big Goat Inc                        2  Fast Food\n",
      "Pizza State Inc                     1  Bar Food\n",
      "Salty Goat Inc                      4  Bar Food\n",
      "City City Corporation               5  Fast Food\n",
      "Salty Fun LLC                       5  Pizza\n",
      "Lazy Big Company                    1  Pizza\n",
      "Pizza State Corporation             5  Italian\n",
      "Lazy Kitchen Corporation            4  Mexican\n",
      "Goat Big Corporation                5  Pizza\n",
      "Animal Animal Inc                   4  Pizza\n",
      "Kitchen City LLC                    4  Bar Food\n",
      "Big Fun LLC                         4  Mexican\n",
      "Kitchen Pizza Corporation           4  Sushi Bar\n",
      "Fun Lazy Inc                        4  Mexican\n",
      "Fish Kitchen Company                4  Pizza\n",
      "Goat State LLC                      1  Italian\n",
      "Goat Pizza Inc                      4  Pizza\n",
      "Fun Fish Corporation                5  Italian\n",
      "City Goat Inc                       4  Mexican\n",
      "Fun Fish LLC                        5  American\n",
      "Fish Pizza LLC                      5  Fast Food\n",
      "Big Big LLC                         5  Fast Food\n",
      "Animal Sandwich Corporation         1  Italian\n",
      "Tastey Kitchen LLC                  4  Fast Food\n",
      "City Fish Corporation               1  Pizza\n",
      "Fun Animal Company                  1  Bar Food\n",
      "Big Big LLC                         2  Vegetarian\n",
      "Fish Big Corporation                5  American\n",
      "Fun Kitchen Company                 5  American\n",
      "Lazy City Company                   1  Bar Food\n",
      "Lazy Sandwich Company               2  Sushi Bar\n",
      "Goat Kitchen Inc                    5  Sushi Bar\n",
      "State Kitchen LLC                   3  Vegetarian\n",
      "Sandwich Goat LLC                   1  Pizza\n",
      "Pizza Pizza LLC                     4  Fast Food\n",
      "Salty Goat LLC                      5  Fast Food\n",
      "Fun City LLC                        1  Mexican\n",
      "Animal Goat Company                 1  Pizza\n",
      "Goat City LLC                       1  American\n",
      "Pizza State Corporation             3  Italian\n",
      "Sandwich Goat Company               3  Pizza\n",
      "Lazy State Inc                      2  Fast Food\n",
      "Salty Goat Inc                      2  Bar Food\n",
      "Animal Sandwich Inc                 5  Italian\n",
      "City Fun Inc                        3  American\n",
      "Kitchen Salty LLC                   2  Vegetarian\n",
      "Salty Kitchen Corporation           1  Bar Food\n",
      "Big Animal Corporation              3  American\n",
      "Fish Fun Corporation                3  Mexican\n",
      "Kitchen Fun Corporation             1  American\n",
      "Big Pizza LLC                       5  Fast Food\n",
      "City Lazy Company                   2  Bar Food\n",
      "State Fun Corporation               2  Italian\n",
      "Tastey Fun Corporation              3  Italian\n",
      "Pizza Fun Corporation               2  Italian\n",
      "Fun Fish Company                    1  Fast Food\n",
      "Goat State Corporation              3  Italian\n",
      "Salty Goat Company                  4  Fast Food\n",
      "Kitchen Fish Company                5  Fast Food\n",
      "Salty State LLC                     1  Fast Food\n",
      "Kitchen Big Company                 3  Italian\n",
      "Sandwich Animal Company             5  Bar Food\n",
      "State Kitchen Corporation           1  Pizza\n",
      "Fish Fun LLC                        1  Bar Food\n",
      "Sandwich City Company               3  Pizza\n",
      "Salty Sandwich Inc                  2  Mexican\n",
      "Kitchen Fish Corporation            5  Sushi Bar\n",
      "Animal Fish Company                 1  American\n",
      "Fish Fish Inc                       2  Vegetarian\n",
      "Kitchen Fun LLC                     4  Italian\n",
      "Kitchen Kitchen Company             1  Italian\n",
      "City Fish Inc                       3  Italian\n",
      "Sandwich Kitchen Inc                4  American\n",
      "Tastey Fish Inc                     2  Mexican\n",
      "Fish Goat LLC                       2  Pizza\n",
      "State Fish Corporation              1  American\n",
      "Salty Lazy Inc                      2  Vegetarian\n",
      "State Animal Inc                    4  Pizza\n",
      "Kitchen City Inc                    1  Vegetarian\n",
      "Goat State Inc                      5  Sushi Bar\n",
      "Fish State Inc                      5  Mexican\n",
      "Pizza Big Company                   4  Vegetarian\n",
      "Goat Kitchen Corporation            2  Italian\n",
      "Animal Animal Corporation           3  Sushi Bar\n",
      "Sandwich Tastey Inc                 5  Fast Food\n",
      "Goat Pizza Inc                      4  Italian\n",
      "Goat Big Inc                        3  Sushi Bar\n",
      "Big Salty Company                   4  Italian\n",
      "Animal State Corporation            3  Bar Food\n",
      "Animal Tastey Corporation           2  Vegetarian\n",
      "Fun Salty Inc                       3  Mexican\n",
      "Sandwich Goat Company               5  Fast Food\n",
      "Fun Fun LLC                         3  Mexican\n",
      "Animal Pizza Company                2  Bar Food\n",
      "Goat Salty LLC                      5  Italian\n",
      "Fun State Inc                       2  Mexican\n",
      "Tastey Lazy Inc                     1  Italian\n",
      "Pizza Kitchen LLC                   4  Vegetarian\n",
      "Big Fun Company                     5  Bar Food\n",
      "Fun Fish Corporation                3  Vegetarian\n",
      "Sandwich Lazy LLC                   3  Vegetarian\n",
      "Kitchen Lazy Company                2  Vegetarian\n",
      "City Sandwich Company               1  Italian\n",
      "Sandwich Big LLC                    5  Mexican\n",
      "Lazy Pizza Company                  5  American\n",
      "Fun Fun Corporation                 3  Pizza\n",
      "Sandwich Sandwich Company           2  Pizza\n",
      "Sandwich Animal Corporation         5  Pizza\n",
      "Sandwich Fun Corporation            4  Sushi Bar\n",
      "Goat Animal Corporation             3  Bar Food\n",
      "Tastey City Inc                     1  American\n",
      "State Lazy Corporation              3  Italian\n",
      "City Sandwich Corporation           2  Italian\n",
      "Salty Fish LLC                      1  Sushi Bar\n",
      "Fun Salty Inc                       2  Mexican\n",
      "Animal Animal Inc                   3  Vegetarian\n",
      "Tastey Big Corporation              1  Vegetarian\n",
      "Fun Pizza Inc                       2  Italian\n",
      "Goat City LLC                       2  Italian\n",
      "Big Salty Company                   2  Pizza\n",
      "Big Fish Inc                        4  American\n",
      "Sandwich Salty Corporation          4  Pizza\n",
      "Sandwich Kitchen Inc                4  Italian\n",
      "Pizza Fun Company                   2  Pizza\n",
      "Sandwich Big Inc                    2  Pizza\n",
      "Lazy Fish Corporation               5  Bar Food\n",
      "Pizza Fish Company                  1  Vegetarian\n",
      "Animal City LLC                     2  Vegetarian\n",
      "Big Sandwich Inc                    5  Pizza\n",
      "City State Corporation              4  Vegetarian\n",
      "Pizza Lazy Inc                      2  American\n",
      "Animal State Corporation            2  American\n",
      "Kitchen State LLC                   2  American\n",
      "State Goat LLC                      5  Mexican\n",
      "Pizza Kitchen LLC                   2  Italian\n",
      "Big Fish Inc                        3  Italian\n",
      "City Salty LLC                      1  Bar Food\n",
      "Lazy Pizza Inc                      3  American\n",
      "Kitchen Big Corporation             3  Sushi Bar\n",
      "Kitchen Lazy Corporation            5  Sushi Bar\n",
      "Tastey Fish Inc                     1  Pizza\n",
      "Tastey City Company                 5  Bar Food\n",
      "Tastey Goat Company                 4  Bar Food\n",
      "Lazy Fish Inc                       3  Italian\n",
      "State Goat Company                  5  Pizza\n",
      "Salty Pizza Company                 1  Pizza\n",
      "Big City Corporation                4  Pizza\n",
      "Fish City Company                   3  Bar Food\n",
      "Fish Fish Inc                       3  Mexican\n",
      "Lazy Sandwich LLC                   4  Italian\n",
      "City Kitchen Inc                    5  Bar Food\n",
      "Tastey City Company                 1  Vegetarian\n",
      "Goat Pizza LLC                      5  American\n",
      "Sandwich Big Company                5  Vegetarian\n",
      "Fish Sandwich Inc                   3  Vegetarian\n",
      "Tastey Goat Corporation             1  Fast Food\n",
      "Goat State Inc                      1  Mexican\n",
      "Big Kitchen LLC                     4  Vegetarian\n",
      "Big State LLC                       1  Italian\n",
      "Pizza Tastey Company                3  Sushi Bar\n",
      "Animal Tastey Corporation           2  Fast Food\n",
      "Salty Goat LLC                      5  Bar Food\n",
      "Goat Goat LLC                       1  Pizza\n",
      "Sandwich Big LLC                    3  Pizza\n",
      "Goat State Inc                      1  American\n",
      "State Fun Corporation               1  Fast Food\n",
      "Tastey Fish Company                 3  Fast Food\n",
      "Goat Fish LLC                       1  Mexican\n",
      "Fish Goat Corporation               2  Mexican\n",
      "Sandwich Sandwich Company           2  Italian\n",
      "Pizza Big Inc                       3  American\n",
      "Fish Lazy LLC                       5  Mexican\n",
      "Sandwich State Company              2  Sushi Bar\n",
      "Lazy Animal LLC                     2  Mexican\n",
      "Salty State Corporation             3  Pizza\n",
      "Kitchen Salty Inc                   5  Vegetarian\n",
      "Big Lazy LLC                        2  Italian\n",
      "Animal Fun Company                  1  Vegetarian\n",
      "Animal Big Corporation              4  Sushi Bar\n",
      "Salty Goat LLC                      3  American\n",
      "Fish Goat Inc                       4  American\n",
      "Goat Fish Inc                       1  Pizza\n",
      "Pizza State Company                 1  Sushi Bar\n",
      "Animal City Company                 1  Fast Food\n",
      "Fish City Company                   4  Vegetarian\n",
      "Lazy Tastey Corporation             4  Fast Food\n",
      "Big Kitchen Inc                     3  Vegetarian\n",
      "Big Sandwich LLC                    2  Fast Food\n",
      "Sandwich City LLC                   2  Vegetarian\n",
      "Salty Goat LLC                      1  Fast Food\n",
      "Animal Big Company                  3  Pizza\n",
      "Sandwich Pizza LLC                  3  Sushi Bar\n",
      "Fun Fish Inc                        4  Mexican\n",
      "Sandwich Kitchen LLC                1  Mexican\n",
      "Lazy State Inc                      4  Fast Food\n",
      "Kitchen Animal LLC                  5  Pizza\n",
      "Pizza City Company                  1  Italian\n",
      "City Kitchen LLC                    5  Italian\n",
      "Tastey State LLC                    4  Pizza\n",
      "Fun Animal Company                  2  Sushi Bar\n",
      "Big Pizza Company                   2  Fast Food\n",
      "Tastey City LLC                     2  Bar Food\n",
      "Pizza Animal Company                5  Mexican\n",
      "Salty Lazy Inc                      1  Bar Food\n",
      "Tastey State Inc                    3  Pizza\n",
      "Kitchen Pizza Corporation           4  Sushi Bar\n",
      "Fun Goat Corporation                2  Mexican\n",
      "Pizza Fun LLC                       5  Vegetarian\n",
      "Animal Animal Corporation           5  Mexican\n",
      "Lazy Tastey Corporation             3  Pizza\n",
      "Fish Salty LLC                      3  Vegetarian\n",
      "Pizza Tastey Corporation            3  Fast Food\n",
      "Animal Tastey Company               2  Pizza\n",
      "State Pizza LLC                     3  Bar Food\n",
      "Lazy Goat Corporation               4  Italian\n",
      "City Fun Corporation                1  Vegetarian\n",
      "Kitchen Pizza Company               2  American\n",
      "Animal Sandwich Company             2  Pizza\n",
      "Lazy Fun Inc                        5  Vegetarian\n",
      "City Kitchen Corporation            5  American\n",
      "Fun Lazy LLC                        2  Sushi Bar\n",
      "Kitchen Animal Company              5  Italian\n",
      "Tastey Big Corporation              2  Mexican\n",
      "Goat Kitchen Inc                    3  Mexican\n",
      "Pizza Animal Inc                    1  Bar Food\n",
      "City Pizza Inc                      5  Sushi Bar\n",
      "Fish Pizza LLC                      4  Fast Food\n",
      "Lazy City Corporation               3  Mexican\n",
      "Fun City Corporation                5  Bar Food\n",
      "Tastey Kitchen Corporation          1  Mexican\n",
      "Salty State Company                 3  Sushi Bar\n",
      "Salty State Inc                     1  Bar Food\n",
      "Pizza Goat LLC                      1  Fast Food\n",
      "Animal Goat LLC                     5  Fast Food\n",
      "Fun Big LLC                         1  Mexican\n",
      "Sandwich City Inc                   5  Pizza\n",
      "Tastey Kitchen Company              3  Vegetarian\n",
      "Fish Pizza LLC                      2  American\n",
      "Fun State Company                   5  Vegetarian\n",
      "Sandwich Fish Company               4  American\n",
      "Fun Goat Inc                        5  Bar Food\n",
      "Fish Kitchen Corporation            3  Sushi Bar\n",
      "Big Big Company                     5  Pizza\n",
      "Lazy Animal LLC                     3  Sushi Bar\n",
      "Animal Goat Corporation             1  Vegetarian\n",
      "Animal Tastey Company               4  Sushi Bar\n",
      "State Kitchen LLC                   3  Sushi Bar\n",
      "Goat Pizza Company                  1  Mexican\n",
      "Tastey Tastey Inc                   2  American\n",
      "Big City Inc                        4  Fast Food\n",
      "Animal Salty LLC                    4  Bar Food\n",
      "Lazy Lazy Inc                       4  Fast Food\n",
      "State Pizza Inc                     5  Fast Food\n",
      "Fun Pizza Corporation               1  Sushi Bar\n",
      "Animal Animal Corporation           3  Italian\n",
      "Tastey Pizza Corporation            1  Mexican\n",
      "State Fun Corporation               2  Pizza\n",
      "Pizza Fish Company                  3  Vegetarian\n",
      "State Pizza Company                 5  Sushi Bar\n",
      "Sandwich Salty Company              2  Vegetarian\n",
      "City Pizza Corporation              4  Fast Food\n",
      "Lazy Fun LLC                        3  American\n",
      "Salty Lazy Company                  1  Bar Food\n",
      "Sandwich Pizza Corporation          4  Vegetarian\n",
      "Tastey City Corporation             1  Bar Food\n",
      "Goat Big Corporation                5  Fast Food\n",
      "Pizza City Company                  4  Fast Food\n",
      "Goat Fish Company                   4  Pizza\n",
      "Big State LLC                       1  Italian\n",
      "State Fun Company                   5  Pizza\n",
      "Kitchen Salty Inc                   2  Italian\n",
      "Fish Pizza Corporation              1  Bar Food\n",
      "Fish Big LLC                        5  Mexican\n",
      "Kitchen Sandwich LLC                1  Bar Food\n",
      "Goat Tastey Company                 5  American\n",
      "Pizza Kitchen LLC                   5  Sushi Bar\n",
      "City Tastey LLC                     5  Pizza\n",
      "Fish Tastey LLC                     2  Fast Food\n",
      "Animal Kitchen LLC                  3  Pizza\n",
      "Lazy Salty Inc                      3  Fast Food\n",
      "State Fish Corporation              3  Pizza\n",
      "Fish Salty Inc                      2  Mexican\n",
      "City Kitchen Corporation            1  Vegetarian\n",
      "State Goat LLC                      2  Mexican\n",
      "Big Lazy Company                    1  Pizza\n",
      "Goat State LLC                      1  Sushi Bar\n",
      "Big City LLC                        4  American\n",
      "Animal Tastey LLC                   3  Vegetarian\n",
      "Animal State Company                2  Bar Food\n",
      "City Salty Inc                      1  Vegetarian\n",
      "Sandwich Tastey LLC                 4  Fast Food\n",
      "Lazy State LLC                      4  American\n",
      "Big Salty LLC                       5  Pizza\n",
      "Tastey Animal LLC                   1  Italian\n",
      "State Lazy Company                  5  Mexican\n",
      "Animal Goat Company                 1  American\n",
      "Lazy Tastey Corporation             3  Pizza\n",
      "Goat Animal LLC                     3  American\n",
      "Big Sandwich Inc                    2  Sushi Bar\n",
      "Big Kitchen LLC                     5  Vegetarian\n",
      "Fish Goat Company                   5  Sushi Bar\n",
      "Lazy State LLC                      1  Fast Food\n",
      "Sandwich Salty Company              3  American\n",
      "Sandwich Kitchen Company            3  Italian\n",
      "Fish Goat Inc                       5  Pizza\n",
      "Tastey City Corporation             2  Sushi Bar\n",
      "Tastey Sandwich LLC                 5  Mexican\n",
      "Tastey Sandwich LLC                 2  Mexican\n",
      "Animal Tastey Company               5  American\n",
      "Animal Animal Corporation           4  Mexican\n",
      "State Sandwich Corporation          1  Sushi Bar\n",
      "Kitchen Goat Company                4  Italian\n",
      "Animal Sandwich Inc                 5  Sushi Bar\n",
      "Goat City Corporation               4  Pizza\n",
      "Salty Sandwich Corporation          4  Fast Food\n",
      "Sandwich Goat LLC                   1  Italian\n",
      "Kitchen City Corporation            3  American\n",
      "Animal Goat LLC                     2  Mexican\n",
      "Fun Fun Inc                         2  American\n",
      "State State Company                 1  American\n",
      "Goat Lazy LLC                       1  American\n",
      "State Pizza Company                 1  Sushi Bar\n",
      "Salty Goat LLC                      1  American\n",
      "Kitchen Salty LLC                   2  Pizza\n",
      "Fun Lazy Company                    2  Bar Food\n",
      "Pizza Kitchen LLC                   2  American\n",
      "Pizza Tastey Inc                    2  Italian\n",
      "Salty Animal Inc                    2  Fast Food\n",
      "Goat Fun Inc                        3  Fast Food\n",
      "Kitchen Big LLC                     3  Bar Food\n",
      "State Fish Company                  3  Mexican\n",
      "Goat Fish LLC                       1  Sushi Bar\n",
      "Lazy Pizza Company                  5  Vegetarian\n",
      "Lazy Big LLC                        4  Vegetarian\n",
      "Fish State LLC                      3  Bar Food\n",
      "Lazy Goat LLC                       5  American\n",
      "Lazy City Corporation               2  Pizza\n",
      "Fish Tastey Corporation             1  Sushi Bar\n",
      "Lazy Fun Corporation                5  Italian\n",
      "Sandwich Fun LLC                    4  Fast Food\n",
      "Pizza Tastey Inc                    2  Pizza\n",
      "Sandwich Sandwich Inc               3  Pizza\n",
      "Salty State Company                 2  Vegetarian\n",
      "State Pizza Corporation             1  Bar Food\n",
      "City Goat Inc                       4  Pizza\n",
      "Fish Animal Inc                     1  Mexican\n",
      "Fish Fun LLC                        4  Italian\n",
      "Pizza Tastey Corporation            1  Pizza\n",
      "City Pizza LLC                      3  Bar Food\n",
      "Big Lazy LLC                        5  Vegetarian\n",
      "Tastey State Corporation            5  Italian\n",
      "Kitchen Fish Corporation            5  Pizza\n",
      "Animal State Company                1  Italian\n",
      "Big City Inc                        1  Mexican\n",
      "Salty Big Inc                       4  Pizza\n",
      "Fish Lazy Company                   4  Pizza\n",
      "Goat Tastey LLC                     2  Vegetarian\n",
      "Kitchen Goat LLC                    1  Sushi Bar\n",
      "Goat Lazy Inc                       3  Sushi Bar\n",
      "State Fun Company                   4  Fast Food\n",
      "Tastey Salty Corporation            3  Fast Food\n",
      "Kitchen Big Inc                     2  Italian\n",
      "Animal Big Company                  3  Pizza\n",
      "State Pizza Inc                     3  Sushi Bar\n",
      "Fish Salty LLC                      2  Sushi Bar\n",
      "Animal Sandwich LLC                 5  Sushi Bar\n",
      "Kitchen Big Company                 5  Vegetarian\n",
      "Fun Goat Inc                        4  Sushi Bar\n",
      "Sandwich Pizza LLC                  2  Italian\n",
      "Big Lazy Inc                        3  Fast Food\n",
      "Fish State LLC                      5  Italian\n",
      "City Big Corporation                1  American\n",
      "Pizza Lazy Company                  5  Italian\n",
      "Pizza City Corporation              2  Pizza\n",
      "Kitchen Lazy LLC                    3  Vegetarian\n",
      "Fun State Inc                       4  Sushi Bar\n",
      "Goat City Company                   4  Mexican\n",
      "Tastey Kitchen Inc                  2  Sushi Bar\n",
      "Big Animal LLC                      2  Italian\n",
      "Goat Fun Company                    5  Fast Food\n",
      "Salty Goat Corporation              5  Sushi Bar\n",
      "Tastey Goat Inc                     2  Vegetarian\n",
      "Lazy Sandwich Corporation           3  American\n",
      "Pizza Big Corporation               4  Pizza\n",
      "Tastey Fish Company                 1  American\n",
      "Tastey Kitchen Inc                  5  Pizza\n",
      "Goat State Company                  2  Bar Food\n",
      "Animal Salty LLC                    4  Vegetarian\n",
      "Animal Big Corporation              3  American\n",
      "Fish Tastey Company                 3  Italian\n",
      "Big Kitchen Corporation             5  Vegetarian\n",
      "Fun Kitchen LLC                     2  Sushi Bar\n",
      "Lazy Tastey Company                 4  Mexican\n",
      "City Pizza Inc                      1  Mexican\n",
      "City Big Company                    1  Fast Food\n",
      "State Tastey LLC                    4  Fast Food\n",
      "Fun Tastey Company                  4  Sushi Bar\n",
      "Lazy Big Inc                        5  Mexican\n",
      "Goat Animal Inc                     5  Mexican\n",
      "Kitchen City Inc                    4  Pizza\n",
      "Fun Lazy Inc                        4  Italian\n",
      "Sandwich Fish Corporation           3  Italian\n",
      "Animal Pizza Corporation            1  American\n",
      "Goat State Corporation              3  Sushi Bar\n",
      "Fun Animal Inc                      5  Fast Food\n",
      "Goat Pizza Inc                      5  Mexican\n",
      "Fish Big Inc                        5  Sushi Bar\n",
      "Fun Fun Inc                         2  Vegetarian\n",
      "Salty Fun Inc                       1  Fast Food\n",
      "Big Tastey Inc                      1  Fast Food\n",
      "City State Corporation              5  American\n",
      "Salty State LLC                     1  Vegetarian\n",
      "Fish Goat Corporation               4  Pizza\n",
      "Kitchen Salty Company               4  Fast Food\n",
      "Goat Goat Corporation               2  Sushi Bar\n",
      "Fun Goat LLC                        5  Pizza\n",
      "Pizza Animal Company                4  Sushi Bar\n",
      "Kitchen Salty Company               5  Bar Food\n",
      "Goat Big LLC                        5  Bar Food\n",
      "Animal Animal Company               4  American\n",
      "Fish Animal Corporation             1  Bar Food\n",
      "City Lazy Corporation               1  Sushi Bar\n",
      "Big Kitchen Inc                     3  American\n",
      "Sandwich Tastey LLC                 3  Pizza\n",
      "Big Tastey LLC                      4  Bar Food\n",
      "Big City Inc                        3  Pizza\n",
      "Tastey Salty Inc                    4  Bar Food\n",
      "Goat Tastey Company                 2  Vegetarian\n",
      "Salty Lazy Corporation              4  Vegetarian\n",
      "Goat Sandwich Company               1  Pizza\n",
      "City Lazy Inc                       1  Bar Food\n",
      "State State Company                 2  Vegetarian\n",
      "Salty Goat Corporation              1  Bar Food\n",
      "Lazy State Company                  1  Pizza\n",
      "Fun Sandwich LLC                    4  Italian\n",
      "Kitchen State LLC                   5  Pizza\n",
      "Tastey Fish Company                 1  Italian\n",
      "Sandwich Animal LLC                 2  Mexican\n",
      "Fish Goat LLC                       4  Mexican\n",
      "Tastey Lazy LLC                     2  Fast Food\n",
      "Big Fish Corporation                5  Bar Food\n",
      "Lazy Big Inc                        3  American\n",
      "Animal Sandwich Corporation         5  Bar Food\n",
      "Lazy Sandwich Company               5  Mexican\n",
      "Sandwich City Inc                   5  Mexican\n",
      "Fun Kitchen Corporation             4  Mexican\n",
      "Lazy Fun Corporation                1  Pizza\n",
      "Fun Big Inc                         5  Pizza\n",
      "Pizza Pizza LLC                     5  Pizza\n",
      "Fun Salty Inc                       5  Italian\n",
      "Goat Tastey LLC                     5  Italian\n",
      "Sandwich Animal LLC                 3  Vegetarian\n",
      "Kitchen Big Company                 3  Sushi Bar\n",
      "Big City Company                    1  Fast Food\n",
      "Lazy Kitchen Inc                    2  Sushi Bar\n",
      "Salty Fun Company                   2  Mexican\n",
      "Big Tastey Company                  4  Fast Food\n",
      "State City Corporation              2  Vegetarian\n",
      "Kitchen City Corporation            2  Mexican\n",
      "Fish Lazy Company                   2  Italian\n",
      "Fish Animal Corporation             4  American\n",
      "Sandwich State Corporation          1  Pizza\n",
      "City Big Inc                        3  Pizza\n",
      "Tastey Goat LLC                     4  Pizza\n",
      "Pizza City Company                  3  Mexican\n",
      "Goat Kitchen LLC                    2  Vegetarian\n",
      "Fun Pizza LLC                       4  Italian\n",
      "Goat Sandwich Inc                   4  Mexican\n",
      "Salty Kitchen Inc                   3  Pizza\n",
      "Tastey Salty Inc                    4  Italian\n",
      "Tastey Pizza Corporation            1  Sushi Bar\n",
      "State City Inc                      5  Vegetarian\n",
      "Big Big Corporation                 4  Bar Food\n",
      "Pizza Sandwich Company              5  Bar Food\n",
      "Big Kitchen LLC                     3  Pizza\n",
      "Salty Lazy Company                  5  American\n",
      "Lazy Pizza Company                  2  Fast Food\n",
      "Kitchen Salty Inc                   4  Mexican\n",
      "Fish State LLC                      4  Sushi Bar\n",
      "Tastey Lazy Inc                     1  American\n",
      "Lazy Tastey Company                 2  Fast Food\n",
      "Kitchen City LLC                    1  Mexican\n",
      "Big Animal LLC                      2  Vegetarian\n",
      "Lazy Lazy Company                   4  Sushi Bar\n",
      "Tastey Goat LLC                     5  Bar Food\n",
      "Salty Sandwich Corporation          1  Fast Food\n",
      "Lazy Lazy Inc                       4  Vegetarian\n",
      "Fish Big Inc                        5  Mexican\n",
      "Animal Goat Corporation             1  Mexican\n",
      "Fun Fun Corporation                 1  Sushi Bar\n",
      "Tastey Fun Inc                      3  Italian\n",
      "Lazy Sandwich Company               4  Sushi Bar\n",
      "Animal City Corporation             5  Pizza\n",
      "Salty Big LLC                       4  Mexican\n",
      "Fun Tastey LLC                      2  Vegetarian\n",
      "Big City Inc                        4  American\n",
      "Sandwich City Inc                   1  Sushi Bar\n",
      "Goat Pizza Company                  1  Bar Food\n",
      "Big Animal Company                  4  Mexican\n",
      "Kitchen Sandwich Inc                2  Vegetarian\n",
      "Goat Big Inc                        2  Bar Food\n",
      "State Fish Company                  2  Pizza\n",
      "Animal Lazy Corporation             2  Bar Food\n",
      "Animal Fun Company                  1  Vegetarian\n",
      "City City Inc                       4  Mexican\n",
      "Goat Goat LLC                       1  Italian\n",
      "City Big LLC                        4  Sushi Bar\n",
      "Sandwich Kitchen LLC                2  Bar Food\n",
      "Kitchen Lazy Corporation            3  Vegetarian\n",
      "City State Corporation              5  Fast Food\n",
      "Fish Fun Inc                        5  Vegetarian\n",
      "Big Big Corporation                 2  Pizza\n",
      "Fun Salty Company                   3  Sushi Bar\n",
      "Big Sandwich Corporation            4  Sushi Bar\n",
      "Sandwich Lazy Inc                   3  Italian\n",
      "Tastey Fish LLC                     5  Fast Food\n",
      "Salty Sandwich Company              3  Vegetarian\n",
      "State Pizza LLC                     1  Pizza\n",
      "City Sandwich Company               5  Mexican\n",
      "Tastey Kitchen Company              4  Vegetarian\n",
      "Sandwich Animal Inc                 5  Italian\n",
      "Salty Fun LLC                       2  American\n",
      "Sandwich Salty Corporation          3  Fast Food\n",
      "Big Lazy Inc                        1  Vegetarian\n",
      "City Lazy LLC                       3  Italian\n",
      "Lazy Sandwich Inc                   2  Pizza\n",
      "Goat Kitchen LLC                    2  Italian\n",
      "City City Corporation               5  Sushi Bar\n",
      "State Goat LLC                      1  Italian\n",
      "Big City Corporation                3  Vegetarian\n",
      "State Big Company                   5  Sushi Bar\n",
      "Fish Pizza Inc                      5  Vegetarian\n",
      "Fish Animal Corporation             1  Sushi Bar\n",
      "Goat Tastey Company                 1  Sushi Bar\n",
      "Tastey Fish Corporation             2  Pizza\n",
      "Tastey Pizza Inc                    4  Sushi Bar\n",
      "Salty Fish Corporation              5  Vegetarian\n",
      "Tastey Fish Inc                     1  Italian\n",
      "Lazy Fun Company                    2  Bar Food\n",
      "State Tastey LLC                    2  Pizza\n",
      "Kitchen Big Corporation             3  Vegetarian\n",
      "Fish Tastey LLC                     2  Fast Food\n",
      "Animal Animal Company               2  Mexican\n",
      "Sandwich Big Corporation            2  Vegetarian\n",
      "Sandwich Big Corporation            4  Vegetarian\n",
      "Big Animal Corporation              4  American\n",
      "Sandwich Pizza Inc                  1  American\n",
      "Salty Tastey Corporation            4  Pizza\n",
      "Fun Pizza LLC                       3  Mexican\n",
      "Fun Pizza LLC                       4  Pizza\n",
      "Goat Pizza Corporation              2  Vegetarian\n",
      "Goat State LLC                      2  Sushi Bar\n",
      "Animal Goat Inc                     5  American\n",
      "Big Fun Corporation                 4  Fast Food\n",
      "Animal Pizza Inc                    4  American\n",
      "Fish City Company                   1  Mexican\n",
      "Fish Fun Inc                        5  Pizza\n",
      "Kitchen Fun Inc                     4  Pizza\n",
      "Sandwich Fun Inc                    5  Bar Food\n",
      "State Big Corporation               2  Pizza\n",
      "Lazy Sandwich Corporation           3  Pizza\n",
      "Fun Animal LLC                      5  Vegetarian\n",
      "Fun Tastey Corporation              3  Fast Food\n",
      "Lazy Lazy Inc                       4  Italian\n",
      "Fun City LLC                        1  Fast Food\n",
      "Lazy Lazy Corporation               4  American\n",
      "Kitchen Goat Company                3  Pizza\n",
      "Big Fun Company                     1  Mexican\n",
      "Big Pizza Company                   5  Italian\n",
      "Salty Big Corporation               4  Sushi Bar\n",
      "Big State Corporation               2  Sushi Bar\n",
      "Fun Animal Company                  1  Fast Food\n",
      "State Goat Company                  4  Italian\n",
      "Goat City Company                   1  American\n",
      "State Sandwich Company              1  Mexican\n",
      "State Pizza LLC                     4  Fast Food\n",
      "Animal Tastey Company               3  Italian\n",
      "Goat Animal Company                 5  Mexican\n",
      "Fun Sandwich Corporation            3  Fast Food\n",
      "Kitchen Pizza Corporation           4  Pizza\n",
      "Fish Big Corporation                3  Sushi Bar\n",
      "Fish Animal Company                 4  Mexican\n",
      "Salty Fun LLC                       2  Mexican\n",
      "Big Pizza Inc                       3  Fast Food\n",
      "Lazy State Company                  1  Bar Food\n",
      "Tastey Pizza Company                4  Mexican\n",
      "Lazy Pizza LLC                      3  Bar Food\n",
      "Salty Salty LLC                     1  Sushi Bar\n",
      "Lazy City Company                   5  Italian\n",
      "Lazy Big Company                    5  Sushi Bar\n",
      "Tastey Pizza Corporation            1  Fast Food\n",
      "Fish Lazy Company                   4  American\n",
      "City Lazy LLC                       3  Sushi Bar\n",
      "Fun Salty Company                   4  Fast Food\n",
      "Fish Goat Inc                       2  Sushi Bar\n",
      "Big Fish Corporation                2  Vegetarian\n",
      "Fun Kitchen LLC                     4  Sushi Bar\n",
      "Salty State Corporation             2  Vegetarian\n",
      "Big Animal LLC                      3  Sushi Bar\n",
      "Animal Tastey Corporation           2  American\n",
      "Fish Tastey Company                 3  Italian\n",
      "State Kitchen Inc                   5  Bar Food\n",
      "Lazy Lazy Company                   3  American\n",
      "Sandwich Fun Inc                    2  Fast Food\n",
      "Animal Fish Corporation             3  Sushi Bar\n",
      "Salty Big LLC                       5  Pizza\n",
      "Sandwich Kitchen LLC                4  Mexican\n",
      "Big Fun Corporation                 4  Pizza\n",
      "Animal Fun Corporation              2  Bar Food\n",
      "Goat Goat LLC                       4  Sushi Bar\n",
      "State Lazy LLC                      2  Pizza\n",
      "Tastey Pizza Company                1  Italian\n",
      "Kitchen Lazy Corporation            5  Fast Food\n",
      "Sandwich Fish Corporation           4  Pizza\n",
      "Tastey Lazy LLC                     2  Bar Food\n",
      "Fun Tastey Corporation              4  Mexican\n",
      "Pizza Sandwich LLC                  5  Bar Food\n",
      "Fish Animal Corporation             3  Fast Food\n",
      "Kitchen Sandwich Company            3  Mexican\n",
      "Lazy Sandwich Company               2  Bar Food\n",
      "Goat Tastey Inc                     5  Italian\n",
      "Kitchen Lazy LLC                    1  Mexican\n",
      "Goat State Corporation              1  Bar Food\n",
      "Fish Animal Corporation             2  Pizza\n",
      "Sandwich Tastey LLC                 3  Italian\n",
      "Kitchen Fun Corporation             2  Bar Food\n",
      "City Animal Inc                     5  Vegetarian\n",
      "Fun Salty Corporation               3  Vegetarian\n",
      "Salty Fun LLC                       1  Sushi Bar\n",
      "Fun Lazy LLC                        4  American\n",
      "Lazy Tastey Inc                     5  Pizza\n",
      "Goat Fun Inc                        5  Italian\n",
      "Salty Tastey Corporation            4  American\n",
      "Lazy Kitchen Corporation            4  Pizza\n",
      "State Big LLC                       4  Mexican\n",
      "Salty Pizza Company                 1  Italian\n",
      "Sandwich Big LLC                    3  Fast Food\n",
      "Fun Fun Company                     5  Bar Food\n",
      "Tastey City Company                 1  Vegetarian\n",
      "Salty Goat Corporation              2  Pizza\n",
      "City City LLC                       5  Pizza\n",
      "Lazy Tastey Corporation             5  Bar Food\n",
      "Goat Tastey Inc                     1  American\n",
      "Salty Salty LLC                     2  Mexican\n",
      "Sandwich Goat Corporation           4  Pizza\n",
      "Big Fish Inc                        2  Pizza\n",
      "Tastey Lazy Corporation             1  Italian\n",
      "Salty Fun LLC                       4  Pizza\n",
      "Goat Fish LLC                       2  Sushi Bar\n",
      "Tastey Sandwich LLC                 1  Sushi Bar\n",
      "Big Tastey Corporation              2  Mexican\n",
      "Fish Tastey Inc                     4  Fast Food\n",
      "Salty Goat Corporation              5  Bar Food\n",
      "Goat Tastey Inc                     1  American\n",
      "Big Lazy Corporation                3  Italian\n",
      "Big Sandwich Corporation            4  American\n",
      "Goat Goat Company                   2  Sushi Bar\n",
      "Fish Sandwich Company               3  Pizza\n",
      "Fun Fun Inc                         4  Fast Food\n",
      "Big Animal LLC                      2  Pizza\n",
      "Fish Kitchen Corporation            1  Italian\n",
      "Kitchen Pizza Corporation           1  Mexican\n",
      "Goat Kitchen Corporation            2  Mexican\n",
      "Kitchen Salty Company               4  Pizza\n",
      "Fun Sandwich Company                5  Sushi Bar\n",
      "Goat City Corporation               3  Sushi Bar\n",
      "Sandwich City Company               4  Vegetarian\n",
      "Salty State Company                 1  Mexican\n",
      "Pizza Fish LLC                      4  Fast Food\n",
      "Fish Lazy Corporation               2  Mexican\n",
      "State Salty LLC                     1  Pizza\n",
      "Kitchen Big LLC                     5  Pizza\n",
      "Big Tastey Inc                      5  Sushi Bar\n",
      "Salty Kitchen Inc                   2  Vegetarian\n",
      "Salty Tastey Company                2  Fast Food\n",
      "Fish Big LLC                        2  American\n",
      "Pizza Salty Company                 5  American\n",
      "Big Big Inc                         5  Vegetarian\n",
      "State Kitchen LLC                   1  Sushi Bar\n",
      "Pizza Big Company                   4  Mexican\n",
      "Fish Fun LLC                        3  Bar Food\n",
      "Lazy Sandwich Corporation           3  Vegetarian\n",
      "Lazy Big Corporation                5  Bar Food\n",
      "Fish Lazy LLC                       4  Vegetarian\n",
      "Kitchen Goat Company                4  Vegetarian\n",
      "Animal City Corporation             3  Vegetarian\n",
      "Animal Big Corporation              5  Sushi Bar\n",
      "Big Fish Company                    2  Mexican\n",
      "Goat City Corporation               5  Sushi Bar\n",
      "Big State Inc                       4  Mexican\n",
      "State Fish Company                  2  Fast Food\n",
      "Fun Salty LLC                       2  Mexican\n",
      "Sandwich Big Inc                    4  Mexican\n",
      "Goat Goat Inc                       2  Bar Food\n",
      "Big Big Company                     5  Pizza\n",
      "Goat Lazy Inc                       5  Sushi Bar\n",
      "Tastey State LLC                    4  Fast Food\n",
      "State Big Corporation               4  Pizza\n",
      "Kitchen Big Company                 1  Pizza\n",
      "Tastey State Company                1  Fast Food\n",
      "Salty Goat Company                  5  Fast Food\n",
      "City City Corporation               4  Mexican\n",
      "Tastey Fun Corporation              2  Sushi Bar\n",
      "Sandwich Animal Corporation         5  American\n",
      "Sandwich Fun LLC                    3  Vegetarian\n",
      "Sandwich Pizza Corporation          5  Italian\n",
      "City Big Corporation                1  Mexican\n",
      "Lazy Lazy Corporation               2  Pizza\n",
      "State Fish Inc                      2  Sushi Bar\n",
      "Big Fun Corporation                 2  Mexican\n",
      "Kitchen Fun Corporation             5  Bar Food\n",
      "City City Company                   5  Pizza\n",
      "Sandwich City Inc                   2  Italian\n",
      "Sandwich Animal Company             4  American\n",
      "Fun Fish Company                    4  Vegetarian\n",
      "Animal Sandwich Inc                 1  Bar Food\n",
      "State Animal Corporation            3  American\n",
      "Fun City Company                    3  Pizza\n",
      "Tastey Animal LLC                   2  American\n",
      "Goat Sandwich Inc                   4  Pizza\n",
      "Goat Animal Company                 1  American\n",
      "Fun City Inc                        1  Bar Food\n",
      "Tastey Fish Corporation             2  Fast Food\n",
      "Pizza Kitchen Inc                   4  Italian\n",
      "Tastey City Inc                     5  Sushi Bar\n",
      "Animal Lazy LLC                     4  Italian\n",
      "Goat Big LLC                        3  American\n",
      "Pizza Big Inc                       3  American\n",
      "Fish Big Corporation                1  Pizza\n",
      "Animal Salty LLC                    3  Sushi Bar\n",
      "Fun Fun Company                     4  Fast Food\n",
      "Kitchen Fish LLC                    5  Fast Food\n",
      "Animal Pizza Company                4  Sushi Bar\n",
      "Big Big Corporation                 3  Sushi Bar\n",
      "State Salty Company                 2  Italian\n",
      "Pizza Lazy LLC                      3  Fast Food\n",
      "Fun Big Corporation                 4  Bar Food\n",
      "Lazy Fun Inc                        2  Sushi Bar\n",
      "City Goat Company                   5  Italian\n",
      "Fun State Company                   5  Sushi Bar\n",
      "Sandwich Big Company                1  Fast Food\n",
      "Sandwich State Corporation          1  Vegetarian\n",
      "Sandwich Kitchen Company            3  Sushi Bar\n",
      "Animal Animal Company               5  Bar Food\n",
      "Pizza Fish Inc                      3  Fast Food\n",
      "Lazy Fun Company                    4  Vegetarian\n",
      "Animal Lazy Corporation             2  American\n",
      "City State Company                  3  Pizza\n",
      "Kitchen Lazy Inc                    2  American\n",
      "Fish Goat Corporation               4  Pizza\n",
      "Sandwich State Corporation          3  American\n",
      "Salty Big Corporation               2  American\n",
      "Sandwich Sandwich LLC               2  American\n",
      "Goat Lazy Company                   2  Mexican\n",
      "Pizza Lazy Inc                      4  Italian\n",
      "Kitchen City Corporation            3  Pizza\n",
      "Lazy State Corporation              3  Mexican\n",
      "City Goat Inc                       4  American\n",
      "Big Tastey Corporation              3  Sushi Bar\n",
      "Fish Sandwich Corporation           1  Fast Food\n",
      "Animal Sandwich LLC                 3  American\n",
      "Pizza Lazy Company                  3  Bar Food\n",
      "Lazy Fun Company                    2  Bar Food\n",
      "State Lazy Corporation              3  Vegetarian\n",
      "Big Tastey Inc                      5  American\n",
      "Kitchen State Company               2  Fast Food\n",
      "Fish Tastey Company                 1  Bar Food\n",
      "Sandwich Fun Company                5  Mexican\n",
      "Goat Salty Company                  2  Bar Food\n",
      "Goat Fish Inc                       4  Sushi Bar\n",
      "Salty Animal Corporation            2  Italian\n",
      "Salty State Company                 2  Fast Food\n",
      "Salty Tastey Inc                    4  Pizza\n",
      "Animal Big Inc                      1  Fast Food\n",
      "State Fun Corporation               2  Vegetarian\n",
      "Lazy City Inc                       3  Fast Food\n",
      "Animal City Company                 1  Italian\n",
      "Pizza Kitchen Inc                   3  Italian\n",
      "Lazy Goat Inc                       4  Bar Food\n",
      "Salty State LLC                     2  Fast Food\n",
      "Animal State Inc                    1  Mexican\n",
      "Lazy Animal Corporation             1  Vegetarian\n",
      "Fish Big LLC                        2  Sushi Bar\n",
      "Fun Fish LLC                        3  Bar Food\n",
      "Salty Lazy Corporation              5  Pizza\n",
      "Animal Goat LLC                     2  Vegetarian\n",
      "Goat City Corporation               4  Vegetarian\n",
      "Salty Salty Company                 4  Pizza\n",
      "Fish State Inc                      5  Mexican\n",
      "Salty City LLC                      2  American\n",
      "State Big Company                   5  Bar Food\n",
      "Salty Animal Company                4  Vegetarian\n",
      "Salty Sandwich Corporation          3  American\n",
      "Pizza Kitchen Inc                   5  Fast Food\n",
      "Fun Kitchen Company                 2  Pizza\n",
      "Sandwich Salty Company              2  Mexican\n",
      "Salty Sandwich Company              1  Pizza\n",
      "Big Fish Company                    3  Vegetarian\n",
      "Animal Lazy Corporation             5  American\n",
      "Big Salty LLC                       5  American\n",
      "Goat Fun LLC                        4  Sushi Bar\n",
      "Tastey Sandwich LLC                 5  Vegetarian\n",
      "Salty Fun Company                   1  Pizza\n",
      "Fish Salty LLC                      3  Vegetarian\n",
      "Animal Animal LLC                   1  Fast Food\n",
      "Fun Fun LLC                         4  Mexican\n",
      "Sandwich State Company              5  Fast Food\n",
      "Lazy Big Corporation                2  Fast Food\n",
      "Salty Sandwich Company              4  Sushi Bar\n",
      "Big Animal LLC                      4  Bar Food\n",
      "Big Animal Company                  3  Mexican\n",
      "Lazy State LLC                      4  Bar Food\n",
      "Salty Lazy Inc                      3  Sushi Bar\n",
      "Animal Fish LLC                     5  Mexican\n",
      "Fish Goat Company                   1  American\n",
      "Big Big Inc                         3  Bar Food\n",
      "Tastey Big Company                  3  Sushi Bar\n",
      "Salty Fun Company                   3  American\n",
      "Fish Fun LLC                        1  Vegetarian\n",
      "Sandwich Tastey Inc                 1  Pizza\n",
      "State Salty LLC                     3  Bar Food\n",
      "City Salty Company                  5  Italian\n",
      "Animal Pizza Inc                    5  Mexican\n",
      "Fish Kitchen Company                3  Italian\n",
      "Animal City Corporation             4  Pizza\n",
      "Tastey State Inc                    1  Mexican\n",
      "Animal Sandwich LLC                 5  Vegetarian\n",
      "Sandwich Tastey Company             3  Bar Food\n",
      "City Big Corporation                5  Fast Food\n",
      "State Fish Corporation              3  Italian\n",
      "Animal Goat Company                 3  Italian\n",
      "State Lazy Inc                      1  American\n",
      "Lazy Fish Inc                       4  Vegetarian\n",
      "Tastey Goat Inc                     2  American\n",
      "Lazy Big Inc                        3  Vegetarian\n",
      "Fun Fish LLC                        4  Fast Food\n",
      "Pizza Salty Inc                     3  American\n",
      "Salty Fun Inc                       1  Sushi Bar\n",
      "State City Inc                      2  American\n",
      "City Salty Company                  2  Vegetarian\n",
      "Lazy City LLC                       1  Mexican\n",
      "Fun Sandwich Corporation            1  Bar Food\n",
      "Sandwich Salty Corporation          3  Italian\n",
      "Tastey Fish Corporation             1  Pizza\n",
      "Sandwich Fun LLC                    2  Italian\n",
      "City Fun LLC                        4  Mexican\n",
      "Goat Goat Inc                       2  Bar Food\n",
      "Lazy Fish Inc                       3  American\n",
      "Salty Fun Corporation               2  Bar Food\n",
      "Goat Salty Inc                      4  Sushi Bar\n",
      "Kitchen Pizza Corporation           2  Bar Food\n",
      "City Fun LLC                        4  Fast Food\n",
      "Fish City Company                   5  Sushi Bar\n",
      "Lazy Goat Corporation               4  Fast Food\n",
      "Fun Kitchen Corporation             4  American\n",
      "Salty Sandwich Company              3  Fast Food\n",
      "Goat Fish Company                   1  Mexican\n",
      "Pizza Fun LLC                       3  American\n",
      "City Lazy Inc                       4  Fast Food\n",
      "Fish Salty Corporation              5  Bar Food\n",
      "City Lazy Company                   2  Pizza\n",
      "State Big Corporation               2  Sushi Bar\n",
      "Kitchen Pizza Inc                   5  Italian\n",
      "Animal City LLC                     4  American\n",
      "Pizza Fish LLC                      5  Sushi Bar\n",
      "State Fun Company                   5  Pizza\n",
      "Tastey Sandwich LLC                 5  Fast Food\n",
      "Salty Pizza Corporation             3  Fast Food\n",
      "Goat State Company                  5  Bar Food\n",
      "Fun Kitchen Company                 3  Sushi Bar\n",
      "State City Corporation              3  Bar Food\n",
      "Lazy Pizza Corporation              2  Fast Food\n",
      "Fun Fish Corporation                5  American\n",
      "City Salty Inc                      4  Bar Food\n",
      "Salty Kitchen Company               2  Fast Food\n",
      "Fun Big LLC                         4  Sushi Bar\n",
      "Kitchen Tastey LLC                  1  Vegetarian\n",
      "Lazy City Inc                       1  Fast Food\n",
      "Goat Salty Company                  1  Pizza\n",
      "Kitchen State Inc                   2  Bar Food\n",
      "Goat Fish Inc                       5  Fast Food\n",
      "State Lazy Inc                      3  Pizza\n",
      "Salty Animal Inc                    1  Italian\n",
      "State Kitchen Company               1  Fast Food\n",
      "Sandwich Tastey Inc                 1  Fast Food\n",
      "City Salty Inc                      4  Vegetarian\n",
      "Animal Sandwich Inc                 5  Pizza\n",
      "Tastey Lazy Inc                     2  Mexican\n",
      "Fish Kitchen LLC                    4  Mexican\n",
      "State Kitchen Company               1  Bar Food\n",
      "Tastey Salty Corporation            5  Pizza\n",
      "Big City Corporation                5  Bar Food\n",
      "Animal Fish LLC                     2  American\n",
      "Goat Tastey Company                 5  Fast Food\n",
      "Big Goat Corporation                1  Vegetarian\n",
      "Sandwich Salty Company              5  Pizza\n",
      "Lazy Pizza Corporation              4  Pizza\n",
      "Animal State Inc                    3  Mexican\n",
      "Big Fish Company                    5  Pizza\n",
      "Fish Pizza Corporation              4  Italian\n",
      "Pizza City Corporation              2  Mexican\n",
      "Fish Kitchen LLC                    4  Mexican\n",
      "Kitchen Kitchen Inc                 1  American\n",
      "Big Tastey Inc                      5  Mexican\n",
      "Big Tastey Corporation              2  Bar Food\n",
      "Big Fun Inc                         2  Bar Food\n",
      "Animal Animal Company               3  Pizza\n",
      "State Fish Inc                      1  Bar Food\n",
      "Tastey Goat LLC                     4  Fast Food\n",
      "Goat Pizza Corporation              1  Sushi Bar\n",
      "Big Salty Company                   2  Sushi Bar\n",
      "Tastey Animal Inc                   1  Italian\n",
      "Animal Kitchen Company              1  Sushi Bar\n",
      "Lazy Fun Company                    4  American\n",
      "City City Corporation               3  Pizza\n",
      "Big Pizza Corporation               1  Bar Food\n",
      "Salty Salty Corporation             3  Italian\n",
      "Tastey Tastey LLC                   2  Italian\n",
      "Goat Tastey Company                 5  American\n",
      "Salty City Corporation              1  Sushi Bar\n",
      "Big Tastey Corporation              1  Sushi Bar\n",
      "Animal Fish Inc                     2  Bar Food\n",
      "Big Goat Corporation                3  Vegetarian\n",
      "Sandwich State Inc                  2  Vegetarian\n",
      "Fish Fun Company                    2  Pizza\n",
      "Goat Tastey Inc                     4  Fast Food\n",
      "Pizza State Inc                     4  Sushi Bar\n",
      "Sandwich Lazy Inc                   4  Pizza\n",
      "City Animal Inc                     2  Vegetarian\n",
      "Goat Kitchen Inc                    4  Pizza\n",
      "Animal Fish Inc                     3  Bar Food\n",
      "Lazy Kitchen Corporation            1  Pizza\n",
      "Kitchen City Inc                    5  Pizza\n",
      "City Fun Inc                        1  Vegetarian\n",
      "Lazy Pizza Company                  4  Sushi Bar\n",
      "State Lazy Inc                      2  Vegetarian\n",
      "State Goat Corporation              1  Mexican\n",
      "Goat Salty LLC                      1  Vegetarian\n",
      "State Salty LLC                     5  Sushi Bar\n",
      "City Pizza LLC                      4  Italian\n",
      "Tastey City Inc                     2  Fast Food\n",
      "Pizza Kitchen Company               3  Italian\n",
      "Salty Lazy Corporation              1  Italian\n",
      "Pizza Animal Company                4  Mexican\n",
      "City Sandwich Corporation           5  Vegetarian\n",
      "Sandwich Tastey Inc                 4  Mexican\n",
      "Salty Big LLC                       2  Mexican\n",
      "Sandwich Animal LLC                 5  Sushi Bar\n",
      "Big Salty Inc                       3  Fast Food\n",
      "Sandwich Salty LLC                  4  American\n",
      "Fish Big Inc                        2  American\n",
      "Big Lazy Corporation                4  Fast Food\n",
      "Kitchen Big Corporation             3  Italian\n",
      "Lazy Tastey Company                 5  Mexican\n",
      "Fun Tastey LLC                      5  Sushi Bar\n",
      "State Sandwich LLC                  5  Mexican\n",
      "Kitchen City Inc                    5  Bar Food\n",
      "Sandwich Tastey Corporation         2  Mexican\n",
      "Pizza State Company                 5  Italian\n",
      "Tastey State LLC                    2  Pizza\n",
      "Animal Animal LLC                   4  Sushi Bar\n",
      "Goat Lazy LLC                       5  American\n",
      "Goat Fun Company                    3  Italian\n",
      "Big Goat Company                    4  Fast Food\n",
      "Kitchen Goat Corporation            2  Sushi Bar\n",
      "Lazy City Inc                       4  Vegetarian\n",
      "State Pizza Company                 3  Vegetarian\n",
      "Fish Tastey Corporation             2  Italian\n",
      "Tastey Tastey Corporation           2  American\n",
      "Pizza Fish Corporation              1  Bar Food\n",
      "Fun Salty Corporation               4  Italian\n",
      "Salty Lazy LLC                      1  Pizza\n",
      "City State Corporation              3  Pizza\n",
      "Tastey Fun Inc                      3  Mexican\n",
      "Pizza Tastey LLC                    2  American\n",
      "Goat Big Inc                        2  Pizza\n",
      "Kitchen Sandwich LLC                2  Fast Food\n",
      "Fun Big Corporation                 2  Vegetarian\n",
      "Tastey Fun Corporation              4  Vegetarian\n",
      "Fish Fish Corporation               4  Pizza\n",
      "Animal Animal Corporation           5  Vegetarian\n",
      "Animal Animal Company               2  Italian\n",
      "Goat Sandwich Inc                   2  American\n",
      "Pizza Goat LLC                      5  Fast Food\n",
      "Fun Kitchen Corporation             3  Fast Food\n",
      "Big Fish Corporation                4  Italian\n",
      "Fish Big Company                    5  Fast Food\n",
      "Fun Tastey Corporation              1  Mexican\n",
      "Lazy Big Company                    1  American\n",
      "Fun Lazy LLC                        5  Mexican\n",
      "Fun Lazy LLC                        4  Bar Food\n",
      "State Tastey Inc                    2  Vegetarian\n",
      "Fish Fish LLC                       2  American\n",
      "Big Pizza Inc                       1  Vegetarian\n",
      "Big City Company                    1  Italian\n",
      "Kitchen Tastey LLC                  4  Vegetarian\n",
      "City Lazy LLC                       5  Mexican\n",
      "Tastey Kitchen Company              5  Sushi Bar\n",
      "City Fish Corporation               5  Mexican\n",
      "Salty Fish Inc                      2  Italian\n",
      "Fish City LLC                       1  Vegetarian\n",
      "Lazy Kitchen Inc                    4  Fast Food\n",
      "Pizza Goat Corporation              2  Pizza\n",
      "Animal Big Corporation              2  Bar Food\n",
      "Animal Salty LLC                    5  American\n",
      "Big Kitchen LLC                     5  Bar Food\n",
      "State Fish LLC                      1  Fast Food\n",
      "Goat Kitchen Inc                    3  Mexican\n",
      "Tastey City Inc                     4  Bar Food\n",
      "City City Corporation               4  Italian\n",
      "Fun Goat Inc                        2  Bar Food\n",
      "Goat Lazy Corporation               4  Fast Food\n",
      "Sandwich Big LLC                    3  American\n",
      "Sandwich Goat Company               2  Pizza\n",
      "Salty Pizza Company                 2  Bar Food\n",
      "Goat Big LLC                        1  Vegetarian\n"
     ]
    }
   ],
   "source": [
    "cursor = db.reviews.find()\n",
    "consulta=[]\n",
    "for doc in cursor:\n",
    "    consulta.append([doc['name'], doc['rating'], doc['cuisine']])\n",
    "    \n",
    "print(tabulate(consulta,headers=[\"Name\", \"Rating\", \"Cuisine\"]))"
   ]
  },
  {
   "cell_type": "markdown",
   "metadata": {},
   "source": [
    "# Agregación (en más profundidad)\n",
    "Formas de hacer consultas de agregación en MongoDB:\n",
    " + **MapReduce**: Modelo muy potente, utilizado por Google y está en la base de Hadoop (veremos más en su momento)\n",
    " + *Aggregation pipeline*: Más parecido a SQL y más sencillo."
   ]
  },
  {
   "cell_type": "markdown",
   "metadata": {},
   "source": [
    "Formato de una consulta de agregación es:\n",
    "```\n",
    "db.coleccion.aggregate([<pipeline>])\n",
    "```\n",
    "\n",
    "Pipeline:\n",
    "\n",
    "Comando 1 $\\to$ Comando 2 $\\to$ Comando 3 $\\to$ ..."
   ]
  },
  {
   "cell_type": "markdown",
   "metadata": {},
   "source": [
    "Etapas de la pipeline:\n",
    " + `$project` - Selecciona campos específicos de una colección (`SELECT`)\n",
    " + `$match` - Define un filtro (similar `find` / `WHERE` en SQL)\n",
    " + `$group` - Agrupa los documentos según una determinada condición (`GROUP BY`)\n",
    " + `$sort` - Ordena los documentos\n",
    " + `$skip`, `$limit` - Acotan el número de documentos que saca (`$skip` dice donde empieza y `$limit` cuántos saca).\n",
    " + `$unwind` - Separa un array en documentos (\"deshace el `JOIN`\")\n",
    " \n",
    "https://docs.mongodb.com/manual/reference/operator/aggregation-pipeline/"
   ]
  },
  {
   "cell_type": "markdown",
   "metadata": {},
   "source": [
    "## Ejemplo:"
   ]
  },
  {
   "cell_type": "code",
   "execution_count": 80,
   "metadata": {},
   "outputs": [],
   "source": [
    "documentos= [{ \"_id\": 1, \"cust_id\": \"abc1\", \"status\": \"A\", \"amount\": 50 },\n",
    "{ \"_id\": 2, \"cust_id\": \"xyz1\", \"status\": \"A\", \"amount\": 100 },\n",
    "{ \"_id\": 3, \"cust_id\": \"xyz1\", \"status\": \"D\", \"amount\": 25 },\n",
    "{ \"_id\": 4, \"cust_id\": \"xyz1\", \"status\": \"D\", \"amount\": 125 },\n",
    "{ \"_id\": 5, \"cust_id\": \"abc1\", \"status\": \"A\", \"amount\": 25 }]"
   ]
  },
  {
   "cell_type": "code",
   "execution_count": 81,
   "metadata": {},
   "outputs": [],
   "source": [
    "db = client.inventario"
   ]
  },
  {
   "cell_type": "code",
   "execution_count": 82,
   "metadata": {},
   "outputs": [
    {
     "data": {
      "text/plain": [
       "<pymongo.results.InsertManyResult at 0x7f2dd0ac0ec8>"
      ]
     },
     "execution_count": 82,
     "metadata": {},
     "output_type": "execute_result"
    }
   ],
   "source": [
    "db.orders.insert_many(documentos)"
   ]
  },
  {
   "cell_type": "code",
   "execution_count": 83,
   "metadata": {},
   "outputs": [
    {
     "name": "stdout",
     "output_type": "stream",
     "text": [
      "  ID  Customer ID    Status      Amount\n",
      "----  -------------  --------  --------\n",
      "   1  abc1           A               50\n",
      "   2  xyz1           A              100\n",
      "   3  xyz1           D               25\n",
      "   4  xyz1           D              125\n",
      "   5  abc1           A               25\n"
     ]
    }
   ],
   "source": [
    "cursor = db.orders.find()\n",
    "consulta = []\n",
    "for doc in cursor:\n",
    "    consulta.append([doc['_id'],doc['cust_id'],doc['status'],doc['amount']])\n",
    "\n",
    "print(tabulate(consulta,headers = [\"ID\", \"Customer ID\", \"Status\", \"Amount\"]))"
   ]
  },
  {
   "cell_type": "markdown",
   "metadata": {},
   "source": [
    "### Agrupar y sumar"
   ]
  },
  {
   "cell_type": "markdown",
   "metadata": {},
   "source": [
    "Vamos a seleccionar documentos con status \"A\", los agrupamos por el Customer ID y los sacamos en orden descendente."
   ]
  },
  {
   "cell_type": "code",
   "execution_count": 84,
   "metadata": {},
   "outputs": [
    {
     "data": {
      "text/plain": [
       "<pymongo.command_cursor.CommandCursor at 0x7f2dd0a91e48>"
      ]
     },
     "execution_count": 84,
     "metadata": {},
     "output_type": "execute_result"
    }
   ],
   "source": [
    "db.orders.aggregate([\n",
    "    { \"$match\": {\"status\": \"A\"}},\n",
    "    {\"$group\": {\"_id\": \"$cust_id\", \"total\": {\"$sum\": \"$amount\"}}},\n",
    "    {\"$sort\": {\"total\": -1}}\n",
    "])"
   ]
  },
  {
   "cell_type": "code",
   "execution_count": 85,
   "metadata": {},
   "outputs": [],
   "source": [
    "cursor = db.orders.aggregate([\n",
    "    { \"$match\": {\"status\": \"A\"}},\n",
    "    {\"$group\": {\"_id\": \"$cust_id\", \"total\": {\"$sum\": \"$amount\"}}},\n",
    "    {\"$sort\": {\"total\": -1}}\n",
    "])"
   ]
  },
  {
   "cell_type": "code",
   "execution_count": 86,
   "metadata": {},
   "outputs": [
    {
     "name": "stdout",
     "output_type": "stream",
     "text": [
      "{'_id': 'xyz1', 'total': 100}\n",
      "{'_id': 'abc1', 'total': 75}\n"
     ]
    }
   ],
   "source": [
    "for doc in cursor:\n",
    "    pprint.pprint(doc)"
   ]
  }
 ],
 "metadata": {
  "kernelspec": {
   "display_name": "Python 3",
   "language": "python",
   "name": "python3"
  },
  "language_info": {
   "codemirror_mode": {
    "name": "ipython",
    "version": 3
   },
   "file_extension": ".py",
   "mimetype": "text/x-python",
   "name": "python",
   "nbconvert_exporter": "python",
   "pygments_lexer": "ipython3",
   "version": "3.7.3"
  }
 },
 "nbformat": 4,
 "nbformat_minor": 2
}
