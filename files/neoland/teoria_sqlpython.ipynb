{
 "cells": [
  {
   "cell_type": "markdown",
   "metadata": {},
   "source": [
    "# Conectar Python con SQL"
   ]
  },
  {
   "cell_type": "markdown",
   "metadata": {},
   "source": [
    "Vamos a usar la librería `sqlite3`, que está instalada por defecto en Python."
   ]
  },
  {
   "cell_type": "code",
   "execution_count": 17,
   "metadata": {},
   "outputs": [],
   "source": [
    "import sqlite3"
   ]
  },
  {
   "cell_type": "markdown",
   "metadata": {},
   "source": [
    "Ahora vamos a crear un conector."
   ]
  },
  {
   "cell_type": "code",
   "execution_count": 18,
   "metadata": {},
   "outputs": [],
   "source": [
    "conn = sqlite3.connect(':memory:')"
   ]
  },
  {
   "cell_type": "markdown",
   "metadata": {},
   "source": [
    "Aquí trabajamos con una base de datos \"temporal\", cargada en memoria."
   ]
  },
  {
   "cell_type": "markdown",
   "metadata": {},
   "source": [
    "Si queremos trabajar en una base de datos concreta hacemos lo siguiente:"
   ]
  },
  {
   "cell_type": "code",
   "execution_count": 12,
   "metadata": {},
   "outputs": [],
   "source": [
    "conn = sqlite3.connect('empleados.db')"
   ]
  },
  {
   "cell_type": "markdown",
   "metadata": {},
   "source": [
    "(Si no está creada ya nos la crea)"
   ]
  },
  {
   "cell_type": "code",
   "execution_count": 19,
   "metadata": {},
   "outputs": [],
   "source": [
    "c = conn.cursor()"
   ]
  },
  {
   "cell_type": "markdown",
   "metadata": {},
   "source": [
    "Un string entre tres comillas \n",
    "```python\n",
    "\"\"\" Hola\n",
    "esto es un \n",
    "string \"\"\"\n",
    "```\n",
    "Es lo que se llama un `docstring` y es un string que se puede escribir en varias líneas"
   ]
  },
  {
   "cell_type": "code",
   "execution_count": 20,
   "metadata": {},
   "outputs": [],
   "source": [
    "docstring= \"\"\" Esto\n",
    "es un \n",
    "docstring.\n",
    "\n",
    "\n",
    "Hola qué tal.\n",
    "\n",
    "\n",
    "----Hola-----\"\"\""
   ]
  },
  {
   "cell_type": "code",
   "execution_count": 21,
   "metadata": {},
   "outputs": [
    {
     "name": "stdout",
     "output_type": "stream",
     "text": [
      " Esto\n",
      "es un \n",
      "docstring.\n",
      "\n",
      "\n",
      "Hola qué tal.\n",
      "\n",
      "\n",
      "----Hola-----\n"
     ]
    }
   ],
   "source": [
    "print(docstring)"
   ]
  },
  {
   "cell_type": "markdown",
   "metadata": {},
   "source": [
    "Vamos a crear una tabla:"
   ]
  },
  {
   "cell_type": "code",
   "execution_count": 22,
   "metadata": {},
   "outputs": [
    {
     "data": {
      "text/plain": [
       "<sqlite3.Cursor at 0x7fbd8c1792d0>"
      ]
     },
     "execution_count": 22,
     "metadata": {},
     "output_type": "execute_result"
    }
   ],
   "source": [
    "c.execute(\"\"\"CREATE TABLE empleados(\n",
    "nombre text,\n",
    "apellido text,\n",
    "sueldo integer\n",
    ")\n",
    "\"\"\")"
   ]
  },
  {
   "cell_type": "markdown",
   "metadata": {},
   "source": [
    "En SQLite los tipos son distintos que en MySQL.\n",
    "https://www.sqlite.org/datatype3.html"
   ]
  },
  {
   "cell_type": "code",
   "execution_count": 23,
   "metadata": {},
   "outputs": [],
   "source": [
    "conn.commit()"
   ]
  },
  {
   "cell_type": "markdown",
   "metadata": {},
   "source": [
    "Cerramos el conector:"
   ]
  },
  {
   "cell_type": "code",
   "execution_count": 24,
   "metadata": {},
   "outputs": [],
   "source": [
    "conn.close()"
   ]
  },
  {
   "cell_type": "code",
   "execution_count": 25,
   "metadata": {},
   "outputs": [],
   "source": [
    "conn = sqlite3.connect(':memory:')\n",
    "c= conn.cursor()\n",
    "\n",
    "c.execute(\"\"\"CREATE TABLE empleados(\n",
    "nombre text,\n",
    "apellido text,\n",
    "sueldo integer\n",
    ")\n",
    "\"\"\")\n",
    "\n",
    "conn.commit()\n",
    "\n",
    "conn.close()"
   ]
  },
  {
   "cell_type": "markdown",
   "metadata": {},
   "source": [
    "Ahora vamos a añadir un empleado:"
   ]
  },
  {
   "cell_type": "code",
   "execution_count": 27,
   "metadata": {},
   "outputs": [],
   "source": [
    "conn = sqlite3.connect(':memory:')\n",
    "c= conn.cursor()\n",
    "\n",
    "c.execute(\"\"\"CREATE TABLE empleados(\n",
    "nombre text,\n",
    "apellido text,\n",
    "sueldo integer\n",
    ")\n",
    "\"\"\")\n",
    "\n",
    "c.execute(\"INSERT INTO empleados VALUES ('Juan','López',50000)\")\n",
    "\n",
    "conn.commit()\n",
    "\n",
    "conn.close()"
   ]
  },
  {
   "cell_type": "markdown",
   "metadata": {},
   "source": [
    "Vamos a hacer una consulta:"
   ]
  },
  {
   "cell_type": "code",
   "execution_count": 28,
   "metadata": {},
   "outputs": [],
   "source": [
    "conn = sqlite3.connect(':memory:')\n",
    "c= conn.cursor()\n",
    "\n",
    "c.execute(\"\"\"CREATE TABLE empleados(\n",
    "nombre text,\n",
    "apellido text,\n",
    "sueldo integer\n",
    ")\n",
    "\"\"\")\n",
    "\n",
    "c.execute(\"INSERT INTO empleados VALUES ('Juan','López',50000)\")\n",
    "conn.commit()\n",
    "\n",
    "c.execute(\"SELECT * FROM empleados\")\n",
    "\n",
    "conn.close()"
   ]
  },
  {
   "cell_type": "markdown",
   "metadata": {},
   "source": [
    "Para sacar el valor de la consulta usamos `fetchone`"
   ]
  },
  {
   "cell_type": "code",
   "execution_count": 29,
   "metadata": {},
   "outputs": [
    {
     "name": "stdout",
     "output_type": "stream",
     "text": [
      "('Juan', 'López', 50000)\n"
     ]
    }
   ],
   "source": [
    "conn = sqlite3.connect(':memory:')\n",
    "c= conn.cursor()\n",
    "\n",
    "c.execute(\"\"\"CREATE TABLE empleados(\n",
    "nombre text,\n",
    "apellido text,\n",
    "sueldo integer\n",
    ")\n",
    "\"\"\")\n",
    "\n",
    "c.execute(\"INSERT INTO empleados VALUES ('Juan','López',50000)\")\n",
    "conn.commit()\n",
    "\n",
    "c.execute(\"SELECT * FROM empleados\")\n",
    "\n",
    "print(c.fetchone())\n",
    "\n",
    "conn.close()"
   ]
  },
  {
   "cell_type": "code",
   "execution_count": 32,
   "metadata": {},
   "outputs": [
    {
     "name": "stdout",
     "output_type": "stream",
     "text": [
      "('Juan', 'López', 50000)\n"
     ]
    }
   ],
   "source": [
    "conn = sqlite3.connect(':memory:')\n",
    "c= conn.cursor()\n",
    "\n",
    "c.execute(\"\"\"CREATE TABLE empleados(\n",
    "nombre text,\n",
    "apellido text,\n",
    "sueldo integer\n",
    ")\n",
    "\"\"\")\n",
    "\n",
    "c.execute(\"INSERT INTO empleados VALUES ('Juan','López',50000)\")\n",
    "#conn.commit()\n",
    "\n",
    "c.execute(\"SELECT * FROM empleados\")\n",
    "\n",
    "print(c.fetchone())\n",
    "\n",
    "conn.close()"
   ]
  },
  {
   "cell_type": "code",
   "execution_count": 35,
   "metadata": {},
   "outputs": [
    {
     "name": "stdout",
     "output_type": "stream",
     "text": [
      "('Juan', 'López', 50000)\n"
     ]
    }
   ],
   "source": [
    "conn = sqlite3.connect('empleados3.db')\n",
    "c= conn.cursor()\n",
    "\n",
    "c.execute(\"\"\"CREATE TABLE empleados(\n",
    "nombre text,\n",
    "apellido text,\n",
    "sueldo integer\n",
    ")\n",
    "\"\"\")\n",
    "\n",
    "c.execute(\"INSERT INTO empleados VALUES ('Juan','López',50000)\")\n",
    "conn.commit()\n",
    "\n",
    "c.execute(\"SELECT * FROM empleados\")\n",
    "\n",
    "print(c.fetchone())\n",
    "\n",
    "conn.close()"
   ]
  },
  {
   "cell_type": "code",
   "execution_count": 37,
   "metadata": {},
   "outputs": [
    {
     "name": "stdout",
     "output_type": "stream",
     "text": [
      "('Juan', 'López', 50000)\n"
     ]
    }
   ],
   "source": [
    "conn = sqlite3.connect(':memory:')\n",
    "c= conn.cursor()\n",
    "\n",
    "c.execute(\"\"\"CREATE TABLE empleados(\n",
    "nombre text,\n",
    "apellido text,\n",
    "sueldo integer\n",
    ")\n",
    "\"\"\")\n",
    "\n",
    "c.execute(\"\"\"INSERT INTO empleados VALUES \n",
    "            ('Juan','López',50000),\n",
    "            ('María', 'López', 40000),\n",
    "            ('Pedro','Pérez', 30000),\n",
    "            ('Eduardo','Campuzano', 10),\n",
    "            ('Guillermo','Gallego',1000000000),\n",
    "            ('Fulanito', 'de Tal', 100000000000)\"\"\")\n",
    "\n",
    "conn.commit()\n",
    "\n",
    "c.execute(\"SELECT * FROM empleados\")\n",
    "\n",
    "print(c.fetchone()) # fetchone me saca uno solo\n",
    "\n",
    "conn.close()"
   ]
  },
  {
   "cell_type": "markdown",
   "metadata": {},
   "source": [
    "Si quiero sacar varios uso `fetchmany`"
   ]
  },
  {
   "cell_type": "code",
   "execution_count": 38,
   "metadata": {},
   "outputs": [
    {
     "name": "stdout",
     "output_type": "stream",
     "text": [
      "[('Juan', 'López', 50000), ('María', 'López', 40000), ('Pedro', 'Pérez', 30000), ('Eduardo', 'Campuzano', 10), ('Guillermo', 'Gallego', 1000000000)]\n"
     ]
    }
   ],
   "source": [
    "conn = sqlite3.connect(':memory:')\n",
    "c= conn.cursor()\n",
    "\n",
    "c.execute(\"\"\"CREATE TABLE empleados(\n",
    "nombre text,\n",
    "apellido text,\n",
    "sueldo integer\n",
    ")\n",
    "\"\"\")\n",
    "\n",
    "c.execute(\"\"\"INSERT INTO empleados VALUES \n",
    "            ('Juan','López',50000),\n",
    "            ('María', 'López', 40000),\n",
    "            ('Pedro','Pérez', 30000),\n",
    "            ('Eduardo','Campuzano', 10),\n",
    "            ('Guillermo','Gallego',1000000000),\n",
    "            ('Fulanito', 'de Tal', 100000000000)\"\"\")\n",
    "\n",
    "conn.commit()\n",
    "\n",
    "c.execute(\"SELECT * FROM empleados\")\n",
    "\n",
    "print(c.fetchmany(5))\n",
    "\n",
    "conn.close()"
   ]
  },
  {
   "cell_type": "markdown",
   "metadata": {},
   "source": [
    "Si quiero sacar todos, uso fetchall"
   ]
  },
  {
   "cell_type": "code",
   "execution_count": 39,
   "metadata": {},
   "outputs": [
    {
     "name": "stdout",
     "output_type": "stream",
     "text": [
      "[('Juan', 'López', 50000), ('María', 'López', 40000), ('Pedro', 'Pérez', 30000), ('Eduardo', 'Campuzano', 10), ('Guillermo', 'Gallego', 1000000000), ('Fulanito', 'de Tal', 100000000000)]\n"
     ]
    }
   ],
   "source": [
    "conn = sqlite3.connect(':memory:')\n",
    "c= conn.cursor()\n",
    "\n",
    "c.execute(\"\"\"CREATE TABLE empleados(\n",
    "nombre text,\n",
    "apellido text,\n",
    "sueldo integer\n",
    ")\n",
    "\"\"\")\n",
    "\n",
    "c.execute(\"\"\"INSERT INTO empleados VALUES \n",
    "            ('Juan','López',50000),\n",
    "            ('María', 'López', 40000),\n",
    "            ('Pedro','Pérez', 30000),\n",
    "            ('Eduardo','Campuzano', 10),\n",
    "            ('Guillermo','Gallego',1000000000),\n",
    "            ('Fulanito', 'de Tal', 100000000000)\"\"\")\n",
    "\n",
    "conn.commit()\n",
    "\n",
    "c.execute(\"SELECT * FROM empleados\")\n",
    "\n",
    "print(c.fetchall()) \n",
    "\n",
    "conn.close()"
   ]
  },
  {
   "cell_type": "markdown",
   "metadata": {},
   "source": [
    "Puedo hacer consultas"
   ]
  },
  {
   "cell_type": "code",
   "execution_count": 40,
   "metadata": {},
   "outputs": [
    {
     "name": "stdout",
     "output_type": "stream",
     "text": [
      "[('Juan', 'López', 50000), ('María', 'López', 40000)]\n"
     ]
    }
   ],
   "source": [
    "conn = sqlite3.connect(':memory:')\n",
    "c= conn.cursor()\n",
    "\n",
    "c.execute(\"\"\"CREATE TABLE empleados(\n",
    "nombre text,\n",
    "apellido text,\n",
    "sueldo integer\n",
    ")\n",
    "\"\"\")\n",
    "\n",
    "c.execute(\"\"\"INSERT INTO empleados VALUES \n",
    "            ('Juan','López',50000),\n",
    "            ('María', 'López', 40000),\n",
    "            ('Pedro','Pérez', 30000),\n",
    "            ('Eduardo','Campuzano', 10),\n",
    "            ('Guillermo','Gallego',1000000000),\n",
    "            ('Fulanito', 'de Tal', 100000000000)\"\"\")\n",
    "\n",
    "conn.commit()\n",
    "\n",
    "c.execute(\"SELECT * FROM empleados WHERE apellido='López'\")\n",
    "\n",
    "print(c.fetchall()) \n",
    "\n",
    "conn.close()"
   ]
  },
  {
   "cell_type": "markdown",
   "metadata": {},
   "source": [
    "Una forma interesante de interactuar con una base de datos es usando clases"
   ]
  },
  {
   "cell_type": "code",
   "execution_count": 41,
   "metadata": {},
   "outputs": [],
   "source": [
    "class Empleado:\n",
    "    def __init__(self,nombre,apellido,sueldo):\n",
    "        self.nombre = nombre\n",
    "        self.apellido = apellido\n",
    "        self.sueldo = sueldo"
   ]
  },
  {
   "cell_type": "code",
   "execution_count": 44,
   "metadata": {},
   "outputs": [
    {
     "name": "stdout",
     "output_type": "stream",
     "text": [
      "Don\n",
      "Nadie\n",
      "3000\n",
      "[('Don', 'Nadie', 3000), ('Doña', 'Nadie', 2000)]\n"
     ]
    }
   ],
   "source": [
    "conn = sqlite3.connect(':memory:')\n",
    "c = conn.cursor()\n",
    "\n",
    "emp1 = Empleado('Don', 'Nadie', 3000)\n",
    "emp2 = Empleado('Doña', 'Nadie', 2000)\n",
    "\n",
    "c.execute(\"\"\"CREATE TABLE empleados(\n",
    "nombre text,\n",
    "apellido text,\n",
    "sueldo integer\n",
    ")\"\"\")\n",
    "\n",
    "print(emp1.nombre)\n",
    "print(emp1.apellido)\n",
    "print(emp1.sueldo)\n",
    "\n",
    "# Introduzco valores en la tabla:\n",
    "c.execute(\"INSERT INTO empleados VALUES (:nombre,:apellido,:sueldo)\",\n",
    "         {'nombre':emp1.nombre, 'apellido':emp1.apellido, 'sueldo':emp1.sueldo})\n",
    "conn.commit()\n",
    "\n",
    "c.execute(\"INSERT INTO empleados VALUES (:nombre,:apellido,:sueldo)\",\n",
    "         {'nombre':emp2.nombre, 'apellido':emp2.apellido, 'sueldo':emp2.sueldo})\n",
    "conn.commit()\n",
    "\n",
    "# Hago una consulta: (los que tengan el mismo apellido que emp1)\n",
    "c.execute(\"SELECT * FROM empleados WHERE apellido = :apellido\",{'apellido':emp1.apellido})\n",
    "\n",
    "print(c.fetchall()) \n",
    "\n",
    "conn.commit()\n",
    "conn.close()"
   ]
  },
  {
   "cell_type": "markdown",
   "metadata": {},
   "source": [
    "Voy a definir unas funciones para automatizar estos procedimientos"
   ]
  },
  {
   "cell_type": "markdown",
   "metadata": {},
   "source": [
    "Una función para insertar empleados:"
   ]
  },
  {
   "cell_type": "code",
   "execution_count": 46,
   "metadata": {},
   "outputs": [],
   "source": [
    "def insert_emp(emp):\n",
    "    c.execute(\"INSERT INTO empleados VALUES (:nombre,:apellido,:sueldo)\",\n",
    "              {'nombre':emp.nombre,'apellido':emp.apellido, 'sueldo':emp.sueldo})"
   ]
  },
  {
   "cell_type": "markdown",
   "metadata": {},
   "source": [
    "Una función que haga una consulta de los empleados por apellido:"
   ]
  },
  {
   "cell_type": "code",
   "execution_count": 80,
   "metadata": {},
   "outputs": [],
   "source": [
    "def get_emps_by_name(apellido):\n",
    "    c.execute(\"SELECT * FROM empleados WHERE apellido=:apellido\", {'apellido':apellido})\n",
    "    return c.fetchall()"
   ]
  },
  {
   "cell_type": "markdown",
   "metadata": {},
   "source": [
    "Una función para actualizar el sueldo de un empleado:"
   ]
  },
  {
   "cell_type": "code",
   "execution_count": 50,
   "metadata": {},
   "outputs": [],
   "source": [
    "def update_pay(emp, sueldo):\n",
    "    emp.sueldo = sueldo\n",
    "    c.execute(\"\"\"UPDATE empleados SET sueldo = :sueldo\n",
    "              WHERE nombre=:nombre AND apellido = :apellido\"\"\",\n",
    "             {'sueldo':emp.sueldo,'nombre': emp.nombre, 'apellido': emp.apellido})"
   ]
  },
  {
   "cell_type": "markdown",
   "metadata": {},
   "source": [
    "Una función para eliminar a un empleado:"
   ]
  },
  {
   "cell_type": "code",
   "execution_count": 54,
   "metadata": {},
   "outputs": [],
   "source": [
    "def remove_emp(emp):\n",
    "    c.execute(\"\"\"DELETE FROM empleados WHERE nombre=:nombre AND apellido= :apellido\"\"\",\n",
    "             {'nombre':emp.nombre, 'apellido':emp.apellido})"
   ]
  },
  {
   "cell_type": "markdown",
   "metadata": {},
   "source": [
    "Vamos a usar las funciones que hemos definido:"
   ]
  },
  {
   "cell_type": "code",
   "execution_count": 90,
   "metadata": {},
   "outputs": [
    {
     "data": {
      "text/plain": [
       "<sqlite3.Cursor at 0x7fbd8c179b90>"
      ]
     },
     "execution_count": 90,
     "metadata": {},
     "output_type": "execute_result"
    }
   ],
   "source": [
    "conn=sqlite3.connect(':memory:')\n",
    "c=conn.cursor()\n",
    "\n",
    "c.execute(\"\"\"CREATE TABLE empleados(\n",
    "nombre text,\n",
    "apellido text,\n",
    "sueldo integer\n",
    ")\"\"\")"
   ]
  },
  {
   "cell_type": "markdown",
   "metadata": {},
   "source": [
    "Me defino unos empleados:"
   ]
  },
  {
   "cell_type": "code",
   "execution_count": 91,
   "metadata": {},
   "outputs": [],
   "source": [
    "emp0 = Empleado('Zutanito', 'Pérez', 10000)"
   ]
  },
  {
   "cell_type": "code",
   "execution_count": 92,
   "metadata": {},
   "outputs": [],
   "source": [
    "lista_empleados = (Empleado('Juan','López',50000),\n",
    "                                        Empleado('María', 'López', 40000),\n",
    "                                        Empleado('Pedro','Pérez', 30000),\n",
    "                                        Empleado('Eduardo','Campuzano', 10),\n",
    "                                        Empleado('Guillermo','Gallego',1000000000),\n",
    "                                        Empleado('Fulanito', 'de Tal', 100000000000))"
   ]
  },
  {
   "cell_type": "markdown",
   "metadata": {},
   "source": [
    "Los introduzco en la base de datos:"
   ]
  },
  {
   "cell_type": "code",
   "execution_count": 93,
   "metadata": {},
   "outputs": [],
   "source": [
    "insert_emp(emp0)\n",
    "conn.commit()"
   ]
  },
  {
   "cell_type": "code",
   "execution_count": 94,
   "metadata": {},
   "outputs": [],
   "source": [
    "for emp in lista_empleados:\n",
    "    insert_emp(emp)\n",
    "    conn.commit()"
   ]
  },
  {
   "cell_type": "code",
   "execution_count": 95,
   "metadata": {},
   "outputs": [
    {
     "name": "stdout",
     "output_type": "stream",
     "text": [
      "[('Zutanito', 'Pérez', 10000), ('Pedro', 'Pérez', 30000)]\n"
     ]
    }
   ],
   "source": [
    "consulta_empleados = get_emps_by_name('Pérez')\n",
    "print(consulta_empleados)"
   ]
  },
  {
   "cell_type": "code",
   "execution_count": 96,
   "metadata": {},
   "outputs": [
    {
     "name": "stdout",
     "output_type": "stream",
     "text": [
      "[('Juan', 'López', 50000), ('María', 'López', 40000)]\n"
     ]
    }
   ],
   "source": [
    "consulta_empleados = get_emps_by_name('López')\n",
    "print(consulta_empleados)"
   ]
  },
  {
   "cell_type": "code",
   "execution_count": 98,
   "metadata": {},
   "outputs": [],
   "source": [
    "edu=lista_empleados[3]"
   ]
  },
  {
   "cell_type": "code",
   "execution_count": 99,
   "metadata": {},
   "outputs": [],
   "source": [
    "update_pay(edu,3000000000)"
   ]
  },
  {
   "cell_type": "code",
   "execution_count": 100,
   "metadata": {},
   "outputs": [
    {
     "name": "stdout",
     "output_type": "stream",
     "text": [
      "[('Eduardo', 'Campuzano', 3000000000)]\n"
     ]
    }
   ],
   "source": [
    "consulta_empleados = get_emps_by_name('Campuzano')\n",
    "print(consulta_empleados)"
   ]
  },
  {
   "cell_type": "code",
   "execution_count": 102,
   "metadata": {},
   "outputs": [
    {
     "data": {
      "text/plain": [
       "'Guillermo'"
      ]
     },
     "execution_count": 102,
     "metadata": {},
     "output_type": "execute_result"
    }
   ],
   "source": [
    "guille = lista_empleados[4]\n",
    "guille.nombre"
   ]
  },
  {
   "cell_type": "code",
   "execution_count": 103,
   "metadata": {},
   "outputs": [],
   "source": [
    "remove_emp(guille)"
   ]
  },
  {
   "cell_type": "code",
   "execution_count": 104,
   "metadata": {},
   "outputs": [
    {
     "name": "stdout",
     "output_type": "stream",
     "text": [
      "[('Zutanito', 'Pérez', 10000), ('Juan', 'López', 50000), ('María', 'López', 40000), ('Pedro', 'Pérez', 30000), ('Eduardo', 'Campuzano', 3000000000), ('Fulanito', 'de Tal', 100000000000)]\n"
     ]
    }
   ],
   "source": [
    "c.execute(\"SELECT * FROM empleados\")\n",
    "print(c.fetchall())"
   ]
  },
  {
   "cell_type": "code",
   "execution_count": 105,
   "metadata": {},
   "outputs": [],
   "source": [
    "conn.close()"
   ]
  },
  {
   "cell_type": "markdown",
   "metadata": {},
   "source": [
    "Para que lo saque \"bonito\" podemos usar el paquete `tabulate`, que se instala con\n",
    "```\n",
    "pip install tabulate\n",
    "```"
   ]
  },
  {
   "cell_type": "code",
   "execution_count": 106,
   "metadata": {},
   "outputs": [],
   "source": [
    "from tabulate import tabulate"
   ]
  },
  {
   "cell_type": "code",
   "execution_count": 107,
   "metadata": {},
   "outputs": [
    {
     "data": {
      "text/plain": [
       "'| Name   |   Age |\\n|--------+-------|\\n| Alicia |    24 |\\n| Bob    |    25 |'"
      ]
     },
     "execution_count": 107,
     "metadata": {},
     "output_type": "execute_result"
    }
   ],
   "source": [
    "tabulate([('Alicia',24),('Bob',25)],headers=['Name','Age'], tablefmt='orgtbl')"
   ]
  },
  {
   "cell_type": "code",
   "execution_count": 108,
   "metadata": {},
   "outputs": [
    {
     "name": "stdout",
     "output_type": "stream",
     "text": [
      "| Name   |   Age |\n",
      "|--------+-------|\n",
      "| Alicia |    24 |\n",
      "| Bob    |    25 |\n"
     ]
    }
   ],
   "source": [
    "print(tabulate([('Alicia',24),('Bob',25)],headers=['Name','Age'], tablefmt='orgtbl'))"
   ]
  },
  {
   "cell_type": "code",
   "execution_count": 115,
   "metadata": {},
   "outputs": [
    {
     "name": "stdout",
     "output_type": "stream",
     "text": [
      "Nombre    Apellido      Sueldo\n",
      "--------  ----------  --------\n",
      "Juan      López          50000\n",
      "María     López          40000\n",
      "\n",
      "\n",
      "Nombre    Apellido      Sueldo\n",
      "--------  ----------  --------\n",
      "María     López          90000\n"
     ]
    }
   ],
   "source": [
    "conn=sqlite3.connect(':memory:')\n",
    "c=conn.cursor()\n",
    "\n",
    "c.execute(\"\"\"CREATE TABLE empleados(\n",
    "nombre text,\n",
    "apellido text,\n",
    "sueldo integer\n",
    ")\"\"\")\n",
    "\n",
    "\n",
    "lista_empleados = (Empleado('Juan','López',50000),\n",
    "                                        Empleado('María', 'López', 40000),\n",
    "                                        Empleado('Pedro','Pérez', 30000),\n",
    "                                        Empleado('Eduardo','Campuzano', 10),\n",
    "                                        Empleado('Guillermo','Gallego',1000000000),\n",
    "                                        Empleado('Fulanito', 'de Tal', 100000000000))\n",
    "\n",
    "for emp in lista_empleados:\n",
    "    insert_emp(emp)\n",
    "    \n",
    "consulta=get_emps_by_name('López')\n",
    "print(tabulate(consulta, headers=['Nombre', 'Apellido', 'Sueldo']))\n",
    "\n",
    "print('\\n')\n",
    "\n",
    "update_pay(lista_empleados[1],90000)\n",
    "remove_emp(lista_empleados[0])\n",
    "consulta2 = get_emps_by_name('López')\n",
    "print(tabulate(consulta2, headers=['Nombre', 'Apellido', 'Sueldo']))\n",
    "\n",
    "conn.close()"
   ]
  },
  {
   "cell_type": "code",
   "execution_count": 118,
   "metadata": {},
   "outputs": [
    {
     "data": {
      "text/markdown": [
       "| Nombre   | Apellido   |   Sueldo |\n",
       "|----------|------------|----------|\n",
       "| Juan     | López      |    50000 |\n",
       "| María    | López      |    40000 |"
      ],
      "text/plain": [
       "<IPython.core.display.Markdown object>"
      ]
     },
     "metadata": {},
     "output_type": "display_data"
    }
   ],
   "source": [
    "from IPython.display import display, Markdown\n",
    "\n",
    "display(Markdown(tabulate(consulta, headers=['Nombre', 'Apellido', 'Sueldo'], tablefmt='github')))"
   ]
  },
  {
   "cell_type": "code",
   "execution_count": null,
   "metadata": {},
   "outputs": [],
   "source": []
  }
 ],
 "metadata": {
  "kernelspec": {
   "display_name": "Python 3",
   "language": "python",
   "name": "python3"
  },
  "language_info": {
   "codemirror_mode": {
    "name": "ipython",
    "version": 3
   },
   "file_extension": ".py",
   "mimetype": "text/x-python",
   "name": "python",
   "nbconvert_exporter": "python",
   "pygments_lexer": "ipython3",
   "version": "3.7.3"
  }
 },
 "nbformat": 4,
 "nbformat_minor": 2
}
